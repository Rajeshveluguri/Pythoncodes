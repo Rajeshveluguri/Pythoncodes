{
 "cells": [
  {
   "cell_type": "markdown",
   "metadata": {
    "id": "tkSU_zshl1bK"
   },
   "source": [
    "<center><img src=\"https://gitlab.com/accredian/insaid-data/-/raw/main/Logo-Accredian/Case-Study-Cropped.png\" width= 30% /></center>\n",
    "\n",
    "\n",
    "# <center><b> Random Forest on Banking Dataset"
   ]
  },
  {
   "cell_type": "markdown",
   "metadata": {
    "id": "Rrs4ecLVxxyB"
   },
   "source": [
    "---\n",
    "# **Table of Contents**\n",
    "---\n",
    "\n",
    "**1.** [**Introduction**](#Section1)<br>\n",
    "**2.** [**Problem Statement**](#Section2)<br>\n",
    "**3.** [**Installing & Importing Libraries**](#Section3)<br>\n",
    "  - **3.1** [**Installing Libraries**](#Section31)\n",
    "  - **3.2** [**Upgrading Libraries**](#Section32)\n",
    "  - **3.3** [**Importing Libraries**](#Section33)\n",
    "\n",
    "**4.** [**Data Acquisition & Description**](#Section4)<br>\n",
    "  - **4.1** [**Data Description**](#Section41)\n",
    "  - **4.2** [**Data Information**](#Section42)\n",
    "\n",
    "**5.** [**Data Pre-processing**](#Section5)<br>\n",
    "  - **5.1** [**Data Pre-profiling**](#Section51)<br>\n",
    "  - **5.2** [**Data Cleaning**](#Section52)<br>\n",
    "  - **5.3** [**Data Post-profiling**](#Section53)<br>\n",
    "\n",
    "**6.** [**Exploratory Data Analysis**](#Section6)<br>\n",
    "**7.** [**Data Post-Processing**](#Section7)<br>\n",
    "  - **7.1** [**Data Encoding**](#Section71)<br>\n",
    "  - **7.2** [**Data Scaling**](#Section72)<br>\n",
    "  - **7.3** [**Data Preparation**](#Section73)<br>\n",
    "\n",
    "**8.** [**Model Development & Evaluation**](#Section8)<br>\n",
    "**9.** [**Summarization**](#Section9)<br>\n",
    "  - **9.1** [**Conclusion**](#Section91)<br>\n",
    "  - **9.2** [**Actionable Insights**](#Section92)<br>\n",
    "\n",
    "**10.** [**Random Forest (Regression Implementation)**](#Section10)<br>"
   ]
  },
  {
   "cell_type": "markdown",
   "metadata": {
    "id": "TtA6ebp2x1m1"
   },
   "source": [
    "---\n",
    "<a name = Section1></a>\n",
    "# **1. Introduction**\n",
    "---\n",
    "\n",
    "- Random forests or random decision forests are an **ensemble learning** method for classification, regression and other tasks.\n",
    "\n",
    "- It is a type of ensemble learning method, where a **group** of **weak models** **combine** to form a **powerful model**.\n",
    "\n",
    "- They operates by constructing a **multitude** of **decision trees** at training time.\n",
    "\n",
    "- They give **output** of the class that is the **mode** of the classes or **mean/average** prediction of the individual trees.\n",
    "\n",
    "<center><img src=\"https://miro.medium.com/max/1280/1*9kACduxnce_JdTrftM_bsA.gif\"></center>\n",
    "\n",
    "\n",
    "**<h3>Example:</h3>**\n",
    "\n",
    "- Let's say there is a guy named **Mukesh** who wants to **decide** **places** that he should **travel** during a **one-year vacation trip** in India.\n",
    "\n",
    "- He went to his best friend named **Lakhan** for **good advice** on traveling places in India.\n",
    "\n",
    "- Lakhan asked him to give some **details** such as which **places** he has **traveled** to in the **past** and whether he liked it or not.\n",
    "\n",
    "- Based on the information obtained from Mukesh he gave him some advice X.\n",
    "\n",
    "- This whole approach was traversed just like how a decision tree works.\n",
    "\n",
    "<center><img width=40% src=\"https://i.pinimg.com/originals/34/4f/00/344f00a12189ec55237e1a23df572789.gif\"></center>\n",
    "\n",
    "- Mukesh's friend created **IF-THEN rules** to guide him to make a good decision.\n",
    "\n",
    "- Afterward, Mukesh starts taking **more advice** from **different friends**.\n",
    "\n",
    "- The whole **process** of questionaries of past and likes/dislikes was **repeated** several times.\n",
    "\n",
    "- Then he chooses the places that are recommended the most to him, which is the typical Random Forest algorithm approach."
   ]
  },
  {
   "cell_type": "markdown",
   "metadata": {
    "id": "_e4njE0k20Km"
   },
   "source": [
    "**<h3>Advantages and Disadvantages</h3>**\n",
    "\n",
    "\n",
    "**<h4>Advantages</h4>**\n",
    "- It can be used for both **regression** and **classification** tasks.\n",
    "\n",
    "- It is easy to view the relative importance **classifier** assigns to the input features.\n",
    "\n",
    "- They handle the **missing** values on its own and understanding hyperparameter setting is easy.\n",
    "\n",
    "\n",
    "**<h4>Disadvantages</h4>**\n",
    "\n",
    "- A large number of trees can make the **algorithm** slow and **ineffective** for real-time predictions.\n",
    "\n",
    "- The **alogrithm** produces a predictive model and not a descriptive one i.e. explaining the model is **difficult**.\n",
    "\n",
    "- A **black box approach** for statistical modelers i.e. you have a very little **control** on what the model does."
   ]
  },
  {
   "cell_type": "markdown",
   "metadata": {
    "id": "6PD50alP7PbO"
   },
   "source": [
    "---\n",
    "<a name = Section2></a>\n",
    "# **2. Problem Statement**\n",
    "---\n",
    "\n",
    "- Term deposits are a **major** source of income for a bank. A term **deposit** is a cash investment held at a financial institution.\n",
    "\n",
    "- Your **money** is invested for an **agreed** rate of interest over a fixed amount of time, or term\n",
    "\n",
    "- The **bank** has various outreach plans to sell term deposits to their customers such as **email** marketing, **advertisements**, **telephonic** marketing and **digital** marketing.\n",
    "\n",
    "- Telephonic marketing **campaigns** still remain one of the most effective way to reach out to people. However, they **require** huge investment as large call centers are hired to actually **execute** these campaigns.\n",
    "\n",
    "- Hence, it is **crucial** to identify the **customers** most likely to convert beforehand so that they can be specifically targeted via call.\n",
    "\n",
    "<center><img src=\"https://i.pinimg.com/originals/ca/3e/56/ca3e56c1e4256b9e45a31320ee476e6c.gif\"></center>\n",
    "\n",
    "\n",
    "<a name = Section21></a>\n",
    "### **Scenario**\n",
    "\n",
    "- In the **banking** industry, marketing plays a crucial role in attracting new customers and promoting financial products. As a member of a **data science** team, you have been assigned the task of analyzing a dataset called \"Banking Dataset - Marketing Targets\" to gain insights into **customer behavior** and optimize marketing strategies.\n",
    "\n",
    "- The dataset contains information about **bank** clients and their responses to **marketing** campaigns. Each row represents a specific client and includes various **attributes** that provide valuable insights. Your **objective** is to analyze and **explore** the dataset to identify factors that **influence** whether a client subscribes to a term deposit or not.\n",
    "\n",
    "- The **primary goals** of your analysis are as follows:\n",
    "\n",
    "- **Statistical Analysis**: Conduct a **statistical analysis** to understand how specific groups of people are more likely to **subscribe** to a term deposit. Explore relationships between different features and the **target variable** to identify **patterns** and **correlations**.\n",
    "\n",
    "- **Exploratory Data Analysis**: Perform an in-depth **exploratory data analysis** of the dataset. Utilize visualizations and storytelling techniques to uncover meaningful insights and present them in a compelling manner.\n"
   ]
  },
  {
   "cell_type": "markdown",
   "metadata": {
    "id": "uqq_eeCl7T--"
   },
   "source": [
    "---\n",
    "<a name = Section3></a>\n",
    "# **3. Installing & Importing Libraries**\n",
    "---"
   ]
  },
  {
   "cell_type": "markdown",
   "metadata": {
    "id": "RM7-_O1X7Vvn"
   },
   "source": [
    "<a name = Section31></a>\n",
    "### **3.1 Installing Libraries**"
   ]
  },
  {
   "cell_type": "code",
   "execution_count": 4,
   "metadata": {
    "id": "EqWDecMZ5GXa"
   },
   "outputs": [],
   "source": [
    "!pip install -q datascience                                         \n",
    "!pip install -q pandas-profiling                                    \n",
    "!pip install -q yellowbrick                                         "
   ]
  },
  {
   "cell_type": "markdown",
   "metadata": {
    "id": "5LAMqJCd7Xcm"
   },
   "source": [
    "<a name = Section32></a>\n",
    "### **3.2 Upgrading Libraries**\n",
    "\n",
    "- **After upgrading** the libraries, you need to **restart the runtime** to make the libraries in sync.\n",
    "\n",
    "- Make sure not to execute the cell above (3.1) and below (3.2) again after restarting the runtime."
   ]
  },
  {
   "cell_type": "code",
   "execution_count": 5,
   "metadata": {
    "id": "9NLstXPu7XVF"
   },
   "outputs": [],
   "source": [
    "!pip install -q --upgrade pandas-profiling\n",
    "!pip install -q --upgrade yellowbrick"
   ]
  },
  {
   "cell_type": "markdown",
   "metadata": {
    "id": "WTASHFS47cFv"
   },
   "source": [
    "<a name = Section33></a>\n",
    "### **3.3 Importing Libraries**"
   ]
  },
  {
   "cell_type": "code",
   "execution_count": 6,
   "metadata": {
    "id": "IvwRw1f77a-U"
   },
   "outputs": [
    {
     "name": "stderr",
     "output_type": "stream",
     "text": [
      "C:\\Users\\80961877\\AppData\\Local\\Temp\\ipykernel_16084\\1928489969.py:3: DeprecationWarning: `import pandas_profiling` is going to be deprecated by April 1st. Please use `import ydata_profiling` instead.\n",
      "  from pandas_profiling import ProfileReport                          # Import Pandas Profiling (To generate Univariate Analysis)\n"
     ]
    }
   ],
   "source": [
    "#------------------------------------------------------------------------------------------------------------------------------\n",
    "import pandas as pd                                                 # Importing for panel data analysis\n",
    "from pandas_profiling import ProfileReport                          # Import Pandas Profiling (To generate Univariate Analysis)\n",
    "pd.set_option('display.max_columns', None)                          # Unfolding hidden features if the cardinality is high\n",
    "pd.set_option('display.max_rows', None)                             # Unfolding hidden data points if the cardinality is high\n",
    "pd.set_option('mode.chained_assignment', None)                      # Removing restriction over chained assignments operations\n",
    "#-------------------------------------------------------------------------------------------------------------------------------\n",
    "import numpy as np                                                  # Importing package numpys (For Numerical Python)\n",
    "from scipy.stats import randint as sp_randint                       # For initializing random integer values\n",
    "#-------------------------------------------------------------------------------------------------------------------------------\n",
    "import matplotlib.pyplot as plt                                     # Importing pyplot interface using matplotlib\n",
    "import seaborn as sns                                               # Importin seaborm library for interactive visualization\n",
    "%matplotlib inline\n",
    "#-------------------------------------------------------------------------------------------------------------------------------\n",
    "from sklearn.preprocessing import StandardScaler                    # To scaled data with mean 0 and variance 1\n",
    "from sklearn.model_selection import train_test_split                # To split the data in training and testing part\n",
    "from sklearn.model_selection import RandomizedSearchCV              # To find best hyperparamter setting for the algorithm\n",
    "from sklearn.ensemble import RandomForestClassifier                 # To implement random forest classifier\n",
    "from sklearn.ensemble import RandomForestRegressor                  # To implement random forest regression\n",
    "from sklearn.tree import DecisionTreeClassifier                     # To implement decision tree classifier\n",
    "from sklearn.metrics import classification_report                   # To generate classification report\n",
    "from sklearn.metrics import ConfusionMatrixDisplay                   # To plot confusion matrix\n",
    "from sklearn.model_selection import GridSearchCV\n",
    "import pydotplus                                                    # To generate pydot file\n",
    "from IPython.display import Image                                   # To generate image using pydot file\n",
    "#-------------------------------------------------------------------------------------------------------------------------------\n",
    "import warnings                                                     # Importing warning to disable runtime warnings\n",
    "warnings.filterwarnings(\"ignore\")                                   # Warnings will appear only once"
   ]
  },
  {
   "cell_type": "markdown",
   "metadata": {
    "id": "UrpwmWxc7iif"
   },
   "source": [
    "---\n",
    "<a name = Section4></a>\n",
    "# **4. Data Acquisition & Description**\n",
    "---\n",
    "\n",
    "- The **dataset** consists of the information about **direct marketing campaigns** (phone calls) of a **Portuguese banking institution**.\n",
    "\n",
    "\n",
    "| Records | Features | Dataset Size |\n",
    "| :-- | :-- | :-- |\n",
    "| 891 | 12 | 58.9 KB |\n",
    "\n",
    "<br>\n",
    "\n",
    "| ID | Feature Name | Description of the feature |\n",
    "| :-- | :--| :--|\n",
    "|01| **age**   | The age of the bank client (numeric)                    |\n",
    "|02| **job**      | The type of job the client has (categorical)               |\n",
    "|03| **marital**        | The marital status of the client(categorical)        |\n",
    "|04| **education**          | The education level of the client(categorical)   |\n",
    "|05| **default**           | Whether the client has credit in default (binary: \"yes\", \"no\") |\n",
    "|06| **balance**           | The average yearly balance of the client in euros (numeric) |\n",
    "|07| **housing**     | Whether the client has a housing loan (binary: \"yes\", \"no\") |\n",
    "|08| **loan**     | Whether the client has a personal loan (binary: \"yes\", \"no\")|\n",
    "|09| **contact**        | The communication type for the last contact with the client (categorical) |\n",
    "|10| **day**          | last contact day of the month (numeric)              |\n",
    "|11| **month**         |The last contact month of the year (categorical)     |\n",
    "|12| **duration**     | The duration of the last contact in seconds (numeric) |\n",
    "|13| **campaign**     | The number of contacts performed during this campaign and for this client (numeric, includes last contact) |\n",
    "|14| **pdays**     | The number of days that passed by after the client was last contacted from a previous campaign (numeric, -1 means the client was not previously contacted)|\n",
    "|15| **previous**        | The number of contacts performed before this campaign and for this client (numeric) |\n",
    "|16| **poutcome**          | The outcome of the previous marketing campaign (categorical)              |\n",
    "|17| **deposit**         |Whether the client subscribed to a term deposit (binary: \"yes\", \"no\")     |"
   ]
  },
  {
   "cell_type": "code",
   "execution_count": 7,
   "metadata": {
    "colab": {
     "base_uri": "https://localhost:8080/",
     "height": 224
    },
    "id": "xxBLyDgo7a7H",
    "outputId": "063ab869-0c96-43f3-f5ac-587b3212255c"
   },
   "outputs": [
    {
     "name": "stdout",
     "output_type": "stream",
     "text": [
      "Shape of the dataset: (11162, 17)\n"
     ]
    },
    {
     "data": {
      "text/html": [
       "<div>\n",
       "<style scoped>\n",
       "    .dataframe tbody tr th:only-of-type {\n",
       "        vertical-align: middle;\n",
       "    }\n",
       "\n",
       "    .dataframe tbody tr th {\n",
       "        vertical-align: top;\n",
       "    }\n",
       "\n",
       "    .dataframe thead th {\n",
       "        text-align: right;\n",
       "    }\n",
       "</style>\n",
       "<table border=\"1\" class=\"dataframe\">\n",
       "  <thead>\n",
       "    <tr style=\"text-align: right;\">\n",
       "      <th></th>\n",
       "      <th>age</th>\n",
       "      <th>job</th>\n",
       "      <th>marital</th>\n",
       "      <th>education</th>\n",
       "      <th>default</th>\n",
       "      <th>balance</th>\n",
       "      <th>housing</th>\n",
       "      <th>loan</th>\n",
       "      <th>contact</th>\n",
       "      <th>day</th>\n",
       "      <th>month</th>\n",
       "      <th>duration</th>\n",
       "      <th>campaign</th>\n",
       "      <th>pdays</th>\n",
       "      <th>previous</th>\n",
       "      <th>poutcome</th>\n",
       "      <th>deposit</th>\n",
       "    </tr>\n",
       "  </thead>\n",
       "  <tbody>\n",
       "    <tr>\n",
       "      <th>0</th>\n",
       "      <td>59</td>\n",
       "      <td>admin.</td>\n",
       "      <td>married</td>\n",
       "      <td>secondary</td>\n",
       "      <td>no</td>\n",
       "      <td>2343</td>\n",
       "      <td>yes</td>\n",
       "      <td>no</td>\n",
       "      <td>unknown</td>\n",
       "      <td>5</td>\n",
       "      <td>may</td>\n",
       "      <td>1042</td>\n",
       "      <td>1</td>\n",
       "      <td>-1</td>\n",
       "      <td>0</td>\n",
       "      <td>unknown</td>\n",
       "      <td>yes</td>\n",
       "    </tr>\n",
       "    <tr>\n",
       "      <th>1</th>\n",
       "      <td>56</td>\n",
       "      <td>admin.</td>\n",
       "      <td>married</td>\n",
       "      <td>secondary</td>\n",
       "      <td>no</td>\n",
       "      <td>45</td>\n",
       "      <td>no</td>\n",
       "      <td>no</td>\n",
       "      <td>unknown</td>\n",
       "      <td>5</td>\n",
       "      <td>may</td>\n",
       "      <td>1467</td>\n",
       "      <td>1</td>\n",
       "      <td>-1</td>\n",
       "      <td>0</td>\n",
       "      <td>unknown</td>\n",
       "      <td>yes</td>\n",
       "    </tr>\n",
       "    <tr>\n",
       "      <th>2</th>\n",
       "      <td>41</td>\n",
       "      <td>technician</td>\n",
       "      <td>married</td>\n",
       "      <td>secondary</td>\n",
       "      <td>no</td>\n",
       "      <td>1270</td>\n",
       "      <td>yes</td>\n",
       "      <td>no</td>\n",
       "      <td>unknown</td>\n",
       "      <td>5</td>\n",
       "      <td>may</td>\n",
       "      <td>1389</td>\n",
       "      <td>1</td>\n",
       "      <td>-1</td>\n",
       "      <td>0</td>\n",
       "      <td>unknown</td>\n",
       "      <td>yes</td>\n",
       "    </tr>\n",
       "    <tr>\n",
       "      <th>3</th>\n",
       "      <td>55</td>\n",
       "      <td>services</td>\n",
       "      <td>married</td>\n",
       "      <td>secondary</td>\n",
       "      <td>no</td>\n",
       "      <td>2476</td>\n",
       "      <td>yes</td>\n",
       "      <td>no</td>\n",
       "      <td>unknown</td>\n",
       "      <td>5</td>\n",
       "      <td>may</td>\n",
       "      <td>579</td>\n",
       "      <td>1</td>\n",
       "      <td>-1</td>\n",
       "      <td>0</td>\n",
       "      <td>unknown</td>\n",
       "      <td>yes</td>\n",
       "    </tr>\n",
       "    <tr>\n",
       "      <th>4</th>\n",
       "      <td>54</td>\n",
       "      <td>admin.</td>\n",
       "      <td>married</td>\n",
       "      <td>tertiary</td>\n",
       "      <td>no</td>\n",
       "      <td>184</td>\n",
       "      <td>no</td>\n",
       "      <td>no</td>\n",
       "      <td>unknown</td>\n",
       "      <td>5</td>\n",
       "      <td>may</td>\n",
       "      <td>673</td>\n",
       "      <td>2</td>\n",
       "      <td>-1</td>\n",
       "      <td>0</td>\n",
       "      <td>unknown</td>\n",
       "      <td>yes</td>\n",
       "    </tr>\n",
       "  </tbody>\n",
       "</table>\n",
       "</div>"
      ],
      "text/plain": [
       "   age         job  marital  education default  balance housing loan  contact  \\\n",
       "0   59      admin.  married  secondary      no     2343     yes   no  unknown   \n",
       "1   56      admin.  married  secondary      no       45      no   no  unknown   \n",
       "2   41  technician  married  secondary      no     1270     yes   no  unknown   \n",
       "3   55    services  married  secondary      no     2476     yes   no  unknown   \n",
       "4   54      admin.  married   tertiary      no      184      no   no  unknown   \n",
       "\n",
       "   day month  duration  campaign  pdays  previous poutcome deposit  \n",
       "0    5   may      1042         1     -1         0  unknown     yes  \n",
       "1    5   may      1467         1     -1         0  unknown     yes  \n",
       "2    5   may      1389         1     -1         0  unknown     yes  \n",
       "3    5   may       579         1     -1         0  unknown     yes  \n",
       "4    5   may       673         2     -1         0  unknown     yes  "
      ]
     },
     "execution_count": 7,
     "metadata": {},
     "output_type": "execute_result"
    }
   ],
   "source": [
    "# Load the data\n",
    "data = pd.read_csv(filepath_or_buffer='https://gitlab.com/accredian/insaid-data/-/raw/main/Terms%202023/Term%205%20ML2/bank_1_.csv')\n",
    "\n",
    "# Get the dimesions of data\n",
    "print('Shape of the dataset:', data.shape)\n",
    "\n",
    "# Output first 5 data rows\n",
    "data.head()"
   ]
  },
  {
   "cell_type": "markdown",
   "metadata": {
    "id": "SpQsei5Q8BGS"
   },
   "source": [
    "<a name = Section41></a>\n",
    "### **4.1 Data Description**\n",
    "\n",
    "- In this section we will get **information about the data** and see some observations."
   ]
  },
  {
   "cell_type": "code",
   "execution_count": 8,
   "metadata": {
    "colab": {
     "base_uri": "https://localhost:8080/",
     "height": 300
    },
    "id": "vmYaroaO7XSG",
    "outputId": "a87fd233-6856-4505-d863-f184c78f8f6b"
   },
   "outputs": [
    {
     "data": {
      "text/html": [
       "<div>\n",
       "<style scoped>\n",
       "    .dataframe tbody tr th:only-of-type {\n",
       "        vertical-align: middle;\n",
       "    }\n",
       "\n",
       "    .dataframe tbody tr th {\n",
       "        vertical-align: top;\n",
       "    }\n",
       "\n",
       "    .dataframe thead th {\n",
       "        text-align: right;\n",
       "    }\n",
       "</style>\n",
       "<table border=\"1\" class=\"dataframe\">\n",
       "  <thead>\n",
       "    <tr style=\"text-align: right;\">\n",
       "      <th></th>\n",
       "      <th>age</th>\n",
       "      <th>balance</th>\n",
       "      <th>day</th>\n",
       "      <th>duration</th>\n",
       "      <th>campaign</th>\n",
       "      <th>pdays</th>\n",
       "      <th>previous</th>\n",
       "    </tr>\n",
       "  </thead>\n",
       "  <tbody>\n",
       "    <tr>\n",
       "      <th>count</th>\n",
       "      <td>11162.000000</td>\n",
       "      <td>11162.000000</td>\n",
       "      <td>11162.000000</td>\n",
       "      <td>11162.000000</td>\n",
       "      <td>11162.000000</td>\n",
       "      <td>11162.000000</td>\n",
       "      <td>11162.000000</td>\n",
       "    </tr>\n",
       "    <tr>\n",
       "      <th>mean</th>\n",
       "      <td>41.231948</td>\n",
       "      <td>1528.538524</td>\n",
       "      <td>15.658036</td>\n",
       "      <td>371.993818</td>\n",
       "      <td>2.508421</td>\n",
       "      <td>51.330407</td>\n",
       "      <td>0.832557</td>\n",
       "    </tr>\n",
       "    <tr>\n",
       "      <th>std</th>\n",
       "      <td>11.913369</td>\n",
       "      <td>3225.413326</td>\n",
       "      <td>8.420740</td>\n",
       "      <td>347.128386</td>\n",
       "      <td>2.722077</td>\n",
       "      <td>108.758282</td>\n",
       "      <td>2.292007</td>\n",
       "    </tr>\n",
       "    <tr>\n",
       "      <th>min</th>\n",
       "      <td>18.000000</td>\n",
       "      <td>-6847.000000</td>\n",
       "      <td>1.000000</td>\n",
       "      <td>2.000000</td>\n",
       "      <td>1.000000</td>\n",
       "      <td>-1.000000</td>\n",
       "      <td>0.000000</td>\n",
       "    </tr>\n",
       "    <tr>\n",
       "      <th>25%</th>\n",
       "      <td>32.000000</td>\n",
       "      <td>122.000000</td>\n",
       "      <td>8.000000</td>\n",
       "      <td>138.000000</td>\n",
       "      <td>1.000000</td>\n",
       "      <td>-1.000000</td>\n",
       "      <td>0.000000</td>\n",
       "    </tr>\n",
       "    <tr>\n",
       "      <th>50%</th>\n",
       "      <td>39.000000</td>\n",
       "      <td>550.000000</td>\n",
       "      <td>15.000000</td>\n",
       "      <td>255.000000</td>\n",
       "      <td>2.000000</td>\n",
       "      <td>-1.000000</td>\n",
       "      <td>0.000000</td>\n",
       "    </tr>\n",
       "    <tr>\n",
       "      <th>75%</th>\n",
       "      <td>49.000000</td>\n",
       "      <td>1708.000000</td>\n",
       "      <td>22.000000</td>\n",
       "      <td>496.000000</td>\n",
       "      <td>3.000000</td>\n",
       "      <td>20.750000</td>\n",
       "      <td>1.000000</td>\n",
       "    </tr>\n",
       "    <tr>\n",
       "      <th>max</th>\n",
       "      <td>95.000000</td>\n",
       "      <td>81204.000000</td>\n",
       "      <td>31.000000</td>\n",
       "      <td>3881.000000</td>\n",
       "      <td>63.000000</td>\n",
       "      <td>854.000000</td>\n",
       "      <td>58.000000</td>\n",
       "    </tr>\n",
       "  </tbody>\n",
       "</table>\n",
       "</div>"
      ],
      "text/plain": [
       "                age       balance           day      duration      campaign  \\\n",
       "count  11162.000000  11162.000000  11162.000000  11162.000000  11162.000000   \n",
       "mean      41.231948   1528.538524     15.658036    371.993818      2.508421   \n",
       "std       11.913369   3225.413326      8.420740    347.128386      2.722077   \n",
       "min       18.000000  -6847.000000      1.000000      2.000000      1.000000   \n",
       "25%       32.000000    122.000000      8.000000    138.000000      1.000000   \n",
       "50%       39.000000    550.000000     15.000000    255.000000      2.000000   \n",
       "75%       49.000000   1708.000000     22.000000    496.000000      3.000000   \n",
       "max       95.000000  81204.000000     31.000000   3881.000000     63.000000   \n",
       "\n",
       "              pdays      previous  \n",
       "count  11162.000000  11162.000000  \n",
       "mean      51.330407      0.832557  \n",
       "std      108.758282      2.292007  \n",
       "min       -1.000000      0.000000  \n",
       "25%       -1.000000      0.000000  \n",
       "50%       -1.000000      0.000000  \n",
       "75%       20.750000      1.000000  \n",
       "max      854.000000     58.000000  "
      ]
     },
     "execution_count": 8,
     "metadata": {},
     "output_type": "execute_result"
    }
   ],
   "source": [
    "data.describe()"
   ]
  },
  {
   "cell_type": "markdown",
   "metadata": {
    "id": "rgdPuEzB8Ncn"
   },
   "source": [
    "**Observations:**\n",
    "\n",
    "> **Age**:\n",
    "\n",
    "- The **average** **age** of the bank clients is approximately **41** years.\n",
    "\n",
    "- The **minimum** **age** recorded is 18 years, while the maximum age is 95 years.\n",
    "\n",
    "- The **majority** of **clients** fall within the age range of 32 to 49 years, as **indicated** by the 25th **percentile**, median (50th percentile), and 75th percentile values.\n",
    "\n",
    "> **Balance**:\n",
    "\n",
    "- The **average** yearly balance of the clients is **approximately** `$`1,528.\n",
    "\n",
    "- The **minimum** balance is -`$`6,847, indicating some clients may have negative balances.\n",
    "\n",
    "- The **maximum** balance is `$`81,204, suggesting that some clients have substantial **savings** or investments.\n",
    "\n",
    "- The **distribution** of balances appears to be positively skewed, with a larger number of clients having lower balances.\n",
    "\n",
    "> **Day**:\n",
    "\n",
    "- The **average day** of the month for the last contact with clients is around 16.\n",
    "\n",
    "- The **minimum day recorded is 1**, and the maximum day is 31.\n",
    "\n",
    "- The **majority** of contacts seem to occur between the 8th and 22nd days of the month, as indicated by the **25th percentile**, median, and 75th percentile values.\n",
    "\n",
    "> **Duration**:\n",
    "\n",
    "- The **average duration** of the last contact with clients is approximately **372 seconds** (about 6 minutes).\n",
    "\n",
    "- The **minimum duration** is **2 seconds**, while the **maximum duration** is 3,881 seconds (over 1 hour).\n",
    "\n",
    "- The distribution of contact durations appears to be positively skewed, with a larger number of shorter contacts.\n",
    "\n",
    "> **Campaign**:\n",
    "\n",
    "- On **average**, there were 2.5 contacts performed during the current campaign for each **client**.\n",
    "\n",
    "- The **minimum** number of contacts is 1, and the **maximum** number is 63.\n",
    "\n",
    "- The majority of clients had **fewer** contacts, as **indicated** by the 25th percentile, median, and 75th percentile values.\n",
    "\n",
    "> **Pdays**:\n",
    "\n",
    "- The **average** number of days that passed since the client was last contacted from a previous **campaign** is approximately 51 days.\n",
    "\n",
    "- The **minimum** value recorded is -1, which likely indicates that some clients were not **previously** contacted.\n",
    "\n",
    "- The **maximum** value is 854, indicating a long duration since the previous contact for some clients.\n",
    "\n",
    "- The **distribution** of pdays seems to be positively skewed, with a larger number of clients having more recent **contacts**.\n",
    "\n",
    "> **Previous**:\n",
    "\n",
    "- On **average**, there were **0.83** contacts **performed** before the current campaign for each client.\n",
    "\n",
    "- The **minimum** number of previous contacts is 0, and the maximum number is 58.\n",
    "\n",
    "- The majority of **clients** had no previous **contacts**, as indicated by the 25th percentile, median, and **75th** percentile values."
   ]
  },
  {
   "cell_type": "markdown",
   "metadata": {
    "id": "dQQ5Ks4P8PFv"
   },
   "source": [
    "<a name = Section42></a>\n",
    "### **4.2 Data Information**\n",
    "\n",
    "- In this section we will see the **information about the types of the features**."
   ]
  },
  {
   "cell_type": "code",
   "execution_count": 9,
   "metadata": {
    "colab": {
     "base_uri": "https://localhost:8080/"
    },
    "id": "m3Rpdt3E8O0b",
    "outputId": "e126b81d-3ea9-466a-93f4-f5ad09b1ba46"
   },
   "outputs": [
    {
     "name": "stdout",
     "output_type": "stream",
     "text": [
      "<class 'pandas.core.frame.DataFrame'>\n",
      "RangeIndex: 11162 entries, 0 to 11161\n",
      "Data columns (total 17 columns):\n",
      " #   Column     Non-Null Count  Dtype \n",
      "---  ------     --------------  ----- \n",
      " 0   age        11162 non-null  int64 \n",
      " 1   job        11162 non-null  object\n",
      " 2   marital    11162 non-null  object\n",
      " 3   education  11162 non-null  object\n",
      " 4   default    11162 non-null  object\n",
      " 5   balance    11162 non-null  int64 \n",
      " 6   housing    11162 non-null  object\n",
      " 7   loan       11162 non-null  object\n",
      " 8   contact    11162 non-null  object\n",
      " 9   day        11162 non-null  int64 \n",
      " 10  month      11162 non-null  object\n",
      " 11  duration   11162 non-null  int64 \n",
      " 12  campaign   11162 non-null  int64 \n",
      " 13  pdays      11162 non-null  int64 \n",
      " 14  previous   11162 non-null  int64 \n",
      " 15  poutcome   11162 non-null  object\n",
      " 16  deposit    11162 non-null  object\n",
      "dtypes: int64(7), object(10)\n",
      "memory usage: 1.4+ MB\n"
     ]
    }
   ],
   "source": [
    "data.info()"
   ]
  },
  {
   "cell_type": "markdown",
   "metadata": {
    "id": "n-SrlC0x8VIj"
   },
   "source": [
    "**Observations:**\n",
    "\n",
    "- The **data types** of all the features look appropriate.\n",
    "\n",
    "- There are no **missing** values present in the features.\n",
    "\n",
    "- There are 7 Int64 datatype features while rest are object type."
   ]
  },
  {
   "cell_type": "markdown",
   "metadata": {},
   "source": [
    "Value Counts to check various categories in each column for Object datatypes"
   ]
  },
  {
   "cell_type": "code",
   "execution_count": 10,
   "metadata": {},
   "outputs": [
    {
     "name": "stdout",
     "output_type": "stream",
     "text": [
      "housing\n",
      "no     5881\n",
      "yes    5281\n",
      "Name: count, dtype: int64\n"
     ]
    }
   ],
   "source": [
    "print(data['housing'].value_counts())"
   ]
  },
  {
   "cell_type": "code",
   "execution_count": 11,
   "metadata": {},
   "outputs": [
    {
     "name": "stdout",
     "output_type": "stream",
     "text": [
      "job\n",
      "management       2566\n",
      "blue-collar      1944\n",
      "technician       1823\n",
      "admin.           1334\n",
      "services          923\n",
      "retired           778\n",
      "self-employed     405\n",
      "student           360\n",
      "unemployed        357\n",
      "entrepreneur      328\n",
      "housemaid         274\n",
      "unknown            70\n",
      "Name: count, dtype: int64\n"
     ]
    }
   ],
   "source": [
    "print(data['job'].value_counts())"
   ]
  },
  {
   "cell_type": "code",
   "execution_count": 12,
   "metadata": {},
   "outputs": [
    {
     "name": "stdout",
     "output_type": "stream",
     "text": [
      "poutcome\n",
      "unknown    8326\n",
      "failure    1228\n",
      "success    1071\n",
      "other       537\n",
      "Name: count, dtype: int64\n"
     ]
    }
   ],
   "source": [
    "print(data['poutcome'].value_counts())"
   ]
  },
  {
   "cell_type": "code",
   "execution_count": 13,
   "metadata": {},
   "outputs": [
    {
     "name": "stdout",
     "output_type": "stream",
     "text": [
      "marital\n",
      "married     6351\n",
      "single      3518\n",
      "divorced    1293\n",
      "Name: count, dtype: int64\n"
     ]
    }
   ],
   "source": [
    "print(data['marital'].value_counts())"
   ]
  },
  {
   "cell_type": "code",
   "execution_count": 14,
   "metadata": {},
   "outputs": [
    {
     "name": "stdout",
     "output_type": "stream",
     "text": [
      "education\n",
      "secondary    5476\n",
      "tertiary     3689\n",
      "primary      1500\n",
      "unknown       497\n",
      "Name: count, dtype: int64\n"
     ]
    }
   ],
   "source": [
    "print(data['education'].value_counts())"
   ]
  },
  {
   "cell_type": "markdown",
   "metadata": {
    "id": "oQSEAjYy8XfW"
   },
   "source": [
    "<a name = Section5></a>\n",
    "\n",
    "---\n",
    "# **5. Data Pre-Processing**\n",
    "---"
   ]
  },
  {
   "cell_type": "markdown",
   "metadata": {
    "id": "4L4wU-sm8ZLg"
   },
   "source": [
    "<a name = Section51></a>\n",
    "### **5.1 Data Pre-Profiling**\n",
    "\n",
    "- For **quick analysis** pandas profiling is very handy.\n",
    "\n",
    "- Generates profile reports from a pandas DataFrame.\n",
    "\n",
    "- For each column **statistics** are presented in an interactive HTML report."
   ]
  },
  {
   "cell_type": "code",
   "execution_count": 17,
   "metadata": {
    "id": "luX_DzAx8Owo"
   },
   "outputs": [
    {
     "data": {
      "application/vnd.jupyter.widget-view+json": {
       "model_id": "b23374739d104e9e9cb69be10efc51db",
       "version_major": 2,
       "version_minor": 0
      },
      "text/plain": [
       "Summarize dataset:   0%|          | 0/5 [00:00<?, ?it/s]"
      ]
     },
     "metadata": {},
     "output_type": "display_data"
    },
    {
     "data": {
      "application/vnd.jupyter.widget-view+json": {
       "model_id": "1eb8bbd021fb444a925aef9912df2883",
       "version_major": 2,
       "version_minor": 0
      },
      "text/plain": [
       "Generate report structure:   0%|          | 0/1 [00:00<?, ?it/s]"
      ]
     },
     "metadata": {},
     "output_type": "display_data"
    },
    {
     "data": {
      "application/vnd.jupyter.widget-view+json": {
       "model_id": "8284df332a9c466cb0f73fac03264f77",
       "version_major": 2,
       "version_minor": 0
      },
      "text/plain": [
       "Render HTML:   0%|          | 0/1 [00:00<?, ?it/s]"
      ]
     },
     "metadata": {},
     "output_type": "display_data"
    },
    {
     "data": {
      "application/vnd.jupyter.widget-view+json": {
       "model_id": "4c42cc760f7048d2a852d757b317674d",
       "version_major": 2,
       "version_minor": 0
      },
      "text/plain": [
       "Export report to file:   0%|          | 0/1 [00:00<?, ?it/s]"
      ]
     },
     "metadata": {},
     "output_type": "display_data"
    },
    {
     "name": "stdout",
     "output_type": "stream",
     "text": [
      "Accomplished!\n"
     ]
    }
   ],
   "source": [
    "profile = ProfileReport(df=data)\n",
    "profile.to_file(output_file='Pre Profiling Report.html')\n",
    "print('Accomplished!')"
   ]
  },
  {
   "cell_type": "markdown",
   "metadata": {
    "id": "tNG4bnZe8b6o"
   },
   "source": [
    "**Observations:**\n",
    "\n",
    "The dataset contains a total of 11,162 records (instances) and 7 features.\n",
    "\n",
    "The **age** **feature** represents the age of the bank clients. The average age is approximately 41 years, with a **minimum** age of 18 and a maximum age of 95. The age distribution appears to be **fairly** symmetrical.\n",
    "\n",
    "- The **balance** feature represents the average yearly balance of the bank clients in dollars . It is slightly skewed on the right.\n",
    "\n",
    "- The **day** feature **corresponds** to the last contact day of the month. The **contacts** seem to be spread throughout the month, with an average day of **approximately** 16.\n",
    "\n",
    "- The **duration** feature represents the duration of the last **contact** in seconds. The average duration is approximately 372 seconds (about 6 minutes), with a **minimum** duration of 2 seconds and a maximum duration of 3,881 seconds.\n",
    "\n",
    "- The **campaign** feature indicates the number of contacts performed during the current campaign for each client. On **average**, there were 2.5 contacts, with a minimum of 1 contact and a maximum of 63 contacts.\n",
    "\n",
    "- The **pdays** feature average value is approximately 51 days, with a minimum of -1 (**indicating** some clients were not previously contacted) it is highly correlated to previous feature, one of them will be dropped.\n",
    "\n",
    "- The **previous** feature indicates the number of contacts performed before the current campaign for each client. On **average**, there were 0.83 previous contacts, with a minimum of 0 contacts and a maximum of 58 contacts.\n",
    "\n",
    "- The dataset contains **no duplicate** rows.\n",
    "\n",
    "- No feature has **missing** value.\n",
    "\n",
    "- For detailed information, check the **Pre Profiling Report.html** file."
   ]
  },
  {
   "cell_type": "markdown",
   "metadata": {},
   "source": [
    "Pre Profiling Report will be available in Jupyter Homepage"
   ]
  },
  {
   "cell_type": "markdown",
   "metadata": {
    "id": "fM-c50LH88C0"
   },
   "source": [
    "<a name = Section52></a>\n",
    "### **5.2 Data Cleaning**\n",
    "\n",
    "- Now we will perform all the necessary operations that are required to clean and rectify the schema of the dataset."
   ]
  },
  {
   "cell_type": "code",
   "execution_count": 15,
   "metadata": {
    "colab": {
     "base_uri": "https://localhost:8080/",
     "height": 206
    },
    "id": "lLI9S9WFXrZS",
    "outputId": "a340b210-2423-4dd9-8f20-a98d9051572a"
   },
   "outputs": [
    {
     "data": {
      "text/html": [
       "<div>\n",
       "<style scoped>\n",
       "    .dataframe tbody tr th:only-of-type {\n",
       "        vertical-align: middle;\n",
       "    }\n",
       "\n",
       "    .dataframe tbody tr th {\n",
       "        vertical-align: top;\n",
       "    }\n",
       "\n",
       "    .dataframe thead th {\n",
       "        text-align: right;\n",
       "    }\n",
       "</style>\n",
       "<table border=\"1\" class=\"dataframe\">\n",
       "  <thead>\n",
       "    <tr style=\"text-align: right;\">\n",
       "      <th></th>\n",
       "      <th>age</th>\n",
       "      <th>job</th>\n",
       "      <th>marital</th>\n",
       "      <th>education</th>\n",
       "      <th>default</th>\n",
       "      <th>balance</th>\n",
       "      <th>housing</th>\n",
       "      <th>loan</th>\n",
       "      <th>contact</th>\n",
       "      <th>day</th>\n",
       "      <th>month</th>\n",
       "      <th>duration</th>\n",
       "      <th>campaign</th>\n",
       "      <th>pdays</th>\n",
       "      <th>previous</th>\n",
       "      <th>poutcome</th>\n",
       "      <th>deposit</th>\n",
       "    </tr>\n",
       "  </thead>\n",
       "  <tbody>\n",
       "    <tr>\n",
       "      <th>0</th>\n",
       "      <td>59</td>\n",
       "      <td>admin.</td>\n",
       "      <td>married</td>\n",
       "      <td>secondary</td>\n",
       "      <td>no</td>\n",
       "      <td>2343</td>\n",
       "      <td>yes</td>\n",
       "      <td>no</td>\n",
       "      <td>unknown</td>\n",
       "      <td>5</td>\n",
       "      <td>may</td>\n",
       "      <td>1042</td>\n",
       "      <td>1</td>\n",
       "      <td>-1</td>\n",
       "      <td>0</td>\n",
       "      <td>unknown</td>\n",
       "      <td>yes</td>\n",
       "    </tr>\n",
       "    <tr>\n",
       "      <th>1</th>\n",
       "      <td>56</td>\n",
       "      <td>admin.</td>\n",
       "      <td>married</td>\n",
       "      <td>secondary</td>\n",
       "      <td>no</td>\n",
       "      <td>45</td>\n",
       "      <td>no</td>\n",
       "      <td>no</td>\n",
       "      <td>unknown</td>\n",
       "      <td>5</td>\n",
       "      <td>may</td>\n",
       "      <td>1467</td>\n",
       "      <td>1</td>\n",
       "      <td>-1</td>\n",
       "      <td>0</td>\n",
       "      <td>unknown</td>\n",
       "      <td>yes</td>\n",
       "    </tr>\n",
       "    <tr>\n",
       "      <th>2</th>\n",
       "      <td>41</td>\n",
       "      <td>technician</td>\n",
       "      <td>married</td>\n",
       "      <td>secondary</td>\n",
       "      <td>no</td>\n",
       "      <td>1270</td>\n",
       "      <td>yes</td>\n",
       "      <td>no</td>\n",
       "      <td>unknown</td>\n",
       "      <td>5</td>\n",
       "      <td>may</td>\n",
       "      <td>1389</td>\n",
       "      <td>1</td>\n",
       "      <td>-1</td>\n",
       "      <td>0</td>\n",
       "      <td>unknown</td>\n",
       "      <td>yes</td>\n",
       "    </tr>\n",
       "    <tr>\n",
       "      <th>3</th>\n",
       "      <td>55</td>\n",
       "      <td>services</td>\n",
       "      <td>married</td>\n",
       "      <td>secondary</td>\n",
       "      <td>no</td>\n",
       "      <td>2476</td>\n",
       "      <td>yes</td>\n",
       "      <td>no</td>\n",
       "      <td>unknown</td>\n",
       "      <td>5</td>\n",
       "      <td>may</td>\n",
       "      <td>579</td>\n",
       "      <td>1</td>\n",
       "      <td>-1</td>\n",
       "      <td>0</td>\n",
       "      <td>unknown</td>\n",
       "      <td>yes</td>\n",
       "    </tr>\n",
       "    <tr>\n",
       "      <th>4</th>\n",
       "      <td>54</td>\n",
       "      <td>admin.</td>\n",
       "      <td>married</td>\n",
       "      <td>tertiary</td>\n",
       "      <td>no</td>\n",
       "      <td>184</td>\n",
       "      <td>no</td>\n",
       "      <td>no</td>\n",
       "      <td>unknown</td>\n",
       "      <td>5</td>\n",
       "      <td>may</td>\n",
       "      <td>673</td>\n",
       "      <td>2</td>\n",
       "      <td>-1</td>\n",
       "      <td>0</td>\n",
       "      <td>unknown</td>\n",
       "      <td>yes</td>\n",
       "    </tr>\n",
       "  </tbody>\n",
       "</table>\n",
       "</div>"
      ],
      "text/plain": [
       "   age         job  marital  education default  balance housing loan  contact  \\\n",
       "0   59      admin.  married  secondary      no     2343     yes   no  unknown   \n",
       "1   56      admin.  married  secondary      no       45      no   no  unknown   \n",
       "2   41  technician  married  secondary      no     1270     yes   no  unknown   \n",
       "3   55    services  married  secondary      no     2476     yes   no  unknown   \n",
       "4   54      admin.  married   tertiary      no      184      no   no  unknown   \n",
       "\n",
       "   day month  duration  campaign  pdays  previous poutcome deposit  \n",
       "0    5   may      1042         1     -1         0  unknown     yes  \n",
       "1    5   may      1467         1     -1         0  unknown     yes  \n",
       "2    5   may      1389         1     -1         0  unknown     yes  \n",
       "3    5   may       579         1     -1         0  unknown     yes  \n",
       "4    5   may       673         2     -1         0  unknown     yes  "
      ]
     },
     "execution_count": 15,
     "metadata": {},
     "output_type": "execute_result"
    }
   ],
   "source": [
    "data.head()"
   ]
  },
  {
   "cell_type": "code",
   "execution_count": 16,
   "metadata": {
    "id": "X304Z2dt8buQ"
   },
   "outputs": [],
   "source": [
    "# Dropping the pdays feature as the range of values to be encoded is very high\n",
    "data.drop(labels='pdays', axis=1, inplace=True)"
   ]
  },
  {
   "cell_type": "markdown",
   "metadata": {
    "id": "QLwWFES98-I8"
   },
   "source": [
    "<a name = Section53></a>\n",
    "### **5.3 Data Post-Profiling**\n",
    "\n",
    "- Next, we will generate and verify the report to identify any new observation that can help us in further analysis."
   ]
  },
  {
   "cell_type": "code",
   "execution_count": 34,
   "metadata": {
    "id": "ciU9rER48-BI"
   },
   "outputs": [],
   "source": [
    "# post_profile=ProfileReport(df=data)\n",
    "# post_profile.to_file(output_file='Post Profiling Report.html')\n",
    "# print('Accomplished!')"
   ]
  },
  {
   "cell_type": "markdown",
   "metadata": {
    "id": "ta0YDE_B9CrW"
   },
   "source": [
    "**Observations:**\n",
    "\n",
    "- You can compare the two reports, i.e **Pre Profiling Report.html** and **Post Profiling Report.html**.\n",
    "\n",
    "- Observations in Post Profiling Report.html:\n",
    "\n",
    "  - In the Dataset info, **Total Missing** = **0.0%**\n",
    "\n",
    "  - Number of **features** = **16**\n",
    "\n",
    "  - A lot of **inverse correlations** are observed among the features.\n",
    "\n",
    "  - For detailed information, check the **Post Profiling Report.html** file.\n",
    "\n",
    "- We can now begin the Exploratory Data Analysis."
   ]
  },
  {
   "cell_type": "markdown",
   "metadata": {
    "id": "yRiwgAJL9IrJ"
   },
   "source": [
    "<a name = Section6></a>\n",
    "\n",
    "---\n",
    "# **6. Exploratory Data Analysis**\n",
    "---"
   ]
  },
  {
   "cell_type": "markdown",
   "metadata": {
    "id": "ej3o6BqY9Mzm"
   },
   "source": [
    "**<h4>Question:** What were the outcomes previous marketing campaign?</h4>"
   ]
  },
  {
   "cell_type": "code",
   "execution_count": 17,
   "metadata": {
    "colab": {
     "base_uri": "https://localhost:8080/",
     "height": 600
    },
    "id": "fFCTU5SONhqr",
    "outputId": "2ea7a172-f57a-44b1-e41a-35b3fce57a71"
   },
   "outputs": [
    {
     "data": {
      "image/png": "[encoded data removed]",
      "text/plain": [
       "<Figure size 1500x700 with 1 Axes>"
      ]
     },
     "metadata": {},
     "output_type": "display_data"
    }
   ],
   "source": [
    "fig = plt.figure(figsize=(15, 7))\n",
    "# Getting the value counts of 'Poutcome' column\n",
    "poutcome_counts = data['poutcome'].value_counts()\n",
    "\n",
    "# Creating the pie plot\n",
    "plt.pie(poutcome_counts, labels=poutcome_counts.index, colors=['grey', 'red', 'green', 'blue'], autopct='%1.1f%%', startangle=90)\n",
    "\n",
    "# Add cosmetics\n",
    "plt.axis('equal')\n",
    "plt.title('Outcome of Previous Marketing Campaign', size=16)\n",
    "plt.legend(poutcome_counts.index, title='Poutcome', loc='upper right')\n",
    "\n",
    "# Display the plot\n",
    "plt.show()"
   ]
  },
  {
   "cell_type": "markdown",
   "metadata": {
    "id": "owv3fv5cSUwc"
   },
   "source": [
    "### **Observations**:\n",
    "\n",
    "- The **majority** of the previous **marketing** **campaign** outcomes are categorized as \"unknown.\"\n",
    "\n",
    "- A **small percentage** of clients had a successful outcome. This suggests that a relatively low number of clients responded **positively** to the campaign and **subscribed** to the term deposit."
   ]
  },
  {
   "cell_type": "markdown",
   "metadata": {
    "id": "opRjU6Xl9aI2"
   },
   "source": [
    "**<h4>Question:** What is the relationship between job type and the balance feature?</h4>"
   ]
  },
  {
   "cell_type": "code",
   "execution_count": 18,
   "metadata": {
    "colab": {
     "base_uri": "https://localhost:8080/",
     "height": 751
    },
    "id": "PXWUtCo89X-a",
    "outputId": "560af945-4cf8-448f-fc88-4bc4752afa6d"
   },
   "outputs": [
    {
     "data": {
      "image/png": "[encoded data removed]",
      "text/plain": [
       "<Figure size 1500x700 with 1 Axes>"
      ]
     },
     "metadata": {},
     "output_type": "display_data"
    }
   ],
   "source": [
    "fig = plt.figure(figsize=(15, 7))\n",
    "# Grouping the data by 'job' and calculating the mean of 'balance'\n",
    "a = data.groupby(['job'], as_index=False)['balance'].mean()\n",
    "a['balance'] = round(a['balance'], 1)\n",
    "\n",
    "# Sorting the data by 'balance' in descending order\n",
    "a_sorted = a.sort_values(by='balance', ascending=False)\n",
    "\n",
    "# Creating the vertical bar plot\n",
    "sns.barplot(x='job', y='balance', data=a_sorted, palette='Set1', ci=None)\n",
    "\n",
    "# Add cosmetics\n",
    "plt.xticks(rotation=90, size=12)\n",
    "plt.yticks(size=12)\n",
    "plt.xlabel('Job', size=14)\n",
    "plt.ylabel('Balance', size=14)\n",
    "plt.title('Average Balance by Job', size=16)\n",
    "plt.grid(True)\n",
    "\n",
    "# Display the plot\n",
    "plt.show()"
   ]
  },
  {
   "cell_type": "markdown",
   "metadata": {
    "id": "oBw1Cuz39ejl"
   },
   "source": [
    "### **Observations**:\n",
    "\n",
    "- Clients with the **job** type \"**entrepreneur**\" tend to have the highest average **balance**, indicating that individuals in entrepreneurial roles have relatively higher **financial** resources.\n",
    "\n",
    "- The job types \"**self-employed**\" and \"**retired**\" also exhibit above-**average** balances. This suggests that self-employed individuals and **retirees** may have **accumulated** significant savings or investments.\n",
    "\n",
    "- On the **other hand**, clients with the job types \"**student**\" and \"**unemployed**\" have the lowest average balances. This is expected as students **typically** have limited financial resources, while unemployed individuals may face **financial** challenges."
   ]
  },
  {
   "cell_type": "markdown",
   "metadata": {
    "id": "1AWJDDYa9g1C"
   },
   "source": [
    "**<h4>Question:** What is the Distribution of Age Based on Job Type?</h4>"
   ]
  },
  {
   "cell_type": "code",
   "execution_count": 19,
   "metadata": {
    "colab": {
     "base_uri": "https://localhost:8080/",
     "height": 751
    },
    "id": "5KpbATYN9X6-",
    "outputId": "ff420721-0db6-45de-86e3-799b7bdbdbd3"
   },
   "outputs": [
    {
     "data": {
      "image/png": "[encoded data removed]",
      "text/plain": [
       "<Figure size 1500x700 with 1 Axes>"
      ]
     },
     "metadata": {},
     "output_type": "display_data"
    }
   ],
   "source": [
    "\n",
    "# Creating the box plot\n",
    "fig = plt.figure(figsize=(15, 7))\n",
    "sns.boxplot(x='job', y='age', data=data, palette='Set1')\n",
    "\n",
    "# Add cosmetics\n",
    "plt.xticks(rotation=90, size=12)\n",
    "plt.yticks(size=12)\n",
    "plt.xlabel('Job', size=14)\n",
    "plt.ylabel('Age', size=14)\n",
    "plt.title('Distribution of Age Based on Job Type', size=16)\n",
    "plt.grid(True)\n",
    "\n",
    "# Display the plot\n",
    "plt.show()\n"
   ]
  },
  {
   "cell_type": "markdown",
   "metadata": {
    "id": "uAnvsyp-9kiy"
   },
   "source": [
    "**Observations**:\n",
    "\n",
    "- The job types \"**retired**\" and \"**management**\" show a wider age distribution compared to other job types. This indicates that individuals in these occupations can span a broader range of ages.\n",
    "\n",
    "- The **job** types \"student\" and \"unknown\" **exhibit** a narrower **age** distribution, suggesting that **individuals** in these categories tend to fall within a specific age range.\n",
    "\n",
    "- The job types **blue-collar** and **technician** have relatively similar age **distributions**, with a **moderate** range of ages represented."
   ]
  },
  {
   "cell_type": "markdown",
   "metadata": {
    "id": "kVvrSEOg9pt_"
   },
   "source": [
    "**Note:** These are few question we need to analyze before moving further and if you want to dig deeper into this, feel free to do so..."
   ]
  },
  {
   "cell_type": "markdown",
   "metadata": {
    "id": "47do_cxsDnU6"
   },
   "source": [
    "<a name = Section7></a>\n",
    "\n",
    "---\n",
    "# **7. Data Post-Processing**\n",
    "---\n",
    "\n"
   ]
  },
  {
   "cell_type": "markdown",
   "metadata": {
    "id": "cG1bbgdYEz43"
   },
   "source": [
    "<a name = Section71></a>\n",
    "### **7.1 Data Encoding**\n",
    "\n",
    "- In this section, we will encode our categorical features such as job, Education, month using one hot encoding.\n",
    "- For Categorical variables where we have \"Yes\" or \"No\" we do Label Encoding\n",
    "- For Categorical variables where we have \" More than two / multiple values\" we do One Hot Encoding"
   ]
  },
  {
   "cell_type": "code",
   "execution_count": 20,
   "metadata": {
    "colab": {
     "base_uri": "https://localhost:8080/",
     "height": 206
    },
    "id": "TJhJJIbzQ50a",
    "outputId": "19edd336-fd82-46c0-e3cb-59339231bb37"
   },
   "outputs": [
    {
     "data": {
      "text/html": [
       "<div>\n",
       "<style scoped>\n",
       "    .dataframe tbody tr th:only-of-type {\n",
       "        vertical-align: middle;\n",
       "    }\n",
       "\n",
       "    .dataframe tbody tr th {\n",
       "        vertical-align: top;\n",
       "    }\n",
       "\n",
       "    .dataframe thead th {\n",
       "        text-align: right;\n",
       "    }\n",
       "</style>\n",
       "<table border=\"1\" class=\"dataframe\">\n",
       "  <thead>\n",
       "    <tr style=\"text-align: right;\">\n",
       "      <th></th>\n",
       "      <th>age</th>\n",
       "      <th>job</th>\n",
       "      <th>marital</th>\n",
       "      <th>education</th>\n",
       "      <th>default</th>\n",
       "      <th>balance</th>\n",
       "      <th>housing</th>\n",
       "      <th>loan</th>\n",
       "      <th>contact</th>\n",
       "      <th>day</th>\n",
       "      <th>month</th>\n",
       "      <th>duration</th>\n",
       "      <th>campaign</th>\n",
       "      <th>previous</th>\n",
       "      <th>poutcome</th>\n",
       "      <th>deposit</th>\n",
       "    </tr>\n",
       "  </thead>\n",
       "  <tbody>\n",
       "    <tr>\n",
       "      <th>0</th>\n",
       "      <td>59</td>\n",
       "      <td>admin.</td>\n",
       "      <td>married</td>\n",
       "      <td>secondary</td>\n",
       "      <td>no</td>\n",
       "      <td>2343</td>\n",
       "      <td>yes</td>\n",
       "      <td>no</td>\n",
       "      <td>unknown</td>\n",
       "      <td>5</td>\n",
       "      <td>may</td>\n",
       "      <td>1042</td>\n",
       "      <td>1</td>\n",
       "      <td>0</td>\n",
       "      <td>unknown</td>\n",
       "      <td>yes</td>\n",
       "    </tr>\n",
       "    <tr>\n",
       "      <th>1</th>\n",
       "      <td>56</td>\n",
       "      <td>admin.</td>\n",
       "      <td>married</td>\n",
       "      <td>secondary</td>\n",
       "      <td>no</td>\n",
       "      <td>45</td>\n",
       "      <td>no</td>\n",
       "      <td>no</td>\n",
       "      <td>unknown</td>\n",
       "      <td>5</td>\n",
       "      <td>may</td>\n",
       "      <td>1467</td>\n",
       "      <td>1</td>\n",
       "      <td>0</td>\n",
       "      <td>unknown</td>\n",
       "      <td>yes</td>\n",
       "    </tr>\n",
       "    <tr>\n",
       "      <th>2</th>\n",
       "      <td>41</td>\n",
       "      <td>technician</td>\n",
       "      <td>married</td>\n",
       "      <td>secondary</td>\n",
       "      <td>no</td>\n",
       "      <td>1270</td>\n",
       "      <td>yes</td>\n",
       "      <td>no</td>\n",
       "      <td>unknown</td>\n",
       "      <td>5</td>\n",
       "      <td>may</td>\n",
       "      <td>1389</td>\n",
       "      <td>1</td>\n",
       "      <td>0</td>\n",
       "      <td>unknown</td>\n",
       "      <td>yes</td>\n",
       "    </tr>\n",
       "    <tr>\n",
       "      <th>3</th>\n",
       "      <td>55</td>\n",
       "      <td>services</td>\n",
       "      <td>married</td>\n",
       "      <td>secondary</td>\n",
       "      <td>no</td>\n",
       "      <td>2476</td>\n",
       "      <td>yes</td>\n",
       "      <td>no</td>\n",
       "      <td>unknown</td>\n",
       "      <td>5</td>\n",
       "      <td>may</td>\n",
       "      <td>579</td>\n",
       "      <td>1</td>\n",
       "      <td>0</td>\n",
       "      <td>unknown</td>\n",
       "      <td>yes</td>\n",
       "    </tr>\n",
       "    <tr>\n",
       "      <th>4</th>\n",
       "      <td>54</td>\n",
       "      <td>admin.</td>\n",
       "      <td>married</td>\n",
       "      <td>tertiary</td>\n",
       "      <td>no</td>\n",
       "      <td>184</td>\n",
       "      <td>no</td>\n",
       "      <td>no</td>\n",
       "      <td>unknown</td>\n",
       "      <td>5</td>\n",
       "      <td>may</td>\n",
       "      <td>673</td>\n",
       "      <td>2</td>\n",
       "      <td>0</td>\n",
       "      <td>unknown</td>\n",
       "      <td>yes</td>\n",
       "    </tr>\n",
       "  </tbody>\n",
       "</table>\n",
       "</div>"
      ],
      "text/plain": [
       "   age         job  marital  education default  balance housing loan  contact  \\\n",
       "0   59      admin.  married  secondary      no     2343     yes   no  unknown   \n",
       "1   56      admin.  married  secondary      no       45      no   no  unknown   \n",
       "2   41  technician  married  secondary      no     1270     yes   no  unknown   \n",
       "3   55    services  married  secondary      no     2476     yes   no  unknown   \n",
       "4   54      admin.  married   tertiary      no      184      no   no  unknown   \n",
       "\n",
       "   day month  duration  campaign  previous poutcome deposit  \n",
       "0    5   may      1042         1         0  unknown     yes  \n",
       "1    5   may      1467         1         0  unknown     yes  \n",
       "2    5   may      1389         1         0  unknown     yes  \n",
       "3    5   may       579         1         0  unknown     yes  \n",
       "4    5   may       673         2         0  unknown     yes  "
      ]
     },
     "execution_count": 20,
     "metadata": {},
     "output_type": "execute_result"
    }
   ],
   "source": [
    "data.head()"
   ]
  },
  {
   "cell_type": "code",
   "execution_count": 21,
   "metadata": {
    "colab": {
     "base_uri": "https://localhost:8080/"
    },
    "id": "8zkze3WCdjA-",
    "outputId": "e4ddead7-17e3-44cc-aeb0-930619c60c99"
   },
   "outputs": [
    {
     "data": {
      "text/plain": [
       "(11162, 16)"
      ]
     },
     "execution_count": 21,
     "metadata": {},
     "output_type": "execute_result"
    }
   ],
   "source": [
    "data.shape"
   ]
  },
  {
   "cell_type": "code",
   "execution_count": 22,
   "metadata": {
    "id": "IUXGXNp97h-6"
   },
   "outputs": [],
   "source": [
    "from sklearn.preprocessing import LabelEncoder\n",
    "dic = {\"yes\":1,\"no\":0}\n",
    "lst = [\"deposit\",\"loan\",\"default\",\"housing\"]\n",
    "for i in lst:\n",
    "    data[i] = data[i].map(dic)"
   ]
  },
  {
   "cell_type": "code",
   "execution_count": 23,
   "metadata": {
    "colab": {
     "base_uri": "https://localhost:8080/",
     "height": 206
    },
    "id": "uXnTMWxmWVSP",
    "outputId": "4a740bf2-c8c4-420c-9770-e7add3cab338"
   },
   "outputs": [
    {
     "data": {
      "text/html": [
       "<div>\n",
       "<style scoped>\n",
       "    .dataframe tbody tr th:only-of-type {\n",
       "        vertical-align: middle;\n",
       "    }\n",
       "\n",
       "    .dataframe tbody tr th {\n",
       "        vertical-align: top;\n",
       "    }\n",
       "\n",
       "    .dataframe thead th {\n",
       "        text-align: right;\n",
       "    }\n",
       "</style>\n",
       "<table border=\"1\" class=\"dataframe\">\n",
       "  <thead>\n",
       "    <tr style=\"text-align: right;\">\n",
       "      <th></th>\n",
       "      <th>age</th>\n",
       "      <th>job</th>\n",
       "      <th>marital</th>\n",
       "      <th>education</th>\n",
       "      <th>default</th>\n",
       "      <th>balance</th>\n",
       "      <th>housing</th>\n",
       "      <th>loan</th>\n",
       "      <th>contact</th>\n",
       "      <th>day</th>\n",
       "      <th>month</th>\n",
       "      <th>duration</th>\n",
       "      <th>campaign</th>\n",
       "      <th>previous</th>\n",
       "      <th>poutcome</th>\n",
       "      <th>deposit</th>\n",
       "    </tr>\n",
       "  </thead>\n",
       "  <tbody>\n",
       "    <tr>\n",
       "      <th>0</th>\n",
       "      <td>59</td>\n",
       "      <td>admin.</td>\n",
       "      <td>married</td>\n",
       "      <td>secondary</td>\n",
       "      <td>0</td>\n",
       "      <td>2343</td>\n",
       "      <td>1</td>\n",
       "      <td>0</td>\n",
       "      <td>unknown</td>\n",
       "      <td>5</td>\n",
       "      <td>may</td>\n",
       "      <td>1042</td>\n",
       "      <td>1</td>\n",
       "      <td>0</td>\n",
       "      <td>unknown</td>\n",
       "      <td>1</td>\n",
       "    </tr>\n",
       "    <tr>\n",
       "      <th>1</th>\n",
       "      <td>56</td>\n",
       "      <td>admin.</td>\n",
       "      <td>married</td>\n",
       "      <td>secondary</td>\n",
       "      <td>0</td>\n",
       "      <td>45</td>\n",
       "      <td>0</td>\n",
       "      <td>0</td>\n",
       "      <td>unknown</td>\n",
       "      <td>5</td>\n",
       "      <td>may</td>\n",
       "      <td>1467</td>\n",
       "      <td>1</td>\n",
       "      <td>0</td>\n",
       "      <td>unknown</td>\n",
       "      <td>1</td>\n",
       "    </tr>\n",
       "    <tr>\n",
       "      <th>2</th>\n",
       "      <td>41</td>\n",
       "      <td>technician</td>\n",
       "      <td>married</td>\n",
       "      <td>secondary</td>\n",
       "      <td>0</td>\n",
       "      <td>1270</td>\n",
       "      <td>1</td>\n",
       "      <td>0</td>\n",
       "      <td>unknown</td>\n",
       "      <td>5</td>\n",
       "      <td>may</td>\n",
       "      <td>1389</td>\n",
       "      <td>1</td>\n",
       "      <td>0</td>\n",
       "      <td>unknown</td>\n",
       "      <td>1</td>\n",
       "    </tr>\n",
       "    <tr>\n",
       "      <th>3</th>\n",
       "      <td>55</td>\n",
       "      <td>services</td>\n",
       "      <td>married</td>\n",
       "      <td>secondary</td>\n",
       "      <td>0</td>\n",
       "      <td>2476</td>\n",
       "      <td>1</td>\n",
       "      <td>0</td>\n",
       "      <td>unknown</td>\n",
       "      <td>5</td>\n",
       "      <td>may</td>\n",
       "      <td>579</td>\n",
       "      <td>1</td>\n",
       "      <td>0</td>\n",
       "      <td>unknown</td>\n",
       "      <td>1</td>\n",
       "    </tr>\n",
       "    <tr>\n",
       "      <th>4</th>\n",
       "      <td>54</td>\n",
       "      <td>admin.</td>\n",
       "      <td>married</td>\n",
       "      <td>tertiary</td>\n",
       "      <td>0</td>\n",
       "      <td>184</td>\n",
       "      <td>0</td>\n",
       "      <td>0</td>\n",
       "      <td>unknown</td>\n",
       "      <td>5</td>\n",
       "      <td>may</td>\n",
       "      <td>673</td>\n",
       "      <td>2</td>\n",
       "      <td>0</td>\n",
       "      <td>unknown</td>\n",
       "      <td>1</td>\n",
       "    </tr>\n",
       "  </tbody>\n",
       "</table>\n",
       "</div>"
      ],
      "text/plain": [
       "   age         job  marital  education  default  balance  housing  loan  \\\n",
       "0   59      admin.  married  secondary        0     2343        1     0   \n",
       "1   56      admin.  married  secondary        0       45        0     0   \n",
       "2   41  technician  married  secondary        0     1270        1     0   \n",
       "3   55    services  married  secondary        0     2476        1     0   \n",
       "4   54      admin.  married   tertiary        0      184        0     0   \n",
       "\n",
       "   contact  day month  duration  campaign  previous poutcome  deposit  \n",
       "0  unknown    5   may      1042         1         0  unknown        1  \n",
       "1  unknown    5   may      1467         1         0  unknown        1  \n",
       "2  unknown    5   may      1389         1         0  unknown        1  \n",
       "3  unknown    5   may       579         1         0  unknown        1  \n",
       "4  unknown    5   may       673         2         0  unknown        1  "
      ]
     },
     "execution_count": 23,
     "metadata": {},
     "output_type": "execute_result"
    }
   ],
   "source": [
    "data.head()"
   ]
  },
  {
   "cell_type": "code",
   "execution_count": 24,
   "metadata": {
    "id": "dYqxffnm72M_"
   },
   "outputs": [],
   "source": [
    "# OneHot Encoding\n",
    "data = pd.get_dummies(data, columns = ['job','marital','education', 'month','contact','poutcome'])"
   ]
  },
  {
   "cell_type": "code",
   "execution_count": 25,
   "metadata": {
    "colab": {
     "base_uri": "https://localhost:8080/",
     "height": 244
    },
    "id": "WCxzp3cL9X3I",
    "outputId": "dc0fddc3-28a6-4a14-8f9e-799a3a42a5eb"
   },
   "outputs": [
    {
     "data": {
      "text/html": [
       "<div>\n",
       "<style scoped>\n",
       "    .dataframe tbody tr th:only-of-type {\n",
       "        vertical-align: middle;\n",
       "    }\n",
       "\n",
       "    .dataframe tbody tr th {\n",
       "        vertical-align: top;\n",
       "    }\n",
       "\n",
       "    .dataframe thead th {\n",
       "        text-align: right;\n",
       "    }\n",
       "</style>\n",
       "<table border=\"1\" class=\"dataframe\">\n",
       "  <thead>\n",
       "    <tr style=\"text-align: right;\">\n",
       "      <th></th>\n",
       "      <th>age</th>\n",
       "      <th>default</th>\n",
       "      <th>balance</th>\n",
       "      <th>housing</th>\n",
       "      <th>loan</th>\n",
       "      <th>day</th>\n",
       "      <th>duration</th>\n",
       "      <th>campaign</th>\n",
       "      <th>previous</th>\n",
       "      <th>deposit</th>\n",
       "      <th>job_admin.</th>\n",
       "      <th>job_blue-collar</th>\n",
       "      <th>job_entrepreneur</th>\n",
       "      <th>job_housemaid</th>\n",
       "      <th>job_management</th>\n",
       "      <th>job_retired</th>\n",
       "      <th>job_self-employed</th>\n",
       "      <th>job_services</th>\n",
       "      <th>job_student</th>\n",
       "      <th>job_technician</th>\n",
       "      <th>job_unemployed</th>\n",
       "      <th>job_unknown</th>\n",
       "      <th>marital_divorced</th>\n",
       "      <th>marital_married</th>\n",
       "      <th>marital_single</th>\n",
       "      <th>education_primary</th>\n",
       "      <th>education_secondary</th>\n",
       "      <th>education_tertiary</th>\n",
       "      <th>education_unknown</th>\n",
       "      <th>month_apr</th>\n",
       "      <th>month_aug</th>\n",
       "      <th>month_dec</th>\n",
       "      <th>month_feb</th>\n",
       "      <th>month_jan</th>\n",
       "      <th>month_jul</th>\n",
       "      <th>month_jun</th>\n",
       "      <th>month_mar</th>\n",
       "      <th>month_may</th>\n",
       "      <th>month_nov</th>\n",
       "      <th>month_oct</th>\n",
       "      <th>month_sep</th>\n",
       "      <th>contact_cellular</th>\n",
       "      <th>contact_telephone</th>\n",
       "      <th>contact_unknown</th>\n",
       "      <th>poutcome_failure</th>\n",
       "      <th>poutcome_other</th>\n",
       "      <th>poutcome_success</th>\n",
       "      <th>poutcome_unknown</th>\n",
       "    </tr>\n",
       "  </thead>\n",
       "  <tbody>\n",
       "    <tr>\n",
       "      <th>0</th>\n",
       "      <td>59</td>\n",
       "      <td>0</td>\n",
       "      <td>2343</td>\n",
       "      <td>1</td>\n",
       "      <td>0</td>\n",
       "      <td>5</td>\n",
       "      <td>1042</td>\n",
       "      <td>1</td>\n",
       "      <td>0</td>\n",
       "      <td>1</td>\n",
       "      <td>True</td>\n",
       "      <td>False</td>\n",
       "      <td>False</td>\n",
       "      <td>False</td>\n",
       "      <td>False</td>\n",
       "      <td>False</td>\n",
       "      <td>False</td>\n",
       "      <td>False</td>\n",
       "      <td>False</td>\n",
       "      <td>False</td>\n",
       "      <td>False</td>\n",
       "      <td>False</td>\n",
       "      <td>False</td>\n",
       "      <td>True</td>\n",
       "      <td>False</td>\n",
       "      <td>False</td>\n",
       "      <td>True</td>\n",
       "      <td>False</td>\n",
       "      <td>False</td>\n",
       "      <td>False</td>\n",
       "      <td>False</td>\n",
       "      <td>False</td>\n",
       "      <td>False</td>\n",
       "      <td>False</td>\n",
       "      <td>False</td>\n",
       "      <td>False</td>\n",
       "      <td>False</td>\n",
       "      <td>True</td>\n",
       "      <td>False</td>\n",
       "      <td>False</td>\n",
       "      <td>False</td>\n",
       "      <td>False</td>\n",
       "      <td>False</td>\n",
       "      <td>True</td>\n",
       "      <td>False</td>\n",
       "      <td>False</td>\n",
       "      <td>False</td>\n",
       "      <td>True</td>\n",
       "    </tr>\n",
       "    <tr>\n",
       "      <th>1</th>\n",
       "      <td>56</td>\n",
       "      <td>0</td>\n",
       "      <td>45</td>\n",
       "      <td>0</td>\n",
       "      <td>0</td>\n",
       "      <td>5</td>\n",
       "      <td>1467</td>\n",
       "      <td>1</td>\n",
       "      <td>0</td>\n",
       "      <td>1</td>\n",
       "      <td>True</td>\n",
       "      <td>False</td>\n",
       "      <td>False</td>\n",
       "      <td>False</td>\n",
       "      <td>False</td>\n",
       "      <td>False</td>\n",
       "      <td>False</td>\n",
       "      <td>False</td>\n",
       "      <td>False</td>\n",
       "      <td>False</td>\n",
       "      <td>False</td>\n",
       "      <td>False</td>\n",
       "      <td>False</td>\n",
       "      <td>True</td>\n",
       "      <td>False</td>\n",
       "      <td>False</td>\n",
       "      <td>True</td>\n",
       "      <td>False</td>\n",
       "      <td>False</td>\n",
       "      <td>False</td>\n",
       "      <td>False</td>\n",
       "      <td>False</td>\n",
       "      <td>False</td>\n",
       "      <td>False</td>\n",
       "      <td>False</td>\n",
       "      <td>False</td>\n",
       "      <td>False</td>\n",
       "      <td>True</td>\n",
       "      <td>False</td>\n",
       "      <td>False</td>\n",
       "      <td>False</td>\n",
       "      <td>False</td>\n",
       "      <td>False</td>\n",
       "      <td>True</td>\n",
       "      <td>False</td>\n",
       "      <td>False</td>\n",
       "      <td>False</td>\n",
       "      <td>True</td>\n",
       "    </tr>\n",
       "    <tr>\n",
       "      <th>2</th>\n",
       "      <td>41</td>\n",
       "      <td>0</td>\n",
       "      <td>1270</td>\n",
       "      <td>1</td>\n",
       "      <td>0</td>\n",
       "      <td>5</td>\n",
       "      <td>1389</td>\n",
       "      <td>1</td>\n",
       "      <td>0</td>\n",
       "      <td>1</td>\n",
       "      <td>False</td>\n",
       "      <td>False</td>\n",
       "      <td>False</td>\n",
       "      <td>False</td>\n",
       "      <td>False</td>\n",
       "      <td>False</td>\n",
       "      <td>False</td>\n",
       "      <td>False</td>\n",
       "      <td>False</td>\n",
       "      <td>True</td>\n",
       "      <td>False</td>\n",
       "      <td>False</td>\n",
       "      <td>False</td>\n",
       "      <td>True</td>\n",
       "      <td>False</td>\n",
       "      <td>False</td>\n",
       "      <td>True</td>\n",
       "      <td>False</td>\n",
       "      <td>False</td>\n",
       "      <td>False</td>\n",
       "      <td>False</td>\n",
       "      <td>False</td>\n",
       "      <td>False</td>\n",
       "      <td>False</td>\n",
       "      <td>False</td>\n",
       "      <td>False</td>\n",
       "      <td>False</td>\n",
       "      <td>True</td>\n",
       "      <td>False</td>\n",
       "      <td>False</td>\n",
       "      <td>False</td>\n",
       "      <td>False</td>\n",
       "      <td>False</td>\n",
       "      <td>True</td>\n",
       "      <td>False</td>\n",
       "      <td>False</td>\n",
       "      <td>False</td>\n",
       "      <td>True</td>\n",
       "    </tr>\n",
       "    <tr>\n",
       "      <th>3</th>\n",
       "      <td>55</td>\n",
       "      <td>0</td>\n",
       "      <td>2476</td>\n",
       "      <td>1</td>\n",
       "      <td>0</td>\n",
       "      <td>5</td>\n",
       "      <td>579</td>\n",
       "      <td>1</td>\n",
       "      <td>0</td>\n",
       "      <td>1</td>\n",
       "      <td>False</td>\n",
       "      <td>False</td>\n",
       "      <td>False</td>\n",
       "      <td>False</td>\n",
       "      <td>False</td>\n",
       "      <td>False</td>\n",
       "      <td>False</td>\n",
       "      <td>True</td>\n",
       "      <td>False</td>\n",
       "      <td>False</td>\n",
       "      <td>False</td>\n",
       "      <td>False</td>\n",
       "      <td>False</td>\n",
       "      <td>True</td>\n",
       "      <td>False</td>\n",
       "      <td>False</td>\n",
       "      <td>True</td>\n",
       "      <td>False</td>\n",
       "      <td>False</td>\n",
       "      <td>False</td>\n",
       "      <td>False</td>\n",
       "      <td>False</td>\n",
       "      <td>False</td>\n",
       "      <td>False</td>\n",
       "      <td>False</td>\n",
       "      <td>False</td>\n",
       "      <td>False</td>\n",
       "      <td>True</td>\n",
       "      <td>False</td>\n",
       "      <td>False</td>\n",
       "      <td>False</td>\n",
       "      <td>False</td>\n",
       "      <td>False</td>\n",
       "      <td>True</td>\n",
       "      <td>False</td>\n",
       "      <td>False</td>\n",
       "      <td>False</td>\n",
       "      <td>True</td>\n",
       "    </tr>\n",
       "    <tr>\n",
       "      <th>4</th>\n",
       "      <td>54</td>\n",
       "      <td>0</td>\n",
       "      <td>184</td>\n",
       "      <td>0</td>\n",
       "      <td>0</td>\n",
       "      <td>5</td>\n",
       "      <td>673</td>\n",
       "      <td>2</td>\n",
       "      <td>0</td>\n",
       "      <td>1</td>\n",
       "      <td>True</td>\n",
       "      <td>False</td>\n",
       "      <td>False</td>\n",
       "      <td>False</td>\n",
       "      <td>False</td>\n",
       "      <td>False</td>\n",
       "      <td>False</td>\n",
       "      <td>False</td>\n",
       "      <td>False</td>\n",
       "      <td>False</td>\n",
       "      <td>False</td>\n",
       "      <td>False</td>\n",
       "      <td>False</td>\n",
       "      <td>True</td>\n",
       "      <td>False</td>\n",
       "      <td>False</td>\n",
       "      <td>False</td>\n",
       "      <td>True</td>\n",
       "      <td>False</td>\n",
       "      <td>False</td>\n",
       "      <td>False</td>\n",
       "      <td>False</td>\n",
       "      <td>False</td>\n",
       "      <td>False</td>\n",
       "      <td>False</td>\n",
       "      <td>False</td>\n",
       "      <td>False</td>\n",
       "      <td>True</td>\n",
       "      <td>False</td>\n",
       "      <td>False</td>\n",
       "      <td>False</td>\n",
       "      <td>False</td>\n",
       "      <td>False</td>\n",
       "      <td>True</td>\n",
       "      <td>False</td>\n",
       "      <td>False</td>\n",
       "      <td>False</td>\n",
       "      <td>True</td>\n",
       "    </tr>\n",
       "  </tbody>\n",
       "</table>\n",
       "</div>"
      ],
      "text/plain": [
       "   age  default  balance  housing  loan  day  duration  campaign  previous  \\\n",
       "0   59        0     2343        1     0    5      1042         1         0   \n",
       "1   56        0       45        0     0    5      1467         1         0   \n",
       "2   41        0     1270        1     0    5      1389         1         0   \n",
       "3   55        0     2476        1     0    5       579         1         0   \n",
       "4   54        0      184        0     0    5       673         2         0   \n",
       "\n",
       "   deposit  job_admin.  job_blue-collar  job_entrepreneur  job_housemaid  \\\n",
       "0        1        True            False             False          False   \n",
       "1        1        True            False             False          False   \n",
       "2        1       False            False             False          False   \n",
       "3        1       False            False             False          False   \n",
       "4        1        True            False             False          False   \n",
       "\n",
       "   job_management  job_retired  job_self-employed  job_services  job_student  \\\n",
       "0           False        False              False         False        False   \n",
       "1           False        False              False         False        False   \n",
       "2           False        False              False         False        False   \n",
       "3           False        False              False          True        False   \n",
       "4           False        False              False         False        False   \n",
       "\n",
       "   job_technician  job_unemployed  job_unknown  marital_divorced  \\\n",
       "0           False           False        False             False   \n",
       "1           False           False        False             False   \n",
       "2            True           False        False             False   \n",
       "3           False           False        False             False   \n",
       "4           False           False        False             False   \n",
       "\n",
       "   marital_married  marital_single  education_primary  education_secondary  \\\n",
       "0             True           False              False                 True   \n",
       "1             True           False              False                 True   \n",
       "2             True           False              False                 True   \n",
       "3             True           False              False                 True   \n",
       "4             True           False              False                False   \n",
       "\n",
       "   education_tertiary  education_unknown  month_apr  month_aug  month_dec  \\\n",
       "0               False              False      False      False      False   \n",
       "1               False              False      False      False      False   \n",
       "2               False              False      False      False      False   \n",
       "3               False              False      False      False      False   \n",
       "4                True              False      False      False      False   \n",
       "\n",
       "   month_feb  month_jan  month_jul  month_jun  month_mar  month_may  \\\n",
       "0      False      False      False      False      False       True   \n",
       "1      False      False      False      False      False       True   \n",
       "2      False      False      False      False      False       True   \n",
       "3      False      False      False      False      False       True   \n",
       "4      False      False      False      False      False       True   \n",
       "\n",
       "   month_nov  month_oct  month_sep  contact_cellular  contact_telephone  \\\n",
       "0      False      False      False             False              False   \n",
       "1      False      False      False             False              False   \n",
       "2      False      False      False             False              False   \n",
       "3      False      False      False             False              False   \n",
       "4      False      False      False             False              False   \n",
       "\n",
       "   contact_unknown  poutcome_failure  poutcome_other  poutcome_success  \\\n",
       "0             True             False           False             False   \n",
       "1             True             False           False             False   \n",
       "2             True             False           False             False   \n",
       "3             True             False           False             False   \n",
       "4             True             False           False             False   \n",
       "\n",
       "   poutcome_unknown  \n",
       "0              True  \n",
       "1              True  \n",
       "2              True  \n",
       "3              True  \n",
       "4              True  "
      ]
     },
     "execution_count": 25,
     "metadata": {},
     "output_type": "execute_result"
    }
   ],
   "source": [
    "data.head()"
   ]
  },
  {
   "cell_type": "code",
   "execution_count": 26,
   "metadata": {},
   "outputs": [
    {
     "name": "stdout",
     "output_type": "stream",
     "text": [
      "<class 'pandas.core.frame.DataFrame'>\n",
      "RangeIndex: 11162 entries, 0 to 11161\n",
      "Data columns (total 48 columns):\n",
      " #   Column               Non-Null Count  Dtype\n",
      "---  ------               --------------  -----\n",
      " 0   age                  11162 non-null  int64\n",
      " 1   default              11162 non-null  int64\n",
      " 2   balance              11162 non-null  int64\n",
      " 3   housing              11162 non-null  int64\n",
      " 4   loan                 11162 non-null  int64\n",
      " 5   day                  11162 non-null  int64\n",
      " 6   duration             11162 non-null  int64\n",
      " 7   campaign             11162 non-null  int64\n",
      " 8   previous             11162 non-null  int64\n",
      " 9   deposit              11162 non-null  int64\n",
      " 10  job_admin.           11162 non-null  bool \n",
      " 11  job_blue-collar      11162 non-null  bool \n",
      " 12  job_entrepreneur     11162 non-null  bool \n",
      " 13  job_housemaid        11162 non-null  bool \n",
      " 14  job_management       11162 non-null  bool \n",
      " 15  job_retired          11162 non-null  bool \n",
      " 16  job_self-employed    11162 non-null  bool \n",
      " 17  job_services         11162 non-null  bool \n",
      " 18  job_student          11162 non-null  bool \n",
      " 19  job_technician       11162 non-null  bool \n",
      " 20  job_unemployed       11162 non-null  bool \n",
      " 21  job_unknown          11162 non-null  bool \n",
      " 22  marital_divorced     11162 non-null  bool \n",
      " 23  marital_married      11162 non-null  bool \n",
      " 24  marital_single       11162 non-null  bool \n",
      " 25  education_primary    11162 non-null  bool \n",
      " 26  education_secondary  11162 non-null  bool \n",
      " 27  education_tertiary   11162 non-null  bool \n",
      " 28  education_unknown    11162 non-null  bool \n",
      " 29  month_apr            11162 non-null  bool \n",
      " 30  month_aug            11162 non-null  bool \n",
      " 31  month_dec            11162 non-null  bool \n",
      " 32  month_feb            11162 non-null  bool \n",
      " 33  month_jan            11162 non-null  bool \n",
      " 34  month_jul            11162 non-null  bool \n",
      " 35  month_jun            11162 non-null  bool \n",
      " 36  month_mar            11162 non-null  bool \n",
      " 37  month_may            11162 non-null  bool \n",
      " 38  month_nov            11162 non-null  bool \n",
      " 39  month_oct            11162 non-null  bool \n",
      " 40  month_sep            11162 non-null  bool \n",
      " 41  contact_cellular     11162 non-null  bool \n",
      " 42  contact_telephone    11162 non-null  bool \n",
      " 43  contact_unknown      11162 non-null  bool \n",
      " 44  poutcome_failure     11162 non-null  bool \n",
      " 45  poutcome_other       11162 non-null  bool \n",
      " 46  poutcome_success     11162 non-null  bool \n",
      " 47  poutcome_unknown     11162 non-null  bool \n",
      "dtypes: bool(38), int64(10)\n",
      "memory usage: 1.3 MB\n"
     ]
    }
   ],
   "source": [
    "data.info()"
   ]
  },
  {
   "cell_type": "markdown",
   "metadata": {
    "id": "6gGeIFMfE3xy"
   },
   "source": [
    "<a name = Section72></a>\n",
    "### **7.2 Data Scaling**\n",
    "\n",
    "- In this section, we will scale our features to ensure that it one feature doesn't have more impact than others in terms of weights."
   ]
  },
  {
   "cell_type": "code",
   "execution_count": 27,
   "metadata": {
    "id": "Fk84H5RU9X0M"
   },
   "outputs": [],
   "source": [
    "# Instatiating input and output data by dropping unnecessary data features\n",
    "X = data.drop(labels=['deposit'], axis=1)\n",
    "y = data['deposit']"
   ]
  },
  {
   "cell_type": "code",
   "execution_count": null,
   "metadata": {},
   "outputs": [],
   "source": [
    "# Instatiate a scaler object\n",
    "# scaler = StandardScaler()\n",
    "# scaled_data = scaler.fit_transform(X)"
   ]
  },
  {
   "cell_type": "markdown",
   "metadata": {
    "id": "VTDUtk4ZE9NQ"
   },
   "source": [
    "<a name = Section73></a>\n",
    "### **7.3 Data Preparation**\n",
    "\n",
    "- Now we will **split** our **data** into **dependent** and **independent** variables for further development."
   ]
  },
  {
   "cell_type": "code",
   "execution_count": 28,
   "metadata": {
    "colab": {
     "base_uri": "https://localhost:8080/"
    },
    "id": "5J3OJTe-E9st",
    "outputId": "4025adf4-87af-48ff-f90b-65e268937c2a"
   },
   "outputs": [
    {
     "name": "stdout",
     "output_type": "stream",
     "text": [
      "X_train shape:  (8929, 47)\n",
      "y_train shape:  (8929,)\n",
      "X_test shape:  (2233, 47)\n",
      "y_test shape:  (2233,)\n"
     ]
    }
   ],
   "source": [
    "# Splitting data into training and testing sets\n",
    "X_train, X_test, y_train, y_test = train_test_split(X, y, test_size=0.2, random_state=42, stratify=y)\n",
    "\n",
    "# Display the shape of training and testing data\n",
    "print('X_train shape: ', X_train.shape)\n",
    "print('y_train shape: ', y_train.shape)\n",
    "print('X_test shape: ', X_test.shape)\n",
    "print('y_test shape: ', y_test.shape)"
   ]
  },
  {
   "cell_type": "markdown",
   "metadata": {
    "id": "K-mvuWsNFAYJ"
   },
   "source": [
    "<a name = Section8></a>\n",
    "\n",
    "---\n",
    "# **8. Model Development & Evaluation**\n",
    "---\n",
    "\n",
    "- In this section we will **develop a decision Tree model** and Random Forest\n",
    "\n",
    "- Then we will **analyze the results** obtained and **make our observations**.\n",
    "\n",
    "- For **evaluation purpose** we will **focus** on **Precision**, **Recall** and **Accuracy** scores.\n",
    "\n",
    "- We will do **hyperparameter tuning** and see if the scores improves.\n"
   ]
  },
  {
   "cell_type": "markdown",
   "metadata": {
    "id": "susmBGv8TOPl"
   },
   "source": [
    "<a name = Section81></a>\n",
    "### **8.1 Baseline Model Development & Evaluation**\n",
    "\n",
    "- Here we will develop random forest classifier using default setting."
   ]
  },
  {
   "cell_type": "markdown",
   "metadata": {},
   "source": [
    "n_estimators = No. trees in the forest."
   ]
  },
  {
   "cell_type": "code",
   "execution_count": 32,
   "metadata": {
    "colab": {
     "base_uri": "https://localhost:8080/",
     "height": 654
    },
    "id": "aA5BQH1tE9pR",
    "outputId": "0f95c956-50ca-461b-e1b6-ba511247cd52"
   },
   "outputs": [],
   "source": [
    "# Instantiate a decision tree classifier\n",
    "clf = RandomForestClassifier(random_state=42, n_estimators = 100)\n",
    "clf.fit(X_train, y_train)\n",
    "\n",
    "# Predicting training and testing labels\n",
    "y_train_pred_count1 = clf.predict(X_train)\n",
    "y_test_pred_count1 = clf.predict(X_test)\n",
    "\n"
   ]
  },
  {
   "cell_type": "markdown",
   "metadata": {
    "id": "ZDS0FDA_HKT4"
   },
   "source": [
    "**Observation:**\n",
    "\n",
    "- **Train Data:**\n",
    "  - Model predicted all instances Which indicates that the model is overfitting.\n",
    "\n",
    "- **Test Data:**\n",
    "   - The case is similar on test data as well."
   ]
  },
  {
   "cell_type": "code",
   "execution_count": 30,
   "metadata": {},
   "outputs": [
    {
     "data": {
      "image/png": "[encoded data removed]",
      "text/plain": [
       "<Figure size 1500x700 with 4 Axes>"
      ]
     },
     "metadata": {},
     "output_type": "display_data"
    }
   ],
   "source": [
    "# Plotting confusion maxtrix of train and test data\n",
    "fig, (ax1, ax2) = plt.subplots(nrows=1, ncols=2, sharex=False, figsize=(15, 7))\n",
    "ConfusionMatrixDisplay.from_estimator(clf, X_train, y_train,values_format='.5g',cmap='viridis', ax=ax1)\n",
    "ConfusionMatrixDisplay.from_estimator(clf, X_test, y_test,values_format='.5g',cmap='viridis', ax=ax2)\n",
    "ax1.set_title(label='Train Data', size=14)\n",
    "ax2.set_title(label='Test Data', size=14)\n",
    "ax1.grid(False)\n",
    "ax2.grid(False)\n",
    "plt.suptitle(t='Confusion Matrix', size=16)\n",
    "plt.show()"
   ]
  },
  {
   "cell_type": "code",
   "execution_count": 33,
   "metadata": {
    "colab": {
     "base_uri": "https://localhost:8080/"
    },
    "id": "ShNKXCKaHsfB",
    "outputId": "c9b72c4c-830b-4567-f6c0-11f9f7749989"
   },
   "outputs": [
    {
     "name": "stdout",
     "output_type": "stream",
     "text": [
      "                    Training Report          \n",
      "              precision    recall  f1-score   support\n",
      "\n",
      "           0       1.00      1.00      1.00      4698\n",
      "           1       1.00      1.00      1.00      4231\n",
      "\n",
      "    accuracy                           1.00      8929\n",
      "   macro avg       1.00      1.00      1.00      8929\n",
      "weighted avg       1.00      1.00      1.00      8929\n",
      "\n",
      "                    Testing Report           \n",
      "              precision    recall  f1-score   support\n",
      "\n",
      "           0       0.89      0.83      0.86      1175\n",
      "           1       0.83      0.89      0.86      1058\n",
      "\n",
      "    accuracy                           0.86      2233\n",
      "   macro avg       0.86      0.86      0.86      2233\n",
      "weighted avg       0.86      0.86      0.86      2233\n",
      "\n"
     ]
    }
   ],
   "source": [
    "train_report = classification_report(y_train, y_train_pred_count1)\n",
    "test_report = classification_report(y_test, y_test_pred_count1)\n",
    "print('                    Training Report          ')\n",
    "print(train_report)\n",
    "print('                    Testing Report           ')\n",
    "print(test_report)"
   ]
  },
  {
   "cell_type": "markdown",
   "metadata": {},
   "source": [
    "Checking only accuracy again"
   ]
  },
  {
   "cell_type": "code",
   "execution_count": 35,
   "metadata": {},
   "outputs": [
    {
     "name": "stdout",
     "output_type": "stream",
     "text": [
      "1.0\n",
      "0.8602776533811016\n"
     ]
    }
   ],
   "source": [
    "from sklearn.metrics import accuracy_score\n",
    "accuracy_train = accuracy_score(y_train, y_train_pred_count1)\n",
    "print(accuracy_train)\n",
    "accuracy_test = accuracy_score(y_test, y_test_pred_count1)\n",
    "print(accuracy_test)"
   ]
  },
  {
   "cell_type": "markdown",
   "metadata": {
    "id": "VjnmPe50pEvd"
   },
   "source": [
    "<a name = Section82></a>\n",
    "### **8.2 Hyperparameter Tuning**\n",
    "\n",
    "- The baseline model producing good results, is not very common when we are dealing with huge business  data.\n",
    "- To set the best parameters we use **GridSearchCV** and find the best possible combination of hyperparameters for our analysis."
   ]
  },
  {
   "cell_type": "code",
   "execution_count": 36,
   "metadata": {
    "id": "tvRxl-movtOM"
   },
   "outputs": [],
   "source": [
    "# Define the parameter grid you want to search\n",
    "param_grid = {\n",
    "    'n_estimators': [50, 100, 200],   # Number of trees in the forest\n",
    "    'max_depth': [None, 10, 20, 30],   # Maximum depth of the trees\n",
    "    'min_samples_split': [2, 5, 10],   # Minimum number of samples required to split an internal node\n",
    "    'min_samples_leaf': [1, 2, 4],     # Minimum number of samples required to be at a leaf node\n",
    "    'bootstrap': [True, False]         # Whether bootstrap samples are used when building trees\n",
    "}"
   ]
  },
  {
   "cell_type": "markdown",
   "metadata": {
    "id": "hMitssJX4Alm"
   },
   "source": [
    "\n",
    "- As gridsearchCV is **computationally expensive**, it'll take some time.\n",
    "  - **GridSearchCV** is a class from the **Scikit-Learn library** that performs an exhaustive search over a specified hyperparameter grid.\n",
    "  -**estimator=clf** here is the **random forest model** that you instantiate. As **we've already done it before** for our baseline model, we'll simply be using that.\n",
    "  - **param_grid** is a dictionary or a list of dictionaries that defines the hyperparameter grid to search over. Each hyperparameter you want to tune should be specified as a key in the dictionary, and the corresponding values should be a list of hyperparameter values to try.\n",
    "  - **cv=5** specifies that **5-fold cross-validation should be used**. This means the dataset will be divided into 5 parts (folds), and the model will be trained and evaluated 5 times, each time using a different fold as the validation set and the rest for training.\n",
    "  - **n_jobs=-1** indicates that the computation should be **parallelized and use all available CPU cores** (this can speed up the grid search)."
   ]
  },
  {
   "cell_type": "code",
   "execution_count": 37,
   "metadata": {
    "id": "uzQAD44CwZPW"
   },
   "outputs": [],
   "source": [
    "# Create the GridSearchCV object\n",
    "grid_search = GridSearchCV(estimator=clf, param_grid=param_grid, cv=5, n_jobs=-1)\n",
    "\n",
    "# Fit the model with different hyperparameter combinations\n",
    "grid_search.fit(X_train, y_train)\n",
    "\n",
    "# Get the best hyperparameters\n",
    "best_params = grid_search.best_params_\n",
    "best_model = grid_search.best_estimator_"
   ]
  },
  {
   "cell_type": "markdown",
   "metadata": {
    "id": "6NpBl_EB4oCv"
   },
   "source": [
    "- Taking a look at the **best parameters** after GridSearchCV"
   ]
  },
  {
   "cell_type": "code",
   "execution_count": 38,
   "metadata": {
    "colab": {
     "base_uri": "https://localhost:8080/"
    },
    "id": "MR2x35F44hiq",
    "outputId": "40831331-6ba9-46fb-8f56-e472128a26d6"
   },
   "outputs": [
    {
     "data": {
      "text/plain": [
       "{'bootstrap': False,\n",
       " 'max_depth': None,\n",
       " 'min_samples_leaf': 1,\n",
       " 'min_samples_split': 10,\n",
       " 'n_estimators': 200}"
      ]
     },
     "execution_count": 38,
     "metadata": {},
     "output_type": "execute_result"
    }
   ],
   "source": [
    "best_params"
   ]
  },
  {
   "cell_type": "code",
   "execution_count": 39,
   "metadata": {
    "colab": {
     "base_uri": "https://localhost:8080/",
     "height": 92
    },
    "id": "1AfPxwt84uFx",
    "outputId": "3e71e335-9403-464e-f30d-a0337c817f5e"
   },
   "outputs": [
    {
     "data": {
      "text/html": [
       "<style>#sk-container-id-1 {color: black;}#sk-container-id-1 pre{padding: 0;}#sk-container-id-1 div.sk-toggleable {background-color: white;}#sk-container-id-1 label.sk-toggleable__label {cursor: pointer;display: block;width: 100%;margin-bottom: 0;padding: 0.3em;box-sizing: border-box;text-align: center;}#sk-container-id-1 label.sk-toggleable__label-arrow:before {content: \"▸\";float: left;margin-right: 0.25em;color: #696969;}#sk-container-id-1 label.sk-toggleable__label-arrow:hover:before {color: black;}#sk-container-id-1 div.sk-estimator:hover label.sk-toggleable__label-arrow:before {color: black;}#sk-container-id-1 div.sk-toggleable__content {max-height: 0;max-width: 0;overflow: hidden;text-align: left;background-color: #f0f8ff;}#sk-container-id-1 div.sk-toggleable__content pre {margin: 0.2em;color: black;border-radius: 0.25em;background-color: #f0f8ff;}#sk-container-id-1 input.sk-toggleable__control:checked~div.sk-toggleable__content {max-height: 200px;max-width: 100%;overflow: auto;}#sk-container-id-1 input.sk-toggleable__control:checked~label.sk-toggleable__label-arrow:before {content: \"▾\";}#sk-container-id-1 div.sk-estimator input.sk-toggleable__control:checked~label.sk-toggleable__label {background-color: #d4ebff;}#sk-container-id-1 div.sk-label input.sk-toggleable__control:checked~label.sk-toggleable__label {background-color: #d4ebff;}#sk-container-id-1 input.sk-hidden--visually {border: 0;clip: rect(1px 1px 1px 1px);clip: rect(1px, 1px, 1px, 1px);height: 1px;margin: -1px;overflow: hidden;padding: 0;position: absolute;width: 1px;}#sk-container-id-1 div.sk-estimator {font-family: monospace;background-color: #f0f8ff;border: 1px dotted black;border-radius: 0.25em;box-sizing: border-box;margin-bottom: 0.5em;}#sk-container-id-1 div.sk-estimator:hover {background-color: #d4ebff;}#sk-container-id-1 div.sk-parallel-item::after {content: \"\";width: 100%;border-bottom: 1px solid gray;flex-grow: 1;}#sk-container-id-1 div.sk-label:hover label.sk-toggleable__label {background-color: #d4ebff;}#sk-container-id-1 div.sk-serial::before {content: \"\";position: absolute;border-left: 1px solid gray;box-sizing: border-box;top: 0;bottom: 0;left: 50%;z-index: 0;}#sk-container-id-1 div.sk-serial {display: flex;flex-direction: column;align-items: center;background-color: white;padding-right: 0.2em;padding-left: 0.2em;position: relative;}#sk-container-id-1 div.sk-item {position: relative;z-index: 1;}#sk-container-id-1 div.sk-parallel {display: flex;align-items: stretch;justify-content: center;background-color: white;position: relative;}#sk-container-id-1 div.sk-item::before, #sk-container-id-1 div.sk-parallel-item::before {content: \"\";position: absolute;border-left: 1px solid gray;box-sizing: border-box;top: 0;bottom: 0;left: 50%;z-index: -1;}#sk-container-id-1 div.sk-parallel-item {display: flex;flex-direction: column;z-index: 1;position: relative;background-color: white;}#sk-container-id-1 div.sk-parallel-item:first-child::after {align-self: flex-end;width: 50%;}#sk-container-id-1 div.sk-parallel-item:last-child::after {align-self: flex-start;width: 50%;}#sk-container-id-1 div.sk-parallel-item:only-child::after {width: 0;}#sk-container-id-1 div.sk-dashed-wrapped {border: 1px dashed gray;margin: 0 0.4em 0.5em 0.4em;box-sizing: border-box;padding-bottom: 0.4em;background-color: white;}#sk-container-id-1 div.sk-label label {font-family: monospace;font-weight: bold;display: inline-block;line-height: 1.2em;}#sk-container-id-1 div.sk-label-container {text-align: center;}#sk-container-id-1 div.sk-container {/* jupyter's `normalize.less` sets `[hidden] { display: none; }` but bootstrap.min.css set `[hidden] { display: none !important; }` so we also need the `!important` here to be able to override the default hidden behavior on the sphinx rendered scikit-learn.org. See: https://github.com/scikit-learn/scikit-learn/issues/21755 */display: inline-block !important;position: relative;}#sk-container-id-1 div.sk-text-repr-fallback {display: none;}</style><div id=\"sk-container-id-1\" class=\"sk-top-container\"><div class=\"sk-text-repr-fallback\"><pre>RandomForestClassifier(bootstrap=False, min_samples_split=10, n_estimators=200,\n",
       "                       random_state=42)</pre><b>In a Jupyter environment, please rerun this cell to show the HTML representation or trust the notebook. <br />On GitHub, the HTML representation is unable to render, please try loading this page with nbviewer.org.</b></div><div class=\"sk-container\" hidden><div class=\"sk-item\"><div class=\"sk-estimator sk-toggleable\"><input class=\"sk-toggleable__control sk-hidden--visually\" id=\"sk-estimator-id-1\" type=\"checkbox\" checked><label for=\"sk-estimator-id-1\" class=\"sk-toggleable__label sk-toggleable__label-arrow\">RandomForestClassifier</label><div class=\"sk-toggleable__content\"><pre>RandomForestClassifier(bootstrap=False, min_samples_split=10, n_estimators=200,\n",
       "                       random_state=42)</pre></div></div></div></div></div>"
      ],
      "text/plain": [
       "RandomForestClassifier(bootstrap=False, min_samples_split=10, n_estimators=200,\n",
       "                       random_state=42)"
      ]
     },
     "execution_count": 39,
     "metadata": {},
     "output_type": "execute_result"
    }
   ],
   "source": [
    "best_model"
   ]
  },
  {
   "cell_type": "code",
   "execution_count": 40,
   "metadata": {
    "colab": {
     "base_uri": "https://localhost:8080/"
    },
    "id": "VHCYKnn23Way",
    "outputId": "a483e547-204c-4813-fd33-20e0119a95a8"
   },
   "outputs": [
    {
     "data": {
      "text/plain": [
       "0.8607254814151366"
      ]
     },
     "execution_count": 40,
     "metadata": {},
     "output_type": "execute_result"
    }
   ],
   "source": [
    "# Evaluate the best model on the test set\n",
    "test_accuracy = best_model.score(X_test, y_test)\n",
    "test_accuracy"
   ]
  },
  {
   "cell_type": "markdown",
   "metadata": {
    "id": "H-vHxRYZ3fTF"
   },
   "source": [
    "**<h3>Plotting the model evaluation after hyperparameter tuning**"
   ]
  },
  {
   "cell_type": "code",
   "execution_count": 41,
   "metadata": {
    "colab": {
     "base_uri": "https://localhost:8080/",
     "height": 646
    },
    "id": "UzuoxnChxDWT",
    "outputId": "202d9935-aaf5-44fd-93b5-072641bc2531"
   },
   "outputs": [
    {
     "data": {
      "image/png": "[encoded data removed]",
      "text/plain": [
       "<Figure size 1500x700 with 4 Axes>"
      ]
     },
     "metadata": {},
     "output_type": "display_data"
    }
   ],
   "source": [
    "# Predicting training and testing labels\n",
    "y_train_pred= best_model.predict(X_train)\n",
    "y_test_pred = best_model.predict(X_test)\n",
    "\n",
    "# Plotting confusion maxtrix of train and test data\n",
    "fig, (ax1, ax2) = plt.subplots(nrows=1, ncols=2, sharex=False, figsize=(15, 7))\n",
    "ConfusionMatrixDisplay.from_estimator(best_model, X_train, y_train,values_format='.5g', ax=ax1)\n",
    "ConfusionMatrixDisplay.from_estimator(best_model, X_test, y_test,values_format='.5g', ax=ax2)\n",
    "ax1.set_title(label='Train Data', size=14)\n",
    "ax2.set_title(label='Test Data', size=14)\n",
    "ax1.grid(False)\n",
    "ax2.grid(False)\n",
    "plt.suptitle(t='Confusion Matrix', size=16)\n",
    "plt.show()"
   ]
  },
  {
   "cell_type": "code",
   "execution_count": 42,
   "metadata": {
    "colab": {
     "base_uri": "https://localhost:8080/"
    },
    "id": "KjWDz41exd15",
    "outputId": "a2130cfe-7daa-4444-f982-f9cf2eac5f6b"
   },
   "outputs": [
    {
     "name": "stdout",
     "output_type": "stream",
     "text": [
      "                    Training Report          \n",
      "              precision    recall  f1-score   support\n",
      "\n",
      "           0       0.99      0.98      0.99      4698\n",
      "           1       0.98      0.99      0.98      4231\n",
      "\n",
      "    accuracy                           0.99      8929\n",
      "   macro avg       0.98      0.99      0.99      8929\n",
      "weighted avg       0.99      0.99      0.99      8929\n",
      "\n",
      "                    Testing Report           \n",
      "              precision    recall  f1-score   support\n",
      "\n",
      "           0       0.90      0.82      0.86      1175\n",
      "           1       0.82      0.90      0.86      1058\n",
      "\n",
      "    accuracy                           0.86      2233\n",
      "   macro avg       0.86      0.86      0.86      2233\n",
      "weighted avg       0.86      0.86      0.86      2233\n",
      "\n"
     ]
    }
   ],
   "source": [
    "train_report = classification_report(y_train, y_train_pred)\n",
    "test_report = classification_report(y_test, y_test_pred)\n",
    "print('                    Training Report          ')\n",
    "print(train_report)\n",
    "print('                    Testing Report           ')\n",
    "print(test_report)"
   ]
  },
  {
   "cell_type": "code",
   "execution_count": 43,
   "metadata": {
    "colab": {
     "base_uri": "https://localhost:8080/"
    },
    "id": "RpIEgH5aHD08",
    "outputId": "7c63ad6c-0644-4b79-f96a-bb325de25e14"
   },
   "outputs": [
    {
     "name": "stdout",
     "output_type": "stream",
     "text": [
      "   Customer_Name  Predicted_Label\n",
      "83   Customer_84                0\n",
      "53   Customer_54                0\n",
      "70   Customer_71                0\n",
      "45   Customer_46                0\n",
      "44   Customer_45                0\n",
      "39   Customer_40                0\n",
      "22   Customer_23                0\n",
      "80   Customer_81                0\n",
      "10   Customer_11                0\n",
      "0     Customer_1                0\n",
      "18   Customer_19                0\n",
      "30   Customer_31                0\n",
      "73   Customer_74                0\n",
      "33   Customer_34                0\n",
      "90   Customer_91                0\n",
      "4     Customer_5                0\n",
      "76   Customer_77                0\n",
      "77   Customer_78                0\n",
      "12   Customer_13                0\n",
      "31   Customer_32                0\n"
     ]
    }
   ],
   "source": [
    "# Import necessary libraries\n",
    "import numpy as np\n",
    "import pandas as pd\n",
    "from sklearn.model_selection import train_test_split, GridSearchCV\n",
    "from sklearn.ensemble import RandomForestClassifier\n",
    "from sklearn.metrics import accuracy_score\n",
    "\n",
    "# Generate a dummy customer dataset with names\n",
    "np.random.seed(42)  # for reproducibility\n",
    "\n",
    "# Dummy features\n",
    "X = np.random.rand(100, 5)\n",
    "\n",
    "# Dummy target variable (binary classification)\n",
    "y = np.random.randint(2, size=100)\n",
    "\n",
    "# Dummy customer names\n",
    "customer_names = [f\"Customer_{i}\" for i in range(1, 101)]\n",
    "\n",
    "# Create a DataFrame\n",
    "df = pd.DataFrame(data=X, columns=[f\"Feature_{i}\" for i in range(1, 6)])\n",
    "df['Customer_Name'] = customer_names\n",
    "df['Label'] = y\n",
    "\n",
    "# Split the dataset into training and testing sets\n",
    "X_train, X_test, y_train, y_test, names_train, names_test = train_test_split(\n",
    "    df.drop(['Label', 'Customer_Name'], axis=1), df['Label'], df['Customer_Name'],\n",
    "    test_size=0.2, random_state=42\n",
    ")\n",
    "\n",
    "# Create a Random Forest Classifier\n",
    "rf_classifier = RandomForestClassifier()\n",
    "\n",
    "# Define the hyperparameter grid for GridSearch\n",
    "param_grid = {\n",
    "    'n_estimators': [50, 100, 150],\n",
    "    'max_depth': [None, 10, 20, 30],\n",
    "    'min_samples_split': [2, 5, 10],\n",
    "    'min_samples_leaf': [1, 2, 4]\n",
    "}\n",
    "\n",
    "# Create a GridSearchCV object\n",
    "grid_search = GridSearchCV(estimator=rf_classifier, param_grid=param_grid, cv=3, scoring='accuracy', n_jobs=-1)\n",
    "\n",
    "# Fit the model to the training data\n",
    "grid_search.fit(X_train, y_train)\n",
    "\n",
    "# Get the best parameters from the grid search\n",
    "best_params = grid_search.best_params_\n",
    "\n",
    "# Train a Random Forest model with the best parameters\n",
    "best_rf_classifier = RandomForestClassifier(**best_params)\n",
    "best_rf_classifier.fit(X_train, y_train)\n",
    "\n",
    "# Make predictions on the test set\n",
    "y_pred = best_rf_classifier.predict(X_test)\n",
    "\n",
    "# Create a DataFrame to store results\n",
    "results_df = pd.DataFrame({'Customer_Name': names_test, 'Predicted_Label': y_pred})\n",
    "\n",
    "# Print the results DataFrame\n",
    "print(results_df)\n"
   ]
  },
  {
   "cell_type": "code",
   "execution_count": 44,
   "metadata": {
    "colab": {
     "base_uri": "https://localhost:8080/"
    },
    "id": "jSA9WT9tkRo4",
    "outputId": "368100cd-040c-4da8-a58e-6ef39be71900"
   },
   "outputs": [
    {
     "name": "stdout",
     "output_type": "stream",
     "text": [
      "     Customer_Name  Predicted_Label\n",
      "0   New_Customer_1                0\n",
      "1   New_Customer_2                0\n",
      "2   New_Customer_3                0\n",
      "3   New_Customer_4                0\n",
      "4   New_Customer_5                0\n",
      "5   New_Customer_6                0\n",
      "6   New_Customer_7                0\n",
      "7   New_Customer_8                0\n",
      "8   New_Customer_9                0\n",
      "9  New_Customer_10                0\n"
     ]
    }
   ],
   "source": [
    "# Use the best model from the grid search to make predictions on new data\n",
    "new_data = np.random.rand(10, 5)  # assuming you have new data with the same features\n",
    "new_predictions = best_rf_classifier.predict(new_data)\n",
    "\n",
    "# Create a DataFrame for the new predictions\n",
    "new_customer_names = [f\"New_Customer_{i}\" for i in range(1, 11)]\n",
    "new_results_df = pd.DataFrame({'Customer_Name': new_customer_names, 'Predicted_Label': new_predictions})\n",
    "\n",
    "# Print the DataFrame for the new predictions\n",
    "print(new_results_df)\n"
   ]
  },
  {
   "cell_type": "markdown",
   "metadata": {
    "id": "_H3bOK6bXgb7"
   },
   "source": [
    "<a name = Section9></a>\n",
    "\n",
    "---\n",
    "# **9. Summarization**\n",
    "---"
   ]
  },
  {
   "cell_type": "markdown",
   "metadata": {
    "id": "HFqTdgNaXix8"
   },
   "source": [
    "<a name = Section91></a>\n",
    "### **9.1 Conclusion**\n",
    "\n",
    "\n",
    "- we have **analyzed** the **impact** of various factors such as age, job, marital status, education, default, balance, housing, loan, contact, day, month, duration, campaign, pdays, previous, and poutcome on the **likelihood** of a client subscribing to a term deposit.\n",
    "\n",
    "- We used the **Random Forest** model to fit the dataset, but the results showed overfitting, with **perfect** accuracy on both the **training** and **testing** sets.\n",
    "\n",
    "- We can use **cross-validation techniques** such as k-fold cross-validation to obtain a more reliable estimate of the **model's performance** on unseen data. This can help identify **overfitting** early in the model development process."
   ]
  },
  {
   "cell_type": "markdown",
   "metadata": {
    "id": "uLFR_NSYZcEa"
   },
   "source": [
    "<a name = Section92></a>\n",
    "### **9.2 Actionable Insights**\n",
    "\n",
    "- create **customer segments** based on their likelihood of subscribing to a term deposit. This can help the bank tailor its marketing efforts and communication strategies to better address the needs and preferences of each segment.\n",
    "\n",
    "- Develop **personalized** offers and promotions for clients based on their profile and the factors that influence their decision to **subscribe** to a term deposit.\n",
    "\n",
    "- Utilize different **communication** channels (telephone, email, SMS, etc.) to reach clients based on their preferred **contact** method.\n",
    "\n",
    "- Regularly **analyze** the performance of marketing campaigns to identify successful **strategies** and areas for improvement.\n",
    "\n",
    "- Train bank **employees** to better understand the factors that influence clients' decisions to subscribe to a term **deposit**."
   ]
  }
 ],
 "metadata": {
  "colab": {
   "provenance": []
  },
  "kernelspec": {
   "display_name": "Python 3 (ipykernel)",
   "language": "python",
   "name": "python3"
  },
  "language_info": {
   "codemirror_mode": {
    "name": "ipython",
    "version": 3
   },
   "file_extension": ".py",
   "mimetype": "text/x-python",
   "name": "python",
   "nbconvert_exporter": "python",
   "pygments_lexer": "ipython3",
   "version": "3.11.5"
  }
 },
 "nbformat": 4,
 "nbformat_minor": 1
}
