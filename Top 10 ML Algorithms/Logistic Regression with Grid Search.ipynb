{
 "cells": [
  {
   "cell_type": "markdown",
   "id": "c894d839",
   "metadata": {},
   "source": [
    "In the logistic regression model, from sklearn, has a parameter C that controls regularization,which affects the complexity of the model."
   ]
  },
  {
   "cell_type": "markdown",
   "id": "d9dfea10",
   "metadata": {},
   "source": [
    "The best value is dependent on the data used to train the model."
   ]
  },
  {
   "cell_type": "markdown",
   "id": "7c247d65",
   "metadata": {},
   "source": [
    "One method is to try out different values and then pick the value that gives the best score. This technique is known as a grid search"
   ]
  },
  {
   "cell_type": "markdown",
   "id": "06b6ece7",
   "metadata": {},
   "source": [
    "Using Default Parameters"
   ]
  },
  {
   "cell_type": "code",
   "execution_count": 1,
   "id": "d1053929",
   "metadata": {},
   "outputs": [],
   "source": [
    "from sklearn import datasets\n",
    "iris = datasets.load_iris()"
   ]
  },
  {
   "cell_type": "code",
   "execution_count": 2,
   "id": "c8caaaf0",
   "metadata": {},
   "outputs": [],
   "source": [
    "X = iris['data']\n",
    "y = iris['target']"
   ]
  },
  {
   "cell_type": "code",
   "execution_count": 3,
   "id": "f4728b46",
   "metadata": {},
   "outputs": [],
   "source": [
    "from sklearn.linear_model import LogisticRegression"
   ]
  },
  {
   "cell_type": "code",
   "execution_count": 4,
   "id": "fc9b6580",
   "metadata": {},
   "outputs": [],
   "source": [
    "logit = LogisticRegression(max_iter = 10000)"
   ]
  },
  {
   "cell_type": "markdown",
   "id": "590b3ee3",
   "metadata": {},
   "source": [
    "After we create the model, we must fit the model to the data."
   ]
  },
  {
   "cell_type": "code",
   "execution_count": 5,
   "id": "da507588",
   "metadata": {},
   "outputs": [
    {
     "name": "stdout",
     "output_type": "stream",
     "text": [
      "LogisticRegression(max_iter=10000)\n"
     ]
    }
   ],
   "source": [
    "print(logit.fit(X,y))"
   ]
  },
  {
   "cell_type": "markdown",
   "id": "e1394a12",
   "metadata": {},
   "source": [
    "To evaluate the model we run the score method."
   ]
  },
  {
   "cell_type": "code",
   "execution_count": 6,
   "id": "607433d7",
   "metadata": {},
   "outputs": [
    {
     "name": "stdout",
     "output_type": "stream",
     "text": [
      "0.9733333333333334\n"
     ]
    }
   ],
   "source": [
    "print(logit.score(X,y))"
   ]
  },
  {
   "cell_type": "markdown",
   "id": "9e5d3156",
   "metadata": {},
   "source": [
    "With the default setting of C = 1, we achieved a score of 0.973."
   ]
  },
  {
   "cell_type": "markdown",
   "id": "e7d2bc75",
   "metadata": {},
   "source": [
    "Let's see if we can do any better by implementing a grid search with difference values of 0.973."
   ]
  },
  {
   "cell_type": "code",
   "execution_count": 7,
   "id": "fc79bce8",
   "metadata": {},
   "outputs": [],
   "source": [
    "C = [0.25, 0.5, 0.75, 1, 1.25, 1.5, 1.75, 2]"
   ]
  },
  {
   "cell_type": "code",
   "execution_count": 8,
   "id": "fbcb89e1",
   "metadata": {},
   "outputs": [],
   "source": [
    "scores = []"
   ]
  },
  {
   "cell_type": "markdown",
   "id": "c92e48e6",
   "metadata": {},
   "source": [
    "Loop over the range of values and update the parameter at each time"
   ]
  },
  {
   "cell_type": "code",
   "execution_count": 9,
   "id": "ef546937",
   "metadata": {},
   "outputs": [],
   "source": [
    "for choice in C:\n",
    "  logit.set_params(C=choice)\n",
    "  logit.fit(X, y)\n",
    "  scores.append(logit.score(X, y))"
   ]
  },
  {
   "cell_type": "code",
   "execution_count": 10,
   "id": "18669def",
   "metadata": {},
   "outputs": [
    {
     "name": "stdout",
     "output_type": "stream",
     "text": [
      "[0.9666666666666667, 0.9666666666666667, 0.9733333333333334, 0.9733333333333334, 0.98, 0.98, 0.9866666666666667, 0.9866666666666667]\n"
     ]
    }
   ],
   "source": [
    "print(scores)"
   ]
  },
  {
   "cell_type": "markdown",
   "id": "80f395b6",
   "metadata": {},
   "source": [
    "We can see that the lower values of C performed worse than the base parameter of 1. However, as we increased the value of C to 1.75 the model experienced increased accuracy.\n",
    "\n",
    "It seems that increasing C beyond this amount does not help increase model accuracy."
   ]
  }
 ],
 "metadata": {
  "kernelspec": {
   "display_name": "Python 3 (ipykernel)",
   "language": "python",
   "name": "python3"
  },
  "language_info": {
   "codemirror_mode": {
    "name": "ipython",
    "version": 3
   },
   "file_extension": ".py",
   "mimetype": "text/x-python",
   "name": "python",
   "nbconvert_exporter": "python",
   "pygments_lexer": "ipython3",
   "version": "3.11.5"
  }
 },
 "nbformat": 4,
 "nbformat_minor": 5
}
