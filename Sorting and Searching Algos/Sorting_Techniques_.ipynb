{
  "nbformat": 4,
  "nbformat_minor": 0,
  "metadata": {
    "colab": {
      "provenance": []
    },
    "kernelspec": {
      "name": "python3",
      "display_name": "Python 3"
    },
    "language_info": {
      "name": "python"
    }
  },
  "cells": [
    {
      "cell_type": "markdown",
      "source": [
        "Bubble Sort Technique"
      ],
      "metadata": {
        "id": "nSOlHm5w7XOr"
      }
    },
    {
      "cell_type": "markdown",
      "source": [
        "Bubble Sort is an algorithm that sorts an array from the lowest value to the highest value.\n",
        "Go through the array, one value at a time.\n",
        "For each value, compare the value with the next value.\n",
        "If the value is higher than the next one, swap the values so that the highest value comes last.\n",
        "Go through the array as many times as there are values in the array."
      ],
      "metadata": {
        "id": "a3MCBwTj8fu2"
      }
    },
    {
      "cell_type": "code",
      "execution_count": null,
      "metadata": {
        "colab": {
          "base_uri": "https://localhost:8080/"
        },
        "id": "WDAgQrq_55CF",
        "outputId": "6b2aff79-3ee8-43eb-d764-419d4a07d548"
      },
      "outputs": [
        {
          "output_type": "stream",
          "name": "stdout",
          "text": [
            "Sorted Array  [1, 4, 3, 10, 12, 19, 5, 25, 37]\n"
          ]
        }
      ],
      "source": [
        "array = [10, 1, 4 , 3, 12, 19, 25, 5, 37]\n",
        "n = len(array)\n",
        "for i in range (n-1):\n",
        "    swapped = False\n",
        "    for j in range (n-i-1):\n",
        "      if array[j] > array[j+1]:\n",
        "        array[j], array[j+1] = array[j+1], array[j]\n",
        "        swapped = True\n",
        "      if not swapped:\n",
        "        break\n",
        "print (\"Sorted Array \", array)"
      ]
    },
    {
      "cell_type": "markdown",
      "source": [
        "Selection Sort Technique"
      ],
      "metadata": {
        "id": "9VQYn6JB8InE"
      }
    },
    {
      "cell_type": "markdown",
      "source": [
        "The Selection Sort algorithm finds the lowest value in an array and moves it to the front of the array."
      ],
      "metadata": {
        "id": "1mIXcnvG8bXf"
      }
    },
    {
      "cell_type": "code",
      "source": [
        "array = [10, 1, 4 , 3, 12, 19, 25, 5, 37, -1]\n",
        "n = len(array)\n",
        "for i in range(n-1):\n",
        "    min_index = i\n",
        "    for j in range(i+1, n):\n",
        "        if array[j] < array[min_index]:\n",
        "            min_index = j\n",
        "    min_value = array.pop(min_index)\n",
        "    array.insert(i, min_value)\n",
        "\n",
        "print(\"Sorted array:\", array)"
      ],
      "metadata": {
        "colab": {
          "base_uri": "https://localhost:8080/"
        },
        "id": "OA81t1av8MVI",
        "outputId": "e5e296dc-7c1d-410e-a220-6bbcc67eba05"
      },
      "execution_count": null,
      "outputs": [
        {
          "output_type": "stream",
          "name": "stdout",
          "text": [
            "Sorted array: [-1, 1, 3, 4, 5, 10, 12, 19, 25, 37]\n"
          ]
        }
      ]
    },
    {
      "cell_type": "markdown",
      "source": [
        "Insertion Sort Technique"
      ],
      "metadata": {
        "id": "2_sjsVIy7i4g"
      }
    },
    {
      "cell_type": "markdown",
      "source": [
        "The Insertion Sort algorithm uses one part of the array to hold the sorted values, and the other part of the array to hold values that are not sorted yet.\n",
        "\n",
        "Picks first value and places it in right place and continues with next number"
      ],
      "metadata": {
        "id": "siUszknN80CH"
      }
    },
    {
      "cell_type": "code",
      "source": [
        "my_array = [64, 34, 25, 12, 22, 11, 90, 5, -14]\n",
        "\n",
        "n = len(my_array)\n",
        "for i in range(1,n):\n",
        "    insert_index = i\n",
        "    current_value = my_array.pop(i)\n",
        "    for j in range(i-1, -1, -1):\n",
        "        if my_array[j] > current_value:\n",
        "            insert_index = j\n",
        "    my_array.insert(insert_index, current_value)\n",
        "\n",
        "print(\"Sorted array:\", my_array)"
      ],
      "metadata": {
        "colab": {
          "base_uri": "https://localhost:8080/"
        },
        "id": "tM1O0H23816C",
        "outputId": "a5c6c00b-cafe-4462-aad7-3dc132f11472"
      },
      "execution_count": null,
      "outputs": [
        {
          "output_type": "stream",
          "name": "stdout",
          "text": [
            "Sorted array: [-14, 5, 11, 12, 22, 25, 34, 64, 90]\n"
          ]
        }
      ]
    },
    {
      "cell_type": "markdown",
      "source": [
        "Quick Sort Techinique\n",
        "\n",
        "The Quicksort algorithm takes an array of values, chooses one of the values as the 'pivot' element, and moves the other values so that lower values are on the left of the pivot element, and higher values are on the right of it."
      ],
      "metadata": {
        "id": "-moU1cGV9cul"
      }
    },
    {
      "cell_type": "code",
      "source": [
        "def partition(array, low, high):\n",
        "    pivot = array[high]\n",
        "    i = low - 1\n",
        "\n",
        "    for j in range(low, high):\n",
        "        if array[j] <= pivot:\n",
        "            i += 1\n",
        "            array[i], array[j] = array[j], array[i]\n",
        "\n",
        "    array[i+1], array[high] = array[high], array[i+1]\n",
        "    return i+1\n",
        "\n",
        "def quicksort(array, low=0, high=None):\n",
        "    if high is None:\n",
        "        high = len(array) - 1\n",
        "\n",
        "    if low < high:\n",
        "        pivot_index = partition(array, low, high)\n",
        "        quicksort(array, low, pivot_index-1)\n",
        "        quicksort(array, pivot_index+1, high)\n",
        "\n",
        "my_array = [64, 34, 25, 12, 22, 11, 90, 5]\n",
        "quicksort(my_array)\n",
        "print(\"Sorted array:\", my_array)\n"
      ],
      "metadata": {
        "colab": {
          "base_uri": "https://localhost:8080/"
        },
        "id": "3odlJ623GkLN",
        "outputId": "2eae369e-0846-45c1-c383-14ff0389d844"
      },
      "execution_count": null,
      "outputs": [
        {
          "output_type": "stream",
          "name": "stdout",
          "text": [
            "Sorted array: [5, 11, 12, 22, 25, 34, 64, 90]\n"
          ]
        }
      ]
    },
    {
      "cell_type": "markdown",
      "source": [
        "Radix Sort Technique\n",
        "\n",
        "The Radix Sort algorithm sorts an array by individual digits, starting with the least significant digit (the rightmost one)."
      ],
      "metadata": {
        "id": "EHaZ4lJjG9Jw"
      }
    },
    {
      "cell_type": "code",
      "source": [
        "myArray = [170, 45, 75, 90, 802, 24, 2, 66, -14]\n",
        "print(\"Original array:\", myArray)\n",
        "radixArray = [[], [], [], [], [], [], [], [], [], []]\n",
        "maxVal = max(myArray)\n",
        "exp = 1\n",
        "\n",
        "while maxVal // exp > 0:\n",
        "\n",
        "    while len(myArray) > 0:\n",
        "        val = myArray.pop()\n",
        "        radixIndex = (val // exp) % 10\n",
        "        radixArray[radixIndex].append(val)\n",
        "\n",
        "    for bucket in radixArray:\n",
        "        while len(bucket) > 0:\n",
        "            val = bucket.pop()\n",
        "            myArray.append(val)\n",
        "\n",
        "    exp *= 10\n",
        "\n",
        "print(\"Sorted array:\", myArray)"
      ],
      "metadata": {
        "colab": {
          "base_uri": "https://localhost:8080/"
        },
        "id": "digZC-OOHNix",
        "outputId": "9f5ce9f5-583b-4df6-f8a9-5528147c7cb9"
      },
      "execution_count": null,
      "outputs": [
        {
          "output_type": "stream",
          "name": "stdout",
          "text": [
            "Original array: [170, 45, 75, 90, 802, 24, 2, 66, -14]\n",
            "Sorted array: [2, 24, 45, 66, 75, 90, 170, 802, -14]\n"
          ]
        }
      ]
    },
    {
      "cell_type": "markdown",
      "source": [
        "Merge Sort Technique\n",
        "\n",
        "The Merge Sort algorithm is a divide-and-conquer algorithm that sorts an array by first breaking it down into smaller arrays, and then building the array back together the correct way so that it is sorted."
      ],
      "metadata": {
        "id": "50xWl8mTHZs_"
      }
    },
    {
      "cell_type": "code",
      "source": [
        "def mergeSort(arr):\n",
        "    if len(arr) == 1:\n",
        "        return arr\n",
        "\n",
        "    mid = len(arr) // 2\n",
        "    leftHalf = arr[:mid]\n",
        "    rightHalf = arr[mid:]\n",
        "\n",
        "    sortedLeft = mergeSort(leftHalf)\n",
        "    sortedRight = mergeSort(rightHalf)\n",
        "\n",
        "    return merge(sortedLeft, sortedRight)\n",
        "\n",
        "def merge(left, right):\n",
        "    result = []\n",
        "    i = j = 0\n",
        "\n",
        "    while i < len(left) and j < len(right):\n",
        "        if left[i] < right[j]:\n",
        "            result.append(left[i])\n",
        "            i += 1\n",
        "        else:\n",
        "            result.append(right[j])\n",
        "            j += 1\n",
        "\n",
        "    result.extend(left[i:])\n",
        "    result.extend(right[j:])\n",
        "\n",
        "    return result\n",
        "\n",
        "unsortedArr = [3, 7, 6, -10, 15, 23.5, 55, -13]\n",
        "\n",
        "sortedArr = mergeSort(unsortedArr)\n",
        "print(\"Sorted array:\", sortedArr)"
      ],
      "metadata": {
        "colab": {
          "base_uri": "https://localhost:8080/"
        },
        "id": "bCuxP1CwHcjN",
        "outputId": "287d5d1b-4195-492b-a156-386cbaf2dc83"
      },
      "execution_count": null,
      "outputs": [
        {
          "output_type": "stream",
          "name": "stdout",
          "text": [
            "Sorted array: [-13, -10, 3, 6, 7, 15, 23.5, 55]\n"
          ]
        }
      ]
    },
    {
      "cell_type": "code",
      "source": [
        "ar = [1]\n",
        "len(ar)"
      ],
      "metadata": {
        "colab": {
          "base_uri": "https://localhost:8080/"
        },
        "id": "SAIQ1f0NPDHM",
        "outputId": "c6b836d0-5c05-4da9-b4ef-385e030b6b07"
      },
      "execution_count": null,
      "outputs": [
        {
          "output_type": "execute_result",
          "data": {
            "text/plain": [
              "1"
            ]
          },
          "metadata": {},
          "execution_count": 30
        }
      ]
    }
  ]
}