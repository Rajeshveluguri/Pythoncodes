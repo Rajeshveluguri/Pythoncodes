{
  "nbformat": 4,
  "nbformat_minor": 0,
  "metadata": {
    "colab": {
      "provenance": []
    },
    "kernelspec": {
      "name": "python3",
      "display_name": "Python 3"
    },
    "language_info": {
      "name": "python"
    }
  },
  "cells": [
    {
      "cell_type": "code",
      "execution_count": null,
      "metadata": {
        "id": "-GbPjQxNP7Jt"
      },
      "outputs": [],
      "source": []
    },
    {
      "cell_type": "markdown",
      "source": [
        "Search Techniques\n",
        "\n",
        "Linear Search and Binary Search\n",
        "\n",
        "Linear Search : The Linear Search algorithm searches through an array and returns the index of the value it searches for."
      ],
      "metadata": {
        "id": "ajfRj21YRiLU"
      }
    },
    {
      "cell_type": "code",
      "source": [
        "def linearSearch(arr, targetVal):\n",
        "    for i in range(len(arr)):\n",
        "        if arr[i] == targetVal:\n",
        "            return i\n",
        "    return -1\n",
        "\n",
        "arr = [3, 7, 2, 9, 5]\n",
        "targetVal = 9\n",
        "\n",
        "result = linearSearch(arr, targetVal)\n",
        "\n",
        "if result != -1:\n",
        "    print(\"Value\",targetVal,\"found at index\",result)\n",
        "else:\n",
        "    print(\"Value\",targetVal,\"not found\")"
      ],
      "metadata": {
        "colab": {
          "base_uri": "https://localhost:8080/"
        },
        "id": "0a_QN5RgRsqU",
        "outputId": "f391a812-86b5-4f38-bc1b-3554f2eeac8b"
      },
      "execution_count": null,
      "outputs": [
        {
          "output_type": "stream",
          "name": "stdout",
          "text": [
            "Value 9 found at index 3\n"
          ]
        }
      ]
    },
    {
      "cell_type": "markdown",
      "source": [
        "Binary Search is much faster than Linear Search, but requires a sorted array to work.\n",
        "The Binary Search algorithm works by checking the value in the center of the array. If the target value is lower, the next value to check is in the center of the left half of the array. This way of searching means that the search area is always half of the previous search area, and this is why the Binary Search algorithm is so fast.\n",
        "This process of halving the search area happens until the target value is found, or until the search area of the array is empty.\n"
      ],
      "metadata": {
        "id": "2p_Ag3HNR-jr"
      }
    },
    {
      "cell_type": "code",
      "source": [],
      "metadata": {
        "id": "FVH0XBNySR_s"
      },
      "execution_count": null,
      "outputs": []
    },
    {
      "cell_type": "code",
      "source": [
        "def binarySearch(arr, targetVal):\n",
        "    left = 0\n",
        "    right = len(arr) - 1\n",
        "\n",
        "    while left <= right:\n",
        "        mid = (left + right) // 2\n",
        "\n",
        "        if arr[mid] == targetVal:\n",
        "            return mid\n",
        "\n",
        "        if arr[mid] < targetVal:\n",
        "            left = mid + 1\n",
        "        else:\n",
        "            right = mid - 1\n",
        "\n",
        "    return -1\n",
        "\n",
        "myArray = [1, 3, 5, 7, 9, 11, 13, 15, 17, 19]\n",
        "myTarget = 15\n",
        "\n",
        "result = binarySearch(myArray, myTarget)\n",
        "\n",
        "if result != -1:\n",
        "    print(\"Value\",myTarget,\"found at index\", result)\n",
        "else:\n",
        "    print(\"Target not found in array.\")"
      ],
      "metadata": {
        "colab": {
          "base_uri": "https://localhost:8080/"
        },
        "id": "4KAzgipAScii",
        "outputId": "7b8d9fde-a530-452c-d914-4e8fa9a45595"
      },
      "execution_count": null,
      "outputs": [
        {
          "output_type": "stream",
          "name": "stdout",
          "text": [
            "Value 15 found at index 7\n"
          ]
        }
      ]
    }
  ]
}