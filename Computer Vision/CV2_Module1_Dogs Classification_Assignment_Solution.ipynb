{
 "cells": [
  {
   "cell_type": "markdown",
   "metadata": {
    "id": "SyHQQ9iubWMI"
   },
   "source": [
    "<center><img src=\"https://github.com/insaid2018/Term-1/blob/master/Images/INSAID_Full%20Logo.png?raw=true\" width=\"240\" height=\"100\" /></center>\n",
    "\n",
    "**<center><h3>Module 1 Assignment Solution</h3></center>**"
   ]
  },
  {
   "cell_type": "markdown",
   "metadata": {
    "id": "VHNW0F7FESBy"
   },
   "source": [
    "----\n",
    "# **Table of Content**\n",
    "----\n",
    "\n",
    "**1.** [**Problem Statement**](#section1)<br>\n",
    "**2.** [**Loading Libraries**](#section2)<br>\n",
    "**3.** [**Loading Data**](#section3)<br>\n",
    "**4.** [**Data Preprocessing**](#section4)<br>\n",
    "   - **4.1** [**Resizing the image**](#section401)\n",
    "   - **4.2** [**Printing sample of image**](#section402)\n",
    "   - **4.3** [**Data Augmentation**](#section403)\n",
    "   - **4.4** [**One-Hot encoding the labels**](#section404)\n",
    "\n",
    "**5.** [**Building the Model**](#section5)<br>\n",
    "**6.** [**Compiling the Model**](#section6)<br>\n",
    "**7.** [**Traning the Model**](#section7)<br>\n",
    "**8.** [**Evaluate Model Performance**](#section8)<br>\n",
    "**9.** [**Un-freezing the Top Layers of the Model**](#section9)<br>\n",
    "   - **9.1** [**Training and Evaluating the model**](#section901)\n",
    "\n",
    "**10.** [**Saving the Model**](#section10)<br>\n",
    "**11.** [**Conclusion**](#section11)<br>"
   ]
  },
  {
   "cell_type": "markdown",
   "metadata": {
    "id": "ZxVaeYdUF55Z"
   },
   "source": [
    "----\n",
    "<a id=section1></a>\n",
    "# **1. Problem Statement**\n",
    "----"
   ]
  },
  {
   "cell_type": "markdown",
   "metadata": {
    "id": "dOMyCVxxGEgw"
   },
   "source": [
    "- The Stanford Dogs dataset contains **images** of **120** breeds of dogs from around the world. \n",
    "\n",
    "- This dataset has been built using images and **annotation** from **ImageNet** for the task of **fine-grained** image categorization. \n",
    "\n",
    "- Our task is to use **pre-trained** model and classify **120 breeds** of dogs form the **differernt** images of dogs."
   ]
  },
  {
   "cell_type": "markdown",
   "metadata": {
    "id": "dZJRmdyVSXB-"
   },
   "source": [
    "<br>\n",
    "<center><img src=\"https://raw.githubusercontent.com/insaid2018/DeepLearning/master/images/dog_species.png\" width=\"1200px\" height=\"370px\"/></center"
   ]
  },
  {
   "cell_type": "markdown",
   "metadata": {
    "id": "N9BCdVtwGG4h"
   },
   "source": [
    "----\n",
    "<a id=section2></a>\n",
    "# **2. Loading Libraries**\n",
    "----"
   ]
  },
  {
   "cell_type": "code",
   "execution_count": null,
   "metadata": {
    "id": "ZhWcJcQ0OK65"
   },
   "outputs": [],
   "source": [
    "import matplotlib.pyplot as plt\n",
    "import numpy as np\n",
    "import os\n",
    "import tensorflow as tf\n",
    "import tensorflow_datasets as tfds\n",
    "from tensorflow.keras.preprocessing import image_dataset_from_directory"
   ]
  },
  {
   "cell_type": "code",
   "execution_count": null,
   "metadata": {
    "id": "B-uGpW88IJSb"
   },
   "outputs": [],
   "source": [
    "from tensorflow.keras.layers.experimental import preprocessing\n",
    "from tensorflow.keras.models import Sequential\n",
    "from tensorflow.keras import layers"
   ]
  },
  {
   "cell_type": "code",
   "execution_count": null,
   "metadata": {
    "id": "7hnzcRN89xH6"
   },
   "outputs": [],
   "source": [
    "# Pre-trained model\n",
    "from tensorflow.keras.applications import EfficientNetB0                          "
   ]
  },
  {
   "cell_type": "markdown",
   "metadata": {
    "id": "_5oxpNv8GPsY"
   },
   "source": [
    "----\n",
    "<a id=section3></a>\n",
    "# **3. Loading Data**\n",
    "----"
   ]
  },
  {
   "cell_type": "code",
   "execution_count": null,
   "metadata": {
    "id": "WOC6IbkvBMBh"
   },
   "outputs": [],
   "source": [
    "# IMG_SIZE is determined by EfficientNet model choice\n",
    "IMG_SIZE = 224\n",
    "batch_size = 64"
   ]
  },
  {
   "cell_type": "markdown",
   "metadata": {
    "id": "uZnySh9LTqgN"
   },
   "source": [
    "**<h4>Question 1:** Load the data from tensorflow datasets.</h4>\n",
    "\n",
    "<details>\n",
    "\n",
    "**<summary>Hint:</summary>**\n",
    "\n",
    "  - Set **`dataset_name = \"stanford_dogs\"`**\n",
    "\n",
    "  - Use the **`tfds.load()`** function to load the train, test and data info using following parameters:\n",
    "\n",
    "      - **`name=dataset_name`**\n",
    "\n",
    "      - **`split=[\"train\", \"test\"]`**\n",
    "\n",
    "      -  **`with_info=True`**\n",
    "\n",
    "      -  **`as_supervised=True`**\n",
    "\n",
    "</details>"
   ]
  },
  {
   "cell_type": "code",
   "execution_count": null,
   "metadata": {
    "id": "4GCpUVEqCCIW"
   },
   "outputs": [],
   "source": [
    "def load_data():\n",
    "  \n",
    "  dataset_name = \"stanford_dogs\"\n",
    "  (ds_train, ds_test), ds_info = tfds.load(dataset_name, split=[\"train\", \"test\"], with_info=True, as_supervised=True)\n",
    "\n",
    "  NUM_CLASSES = ds_info.features[\"label\"].num_classes\n",
    "  return ds_train, ds_test, ds_info, NUM_CLASSES\n"
   ]
  },
  {
   "cell_type": "code",
   "execution_count": null,
   "metadata": {
    "colab": {
     "base_uri": "https://localhost:8080/",
     "height": 480,
     "referenced_widgets": [
      "94e75a44c311413097fcfa95e826f36f",
      "2006b28a9a66455bbb710bddcff416fa",
      "507ed9821bee4906997dbbf9b2a76a92",
      "a4ef8c3b7a50451b8d73b7611b1cb93b",
      "c0d5c183410b46e38fb1f1842dd5909f",
      "daf4376b518c436296ab4c66a13c66c6",
      "87e4a4dfd8ec48bea92d055eabf1c674",
      "f2b9f4ac63a54284ba8df1749b920c6c",
      "c69e365267174e0dba7073152f23c1a6",
      "69e72e52df0f468f9351b0e53260ae88",
      "42a8bafde6e5497fb36d9416f5b3157e",
      "405a9a63a5c34dd7b7c3b5041fe43641",
      "d03fb41be5244db4ae532613eed5cb7a",
      "ed1abb67237a4f06bd76f1f5afd2e470",
      "6b962b67bf134898a82f5e8d61870f6b",
      "8c045f9e952e4995932db3ddfcb4c993",
      "fbd0aefa4df244279db8708d75ea88d6",
      "22f9faa1123c4795be5d390fd9cb3bd2",
      "989162998b82464c90e085857a17523e",
      "2cf3d337c58a4d619279518fbf082d1c",
      "fe6dd1b6a8ab420bace79cf21d4a5cd9",
      "4a520f4fa4b049c999e34119223e6882",
      "0efc6c296ac340cb87cb329a5f3dafdc",
      "ba060f8d115641fbaab8a4dcb045df9d",
      "ee05c591ca154cb58857285844245ed3",
      "849d0eec6b5540e582a74e0a6209f339",
      "1fbb7d716f124e97bd27030a89bcb32f",
      "69b24586049f4b35ad61e1cff114fa5d",
      "2210d23822d2446394f3f356679c37c5",
      "2132ecaa7f6f4e66ac5dc7c8fd043256",
      "8fde1818528c4e269cd1368d17fb80f3",
      "398fc1d200854b3085e579a4741eef3e",
      "0f408063b6164c05a30b94f3b7719a5f",
      "62f9d5f8185e468287f91a91dc089ad4",
      "92858f135d1648cfb786acd3c0d5aea3",
      "807e2019d11346a4a856302f129af7ae",
      "85b6cf23e77d45e08ae5b0d38335be26",
      "4ba27cee8bbf411290ae2b386cf581c7",
      "9921cd4834294330b7163209b8d939c3",
      "2137f70d63e4496fa9c742b039054d5a",
      "f79ada732a964089a42b411ac9483b9a",
      "477ff395b9d34f389acc053987eaf7fc",
      "0a20d3d038bb4a6d928bd562aab3960d",
      "cada6f42d08e44d6ad591f9152d0efd2",
      "e2a8063cb0ea4dd294c837599c103476",
      "6b608244cd574bb695e770a2371298ab",
      "a37e39dc60ba4ef0a9b4f36e8ac38521",
      "830916d289da47e3aaaf8342c2c2f160",
      "adff3205c33744e4b0b7755c67bed757",
      "133a6da9578b43da9dcbb5063d20ca9f",
      "a5503078fbc54bae8d2a82b210322288",
      "eb3896aba9a446edb2ec55c3fef9b9bf",
      "f0d7957802984253ba5fbdb4238ba01b",
      "9276db0afef3444e9040773c7ce0e1c5",
      "9525ca8facb94dacbddd641c125f7bd9",
      "2b15d31b6a414dbf8d45b4620a161219",
      "45fb080a3ea34333ad6ad5cb7363b9d2",
      "f67969dd030b4c95bdc350fad6c2a994",
      "e85906ff63e94a1b8ee7df9ee70f03a8",
      "15d08781a6104c138d6f8415649469b9",
      "304c0a2894cd4cf3a5173336daebab17",
      "a688db5ba81543c3876d839bcb2118b5",
      "168b26a37ffe4af6aaf3c654cbfc3cda",
      "fa0a7ec30725448cbe91b34f5d7338a3",
      "0782342da1154d5e9f9823688c1e2fca",
      "c86409cefe2d4d0581a05b2b9c28e07d",
      "11603e69e4cb486f9922e03ae8e64069",
      "40f74e2629ff42f4a5c1dc1cd5aada01",
      "852c3314dee444399c59470e67d90759",
      "4f0d8d65f1564eda91479d6690e6cb9c",
      "5791f457184d4532a94b1d143a48d9b6",
      "90b4781b29b2476db25289a4d3908209"
     ]
    },
    "id": "iUvkHheWwz-v",
    "outputId": "039354d6-f340-4a56-c602-dcaccdc1fb7e"
   },
   "outputs": [
    {
     "name": "stdout",
     "output_type": "stream",
     "text": [
      "\u001b[1mDownloading and preparing dataset stanford_dogs/0.2.0 (download: 778.12 MiB, generated: Unknown size, total: 778.12 MiB) to /root/tensorflow_datasets/stanford_dogs/0.2.0...\u001b[0m\n"
     ]
    },
    {
     "data": {
      "application/vnd.jupyter.widget-view+json": {
       "model_id": "94e75a44c311413097fcfa95e826f36f",
       "version_major": 2,
       "version_minor": 0
      },
      "text/plain": [
       "HBox(children=(FloatProgress(value=1.0, bar_style='info', description='Dl Completed...', max=1.0, style=Progre…"
      ]
     },
     "metadata": {
      "tags": []
     },
     "output_type": "display_data"
    },
    {
     "data": {
      "application/vnd.jupyter.widget-view+json": {
       "model_id": "c69e365267174e0dba7073152f23c1a6",
       "version_major": 2,
       "version_minor": 0
      },
      "text/plain": [
       "HBox(children=(FloatProgress(value=1.0, bar_style='info', description='Dl Size...', max=1.0, style=ProgressSty…"
      ]
     },
     "metadata": {
      "tags": []
     },
     "output_type": "display_data"
    },
    {
     "name": "stdout",
     "output_type": "stream",
     "text": [
      "\n",
      "\n",
      "\n",
      "\n"
     ]
    },
    {
     "data": {
      "application/vnd.jupyter.widget-view+json": {
       "model_id": "fbd0aefa4df244279db8708d75ea88d6",
       "version_major": 2,
       "version_minor": 0
      },
      "text/plain": [
       "HBox(children=(FloatProgress(value=1.0, bar_style='info', description='Dl Completed...', max=1.0, style=Progre…"
      ]
     },
     "metadata": {
      "tags": []
     },
     "output_type": "display_data"
    },
    {
     "data": {
      "application/vnd.jupyter.widget-view+json": {
       "model_id": "ee05c591ca154cb58857285844245ed3",
       "version_major": 2,
       "version_minor": 0
      },
      "text/plain": [
       "HBox(children=(FloatProgress(value=1.0, bar_style='info', description='Dl Size...', max=1.0, style=ProgressSty…"
      ]
     },
     "metadata": {
      "tags": []
     },
     "output_type": "display_data"
    },
    {
     "data": {
      "application/vnd.jupyter.widget-view+json": {
       "model_id": "0f408063b6164c05a30b94f3b7719a5f",
       "version_major": 2,
       "version_minor": 0
      },
      "text/plain": [
       "HBox(children=(FloatProgress(value=1.0, bar_style='info', description='Extraction completed...', max=1.0, styl…"
      ]
     },
     "metadata": {
      "tags": []
     },
     "output_type": "display_data"
    },
    {
     "name": "stdout",
     "output_type": "stream",
     "text": [
      "\n",
      "\n",
      "\n",
      "\n",
      "\n",
      "\n"
     ]
    },
    {
     "data": {
      "application/vnd.jupyter.widget-view+json": {
       "model_id": "f79ada732a964089a42b411ac9483b9a",
       "version_major": 2,
       "version_minor": 0
      },
      "text/plain": [
       "HBox(children=(FloatProgress(value=1.0, bar_style='info', max=1.0), HTML(value='')))"
      ]
     },
     "metadata": {
      "tags": []
     },
     "output_type": "display_data"
    },
    {
     "name": "stdout",
     "output_type": "stream",
     "text": [
      "Shuffling and writing examples to /root/tensorflow_datasets/stanford_dogs/0.2.0.incompleteFO3CHN/stanford_dogs-train.tfrecord\n"
     ]
    },
    {
     "data": {
      "application/vnd.jupyter.widget-view+json": {
       "model_id": "adff3205c33744e4b0b7755c67bed757",
       "version_major": 2,
       "version_minor": 0
      },
      "text/plain": [
       "HBox(children=(FloatProgress(value=0.0, max=12000.0), HTML(value='')))"
      ]
     },
     "metadata": {
      "tags": []
     },
     "output_type": "display_data"
    },
    {
     "name": "stdout",
     "output_type": "stream",
     "text": [
      "\r"
     ]
    },
    {
     "data": {
      "application/vnd.jupyter.widget-view+json": {
       "model_id": "45fb080a3ea34333ad6ad5cb7363b9d2",
       "version_major": 2,
       "version_minor": 0
      },
      "text/plain": [
       "HBox(children=(FloatProgress(value=1.0, bar_style='info', max=1.0), HTML(value='')))"
      ]
     },
     "metadata": {
      "tags": []
     },
     "output_type": "display_data"
    },
    {
     "name": "stdout",
     "output_type": "stream",
     "text": [
      "Shuffling and writing examples to /root/tensorflow_datasets/stanford_dogs/0.2.0.incompleteFO3CHN/stanford_dogs-test.tfrecord\n"
     ]
    },
    {
     "data": {
      "application/vnd.jupyter.widget-view+json": {
       "model_id": "0782342da1154d5e9f9823688c1e2fca",
       "version_major": 2,
       "version_minor": 0
      },
      "text/plain": [
       "HBox(children=(FloatProgress(value=0.0, max=8580.0), HTML(value='')))"
      ]
     },
     "metadata": {
      "tags": []
     },
     "output_type": "display_data"
    },
    {
     "name": "stdout",
     "output_type": "stream",
     "text": [
      "\u001b[1mDataset stanford_dogs downloaded and prepared to /root/tensorflow_datasets/stanford_dogs/0.2.0. Subsequent calls will reuse this data.\u001b[0m\n"
     ]
    }
   ],
   "source": [
    "ds_train, ds_test, ds_info, NUM_CLASSES = load_data()"
   ]
  },
  {
   "cell_type": "markdown",
   "metadata": {
    "id": "k-YMpx5raGkj"
   },
   "source": [
    "- When the dataset include images with **various sizes**, we need to resize them into a **shared** size.\n",
    "\n",
    "- The Stanford Dogs dataset includes only images at least **200x200**\n",
    "pixels in size.\n",
    "\n",
    "- We will **resize** the images to the input size needed for **EfficientNet**."
   ]
  },
  {
   "cell_type": "markdown",
   "metadata": {
    "id": "84o24GjuHnuR"
   },
   "source": [
    "----\n",
    "<a id=section4></a>\n",
    "# **4. Data Preprocessing**\n",
    "----"
   ]
  },
  {
   "cell_type": "markdown",
   "metadata": {
    "id": "mhTgXeHGP6hI"
   },
   "source": [
    "<a id=section401></a>\n",
    "### **4.1 Resizing the image**"
   ]
  },
  {
   "cell_type": "code",
   "execution_count": null,
   "metadata": {
    "id": "ByvnmTKlCSFs"
   },
   "outputs": [],
   "source": [
    "size = (IMG_SIZE, IMG_SIZE)\n",
    "ds_train = ds_train.map(lambda image, label: (tf.image.resize(image, size), label))\n",
    "ds_test = ds_test.map(lambda image, label: (tf.image.resize(image, size), label))"
   ]
  },
  {
   "cell_type": "code",
   "execution_count": null,
   "metadata": {
    "id": "xPuoQk6F9ySk"
   },
   "outputs": [],
   "source": [
    "label_info = ds_info.features[\"label\"]"
   ]
  },
  {
   "cell_type": "code",
   "execution_count": null,
   "metadata": {
    "id": "om9yZMpjoP2h"
   },
   "outputs": [],
   "source": [
    "def format_label(label):\n",
    "    string_label = label_info.int2str(label)\n",
    "    return string_label.split(\"-\")[1]"
   ]
  },
  {
   "cell_type": "markdown",
   "metadata": {
    "id": "q3SvgsgTQGjP"
   },
   "source": [
    "<a id=section402></a>\n",
    "### **4.2 Printing sample of image**"
   ]
  },
  {
   "cell_type": "markdown",
   "metadata": {
    "id": "fxQgjQfKT0k-"
   },
   "source": [
    "**<h4>Question 2:** Print the first 9 images with its label.</h4>\n",
    "\n",
    "<details>\n",
    "\n",
    "**<summary>Hint:</summary>**\n",
    "\n",
    "- Loop through the first 9 images from **`ds_train`**.\n",
    "\n",
    "- used sub plot with paramenter (3, 3, i+1).\n",
    "\n",
    "- Convert the image to numpy and astype to **`\"uint8\"`** inside plt.imshow().\n",
    "\n",
    "</details>"
   ]
  },
  {
   "cell_type": "code",
   "execution_count": null,
   "metadata": {
    "id": "4PgMgCtiCi7N"
   },
   "outputs": [],
   "source": [
    "def print_img():\n",
    "  for i, (image, label) in enumerate(ds_train.take(9)):\n",
    "    ax = plt.subplot(3, 3, i + 1)\n",
    "    plt.imshow(image.numpy().astype(\"uint8\"))\n",
    "    plt.title(\"{}\".format(format_label(label)))\n",
    "    plt.axis(\"off\")"
   ]
  },
  {
   "cell_type": "code",
   "execution_count": null,
   "metadata": {
    "colab": {
     "base_uri": "https://localhost:8080/",
     "height": 264
    },
    "id": "7I8ovUVs9eFR",
    "outputId": "659dfefd-5289-47b9-85e4-5e26f5c1c0c5"
   },
   "outputs": [
    {
     "data": {
      "image/png": "[encoded data removed]",
      "text/plain": [
       "<Figure size 432x288 with 9 Axes>"
      ]
     },
     "metadata": {
      "tags": []
     },
     "output_type": "display_data"
    }
   ],
   "source": [
    "print_img()"
   ]
  },
  {
   "cell_type": "markdown",
   "metadata": {
    "id": "AOCtXEMp94CX"
   },
   "source": [
    "**Observations:**\n",
    "\n",
    "- We can see nine images with its **respective** labels."
   ]
  },
  {
   "cell_type": "markdown",
   "metadata": {
    "id": "b64FF0HOQTFu"
   },
   "source": [
    "<a id=section403></a>\n",
    "### **4.3 Data Augmentation**"
   ]
  },
  {
   "cell_type": "markdown",
   "metadata": {
    "id": "JHCSqwhujx0C"
   },
   "source": [
    "**<h4>Question 3:** Complete the below function to create a data augmentation layers to add more variations to the image samples.</h4>\n",
    "\n",
    "<details>\n",
    "\n",
    "**<summary>Hint:</summary>**\n",
    "\n",
    "- Add layers which does **`RandomRotation`** with **`factor=0.15`**.\n",
    "\n",
    "- Add layers which does **`RandomTranslation`** with **`height_factor=0.1`** and **`width_factor=0.1`**.\n",
    "\n",
    "</details>"
   ]
  },
  {
   "cell_type": "code",
   "execution_count": null,
   "metadata": {
    "id": "Ir-uBXUADXvA"
   },
   "outputs": [],
   "source": [
    "def data_aug():\n",
    "  img_augmentation = Sequential(\n",
    "      [\n",
    "          preprocessing.RandomRotation(factor=0.15),\n",
    "          preprocessing.RandomTranslation(height_factor=0.1, width_factor=0.1),\n",
    "          preprocessing.RandomFlip(),\n",
    "          preprocessing.RandomContrast(factor=0.1),\n",
    "      ],\n",
    "      name=\"img_augmentation\",\n",
    "  )\n",
    "\n",
    "  return img_augmentation"
   ]
  },
  {
   "cell_type": "code",
   "execution_count": null,
   "metadata": {
    "id": "yIvRV-Q7DXdW"
   },
   "outputs": [],
   "source": [
    "img_augmentation = data_aug()"
   ]
  },
  {
   "cell_type": "markdown",
   "metadata": {
    "id": "jFqEGG1nVEHW"
   },
   "source": [
    "**<h4>Question 4:** Print the image after the data augmentation.</h4>\n",
    "\n",
    "<details>\n",
    "\n",
    "**<summary>Hint:</summary>**\n",
    "\n",
    "- Loop through the first 9 images from **`ds_train`**.\n",
    "\n",
    "- used sub plot with **paramenter** (3, 3, i+1).\n",
    "\n",
    "- Pass the image through `img_agumentation` layers with parameters **`(tf.expand_dims(image, axis=0))`** and store it in variable name **`aug_img`**.\n",
    "\n",
    "- Convert the **`aug_img[0]`** to numpy and astype to **`\"uint8\"`** inside **`plt.imshow()`**.\n",
    "\n",
    "</details>"
   ]
  },
  {
   "cell_type": "code",
   "execution_count": null,
   "metadata": {
    "id": "AxDXpqYXFF-9"
   },
   "outputs": [],
   "source": [
    " def data_aug():\n",
    "    for image, label in ds_train.take(1):\n",
    "        for i in range(9):\n",
    "            ax = plt.subplot(3, 3, i + 1)\n",
    "            aug_img = img_augmentation(tf.expand_dims(image, axis=0))\n",
    "            plt.imshow(aug_img[0].numpy().astype(\"uint8\"))\n",
    "            plt.title(\"{}\".format(format_label(label)))\n",
    "            plt.axis(\"off\")"
   ]
  },
  {
   "cell_type": "code",
   "execution_count": null,
   "metadata": {
    "colab": {
     "base_uri": "https://localhost:8080/",
     "height": 264
    },
    "id": "AxgCD3oLDI2g",
    "outputId": "524bf12c-c387-4b84-fce3-21ce04b718f7"
   },
   "outputs": [
    {
     "data": {
      "image/png": "[encoded data removed]",
      "text/plain": [
       "<Figure size 432x288 with 9 Axes>"
      ]
     },
     "metadata": {
      "tags": []
     },
     "output_type": "display_data"
    }
   ],
   "source": [
    "data_aug()"
   ]
  },
  {
   "cell_type": "markdown",
   "metadata": {
    "id": "b8jb_asrDQN8"
   },
   "source": [
    "**Observations:**\n",
    "\n",
    "- We can various **data augmentation** applied on a single image."
   ]
  },
  {
   "cell_type": "markdown",
   "metadata": {
    "id": "75-eljWGQZyP"
   },
   "source": [
    "<a id=section404></a>\n",
    "### **4.4 One-Hot encoding the labels**"
   ]
  },
  {
   "cell_type": "markdown",
   "metadata": {
    "id": "PT4EM_1WDgPL"
   },
   "source": [
    "**<h4>Question 5:** Apply one hot enconding on the image labels.</h4>\n",
    "\n",
    "<details>\n",
    "\n",
    "**<summary>Hint:</summary>**\n",
    "\n",
    "- You can use **`tf.one_hot`** to do the following with **`label`** and **`NUM_CLASSES`** as parameters.\n",
    "\n",
    "</details>"
   ]
  },
  {
   "cell_type": "code",
   "execution_count": null,
   "metadata": {
    "id": "aPsgTwMFFIhn"
   },
   "outputs": [],
   "source": [
    "# One-hot / categorical encoding\n",
    "def input_preprocess(image, label):\n",
    "    label = tf.one_hot(label, NUM_CLASSES)\n",
    "    return image, label"
   ]
  },
  {
   "cell_type": "code",
   "execution_count": null,
   "metadata": {
    "id": "31R1MfIQ5G59"
   },
   "outputs": [],
   "source": [
    "ds_train = ds_train.map(\n",
    "    input_preprocess, num_parallel_calls=tf.data.experimental.AUTOTUNE\n",
    ")\n",
    "ds_train = ds_train.batch(batch_size=batch_size, drop_remainder=True)\n",
    "ds_train = ds_train.prefetch(tf.data.experimental.AUTOTUNE)\n",
    "\n",
    "ds_test = ds_test.map(input_preprocess)\n",
    "ds_test = ds_test.batch(batch_size=batch_size, drop_remainder=True)"
   ]
  },
  {
   "cell_type": "markdown",
   "metadata": {
    "id": "o-Al6oCpHyhx"
   },
   "source": [
    "----\n",
    "<a id=section5></a>\n",
    "# **5. Building the Model**\n",
    "----"
   ]
  },
  {
   "cell_type": "code",
   "execution_count": null,
   "metadata": {
    "id": "byspuEqHFL33"
   },
   "outputs": [],
   "source": [
    "def build_model(num_classes):\n",
    "    inputs = layers.Input(shape=(IMG_SIZE, IMG_SIZE, 3))\n",
    "    x = img_augmentation(inputs)\n",
    "    model = EfficientNetB0(include_top=False, input_tensor=x, weights=\"imagenet\")\n",
    "\n",
    "    # Freeze the pretrained weights\n",
    "    model.trainable = False\n",
    "\n",
    "    # Rebuild top\n",
    "    x = layers.GlobalAveragePooling2D(name=\"avg_pool\")(model.output)\n",
    "    x = layers.BatchNormalization()(x)\n",
    "\n",
    "    top_dropout_rate = 0.2\n",
    "    x = layers.Dropout(top_dropout_rate, name=\"top_dropout\")(x)\n",
    "    outputs = layers.Dense(NUM_CLASSES, activation=\"softmax\", name=\"pred\")(x)\n",
    "    return model, inputs, outputs\n"
   ]
  },
  {
   "cell_type": "code",
   "execution_count": null,
   "metadata": {
    "colab": {
     "base_uri": "https://localhost:8080/"
    },
    "id": "2eMKBz2c_YME",
    "outputId": "c32316e6-9f0d-4dbc-8f16-31886e9be141"
   },
   "outputs": [
    {
     "name": "stdout",
     "output_type": "stream",
     "text": [
      "Downloading data from https://storage.googleapis.com/keras-applications/efficientnetb0_notop.h5\n",
      "16711680/16705208 [==============================] - 0s 0us/step\n"
     ]
    }
   ],
   "source": [
    "model, inputs, outputs= build_model(num_classes=NUM_CLASSES)"
   ]
  },
  {
   "cell_type": "markdown",
   "metadata": {
    "id": "0-ffww8bOBsA"
   },
   "source": [
    "----\n",
    "<a id=section6></a>\n",
    "# **6. Compiling the Model**\n",
    "----"
   ]
  },
  {
   "cell_type": "markdown",
   "metadata": {
    "id": "6QYcitNQVNct"
   },
   "source": [
    "**<h4>Question 6:** Create the model.</h4>\n",
    "\n",
    "<details>\n",
    "\n",
    "**<summary>Hint:</summary>**\n",
    "\n",
    "- Create the model using **`tf.keras.Model`** with proper `input` and `output` and **`name=\"EfficientNet\"`**.\n",
    "\n",
    "</details>"
   ]
  },
  {
   "cell_type": "code",
   "execution_count": null,
   "metadata": {
    "id": "1R5U23s0-9BD"
   },
   "outputs": [],
   "source": [
    "def create_model(model,inputs, outputs):\n",
    "\n",
    "  model = tf.keras.Model(inputs, outputs, name=\"EfficientNet\")\n",
    "\n",
    "  return model"
   ]
  },
  {
   "cell_type": "code",
   "execution_count": null,
   "metadata": {
    "id": "ic_Rxn65J7yk"
   },
   "outputs": [],
   "source": [
    " model = create_model(model,inputs, outputs)"
   ]
  },
  {
   "cell_type": "markdown",
   "metadata": {
    "id": "ISKAHVmlJ5CQ"
   },
   "source": [
    "**<h4>Question 7:** How to compile the model?</h4>\n",
    "\n",
    "<details>\n",
    "\n",
    "**<summary>Hint:</summary>**\n",
    "\n",
    "- Use Optimizer as Adam with**` learning rate=1e-2 `**\n",
    "\n",
    "- Compile model using the specified optimizer, **`loss=\"categorical_crossentropy\"`** and **`metrics=[\"accuracy\"]`**.\n",
    "\n",
    "</details>"
   ]
  },
  {
   "cell_type": "code",
   "execution_count": null,
   "metadata": {
    "id": "Z5QQ_CrjJjfR"
   },
   "outputs": [],
   "source": [
    "def compile_model():\n",
    "  optimizer = tf.keras.optimizers.Adam(learning_rate=1e-2)\n",
    "  model.compile(optimizer=optimizer, loss=\"categorical_crossentropy\", metrics=[\"accuracy\"])\n",
    "  return model"
   ]
  },
  {
   "cell_type": "code",
   "execution_count": null,
   "metadata": {
    "id": "-BFSbbNF_JxL"
   },
   "outputs": [],
   "source": [
    "model = compile_model()"
   ]
  },
  {
   "cell_type": "markdown",
   "metadata": {
    "id": "37sySkYUOIoH"
   },
   "source": [
    "----\n",
    "<a id=section7></a>\n",
    "# **7. Training the Model**\n",
    "----"
   ]
  },
  {
   "cell_type": "markdown",
   "metadata": {
    "id": "lsTMByRTVRNv"
   },
   "source": [
    "**<h4>Question 8:** Train the model for 10 epoch.</h4>\n",
    "\n",
    "<details>\n",
    "\n",
    "**<summary>Hint:</summary>**\n",
    "\n",
    "- Use **`model.fit`** function with suitable parameters to train the model and store in a variable with name **`hist`**.\n",
    "\n",
    "</details>"
   ]
  },
  {
   "cell_type": "code",
   "execution_count": null,
   "metadata": {
    "id": "yWNn_TPt_iOU"
   },
   "outputs": [],
   "source": [
    "def train_model():\n",
    "  epochs = 10  \n",
    "  hist = model.fit(ds_train, epochs=epochs, validation_data=ds_test, verbose=2)\n",
    "  return hist "
   ]
  },
  {
   "cell_type": "code",
   "execution_count": null,
   "metadata": {
    "colab": {
     "base_uri": "https://localhost:8080/"
    },
    "id": "veCbvThoKnQX",
    "outputId": "3c979168-1d86-417b-8311-2b44bb6ede08"
   },
   "outputs": [
    {
     "name": "stdout",
     "output_type": "stream",
     "text": [
      "Epoch 1/10\n",
      "187/187 - 72s - loss: 3.5153 - accuracy: 0.3732 - val_loss: 1.0343 - val_accuracy: 0.6927\n",
      "Epoch 2/10\n",
      "187/187 - 34s - loss: 1.8618 - accuracy: 0.5212 - val_loss: 0.8237 - val_accuracy: 0.7522\n",
      "Epoch 3/10\n",
      "187/187 - 34s - loss: 1.5098 - accuracy: 0.5844 - val_loss: 0.8177 - val_accuracy: 0.7561\n",
      "Epoch 4/10\n",
      "187/187 - 34s - loss: 1.4336 - accuracy: 0.6022 - val_loss: 0.8115 - val_accuracy: 0.7568\n",
      "Epoch 5/10\n",
      "187/187 - 34s - loss: 1.3803 - accuracy: 0.6128 - val_loss: 0.8009 - val_accuracy: 0.7620\n",
      "Epoch 6/10\n",
      "187/187 - 34s - loss: 1.3628 - accuracy: 0.6149 - val_loss: 0.8170 - val_accuracy: 0.7586\n",
      "Epoch 7/10\n",
      "187/187 - 34s - loss: 1.3265 - accuracy: 0.6244 - val_loss: 0.8182 - val_accuracy: 0.7528\n",
      "Epoch 8/10\n",
      "187/187 - 34s - loss: 1.3080 - accuracy: 0.6303 - val_loss: 0.7986 - val_accuracy: 0.7604\n",
      "Epoch 9/10\n",
      "187/187 - 35s - loss: 1.3004 - accuracy: 0.6263 - val_loss: 0.8346 - val_accuracy: 0.7548\n",
      "Epoch 10/10\n",
      "187/187 - 35s - loss: 1.2846 - accuracy: 0.6351 - val_loss: 0.8045 - val_accuracy: 0.7695\n"
     ]
    }
   ],
   "source": [
    "hist = train_model()"
   ]
  },
  {
   "cell_type": "markdown",
   "metadata": {
    "id": "8tLWIAieOPaO"
   },
   "source": [
    "----\n",
    "<a id=section8></a>\n",
    "# **8. Evaluating model Performance**\n",
    "----"
   ]
  },
  {
   "cell_type": "markdown",
   "metadata": {
    "id": "zNSFZ-pqVWD1"
   },
   "source": [
    "**<h4>Question 9:** Plot accuracy curve both train and validation set.</h4>\n",
    "\n",
    "<details>\n",
    "\n",
    "**<summary>Hint:</summary>**\n",
    "\n",
    "- Use the **`hist`** variable from above to plot the following.\n",
    "\n",
    "</details>"
   ]
  },
  {
   "cell_type": "code",
   "execution_count": null,
   "metadata": {
    "id": "lbTkMn_pZUkP"
   },
   "outputs": [],
   "source": [
    "def plot_hist(hist):\n",
    "    plt.plot(hist.history[\"accuracy\"])\n",
    "    plt.plot(hist.history[\"val_accuracy\"])\n",
    "    plt.title(\"model accuracy\")\n",
    "    plt.ylabel(\"accuracy\")\n",
    "    plt.xlabel(\"epoch\")\n",
    "    plt.legend([\"train\", \"validation\"], loc=\"upper left\")\n",
    "    plt.show()\n"
   ]
  },
  {
   "cell_type": "code",
   "execution_count": null,
   "metadata": {
    "colab": {
     "base_uri": "https://localhost:8080/",
     "height": 295
    },
    "id": "CVvEHPNuMBNg",
    "outputId": "59e9e6ea-1b70-47c0-e824-b24d3ff66410"
   },
   "outputs": [
    {
     "data": {
      "image/png": "[encoded data removed]",
      "text/plain": [
       "<Figure size 432x288 with 1 Axes>"
      ]
     },
     "metadata": {
      "tags": []
     },
     "output_type": "display_data"
    }
   ],
   "source": [
    "plot_hist(hist)"
   ]
  },
  {
   "cell_type": "markdown",
   "metadata": {
    "id": "RB_5PyxxLfV9"
   },
   "source": [
    "**Observations:**\n",
    "\n",
    "- We can see **higher** validation accuracy compared to traning accuracy. "
   ]
  },
  {
   "cell_type": "markdown",
   "metadata": {
    "id": "zNEyoWg7OVQO"
   },
   "source": [
    "----\n",
    "<a id=section9></a>\n",
    "# **9. Un-freezing the Top Layers of the Model**\n",
    "----"
   ]
  },
  {
   "cell_type": "code",
   "execution_count": null,
   "metadata": {
    "id": "SyyzRdK9FbA4"
   },
   "outputs": [],
   "source": [
    "def unfreeze_model(model):\n",
    "    # We unfreeze the top 20 layers while leaving BatchNorm layers frozen\n",
    "    for layer in model.layers[-20:]:\n",
    "        if not isinstance(layer, layers.BatchNormalization):\n",
    "            layer.trainable = True\n",
    "\n",
    "    optimizer = tf.keras.optimizers.Adam(learning_rate=1e-4)\n",
    "    model.compile(\n",
    "        optimizer=optimizer, loss=\"categorical_crossentropy\", metrics=[\"accuracy\"]\n",
    "    )\n"
   ]
  },
  {
   "cell_type": "code",
   "execution_count": null,
   "metadata": {
    "id": "CufeKAJhRFwn"
   },
   "outputs": [],
   "source": [
    "unfreeze_model(model)"
   ]
  },
  {
   "cell_type": "markdown",
   "metadata": {
    "id": "MaUf5LDnRIcv"
   },
   "source": [
    "<a id=section901></a>\n",
    "### **9.1 Training and Evaluating the model**"
   ]
  },
  {
   "cell_type": "markdown",
   "metadata": {
    "id": "R-gl-F0dMRky"
   },
   "source": [
    "**<h4>Question 10:** Train the model for 15 epoch and plot the train and validation accuracy curve.</h4>\n",
    "\n",
    "<details>\n",
    "\n",
    "**<summary>Hint:</summary>**\n",
    "\n",
    "- Use **`model.fit`** function with suitable parameters to train the model and store in a variable with name **`hist_2`**.\n",
    "\n",
    "</details>"
   ]
  },
  {
   "cell_type": "code",
   "execution_count": null,
   "metadata": {
    "id": "XAX3J-eSgar8"
   },
   "outputs": [],
   "source": [
    "def train_unf():\n",
    "  epochs = 15\n",
    "  hist_2 = model.fit(ds_train, epochs=epochs, validation_data=ds_test, verbose=2)\n",
    "  plot_hist(hist_2)"
   ]
  },
  {
   "cell_type": "code",
   "execution_count": null,
   "metadata": {
    "colab": {
     "base_uri": "https://localhost:8080/",
     "height": 807
    },
    "id": "Td4_SnhiMscI",
    "outputId": "8ba38616-8d27-4351-b637-19220f9e02c6"
   },
   "outputs": [
    {
     "name": "stdout",
     "output_type": "stream",
     "text": [
      "Epoch 1/15\n",
      "187/187 - 43s - loss: 1.0281 - accuracy: 0.7020 - val_loss: 0.6915 - val_accuracy: 0.7961\n",
      "Epoch 2/15\n",
      "187/187 - 37s - loss: 0.8734 - accuracy: 0.7359 - val_loss: 0.6953 - val_accuracy: 0.7944\n",
      "Epoch 3/15\n",
      "187/187 - 37s - loss: 0.8366 - accuracy: 0.7452 - val_loss: 0.6920 - val_accuracy: 0.7965\n",
      "Epoch 4/15\n",
      "187/187 - 37s - loss: 0.7717 - accuracy: 0.7661 - val_loss: 0.6907 - val_accuracy: 0.7994\n",
      "Epoch 5/15\n",
      "187/187 - 37s - loss: 0.7302 - accuracy: 0.7778 - val_loss: 0.6940 - val_accuracy: 0.7933\n",
      "Epoch 6/15\n",
      "187/187 - 37s - loss: 0.6968 - accuracy: 0.7851 - val_loss: 0.6994 - val_accuracy: 0.7959\n",
      "Epoch 7/15\n",
      "187/187 - 37s - loss: 0.6581 - accuracy: 0.7976 - val_loss: 0.7202 - val_accuracy: 0.7934\n",
      "Epoch 8/15\n",
      "187/187 - 37s - loss: 0.6338 - accuracy: 0.8099 - val_loss: 0.7011 - val_accuracy: 0.7942\n",
      "Epoch 9/15\n",
      "187/187 - 37s - loss: 0.5955 - accuracy: 0.8133 - val_loss: 0.7081 - val_accuracy: 0.7928\n",
      "Epoch 10/15\n",
      "187/187 - 37s - loss: 0.5771 - accuracy: 0.8239 - val_loss: 0.7096 - val_accuracy: 0.7898\n",
      "Epoch 11/15\n",
      "187/187 - 37s - loss: 0.5668 - accuracy: 0.8259 - val_loss: 0.7218 - val_accuracy: 0.7907\n",
      "Epoch 12/15\n",
      "187/187 - 37s - loss: 0.5292 - accuracy: 0.8352 - val_loss: 0.7192 - val_accuracy: 0.7903\n",
      "Epoch 13/15\n",
      "187/187 - 37s - loss: 0.5089 - accuracy: 0.8407 - val_loss: 0.7251 - val_accuracy: 0.7881\n",
      "Epoch 14/15\n",
      "187/187 - 37s - loss: 0.4826 - accuracy: 0.8546 - val_loss: 0.7304 - val_accuracy: 0.7881\n",
      "Epoch 15/15\n",
      "187/187 - 37s - loss: 0.4683 - accuracy: 0.8576 - val_loss: 0.7339 - val_accuracy: 0.7884\n"
     ]
    },
    {
     "data": {
      "image/png": "[encoded data removed]",
      "text/plain": [
       "<Figure size 432x288 with 1 Axes>"
      ]
     },
     "metadata": {
      "tags": []
     },
     "output_type": "display_data"
    }
   ],
   "source": [
    "train_unf()"
   ]
  },
  {
   "cell_type": "markdown",
   "metadata": {
    "id": "LUSFQrTHQ59R"
   },
   "source": [
    "**Observations:**\n",
    "\n",
    "- We can see **increase** in training accuracy.\n",
    "\n",
    "- We see that the model is **overfitting** the training data."
   ]
  },
  {
   "cell_type": "markdown",
   "metadata": {
    "id": "fvnkWK1-OgpO"
   },
   "source": [
    "----\n",
    "<a id=section10></a>\n",
    "# **10. Saving the Model**\n",
    "----"
   ]
  },
  {
   "cell_type": "markdown",
   "metadata": {
    "id": "9E69QWwVVdtk"
   },
   "source": [
    "**<h4>Question 11:** Saving the model.</h4>\n",
    "\n",
    "<details>\n",
    "\n",
    "**<summary>Hint:</summary>**\n",
    "\n",
    "- Use **`model.save()`** function to save the model using `model.h5` as its name.\n",
    "\n",
    "</details>"
   ]
  },
  {
   "cell_type": "code",
   "execution_count": null,
   "metadata": {
    "colab": {
     "background_save": true
    },
    "id": "Eb_tIMhCedg9"
   },
   "outputs": [],
   "source": [
    "def save_model(model):\n",
    "  model.save('model.h5')"
   ]
  },
  {
   "cell_type": "code",
   "execution_count": null,
   "metadata": {
    "id": "N2oe8eITeepE"
   },
   "outputs": [],
   "source": [
    "save_model(model)"
   ]
  },
  {
   "cell_type": "markdown",
   "metadata": {
    "id": "WtudosZXOoc-"
   },
   "source": [
    "----\n",
    "<a id=section11></a>\n",
    "# **11. Conclusion**\n",
    "----"
   ]
  },
  {
   "cell_type": "markdown",
   "metadata": {
    "id": "o2pKKO5yS4y1"
   },
   "source": [
    "- We have learned about **processing** image data using **differernt** image preprocessing methods.\n",
    "\n",
    "- We have **learned** the basics idea about **transfer learning** and its usefullness.\n",
    "\n",
    "- Transfer learning helps us to save time and **resources** and give us good result with **minimum** effort."
   ]
  }
 ],
 "metadata": {
  "accelerator": "GPU",
  "colab": {
   "collapsed_sections": [],
   "name": "CV2_Module1_Assignment_Solutions.ipynb",
   "provenance": [],
   "toc_visible": true
  },
  "kernelspec": {
   "display_name": "Python 3 (ipykernel)",
   "language": "python",
   "name": "python3"
  },
  "language_info": {
   "codemirror_mode": {
    "name": "ipython",
    "version": 3
   },
   "file_extension": ".py",
   "mimetype": "text/x-python",
   "name": "python",
   "nbconvert_exporter": "python",
   "pygments_lexer": "ipython3",
   "version": "3.11.5"
  },
  "widgets": {
   "application/vnd.jupyter.widget-state+json": {
    "0782342da1154d5e9f9823688c1e2fca": {
     "model_module": "@jupyter-widgets/controls",
     "model_name": "HBoxModel",
     "state": {
      "_dom_classes": [],
      "_model_module": "@jupyter-widgets/controls",
      "_model_module_version": "1.5.0",
      "_model_name": "HBoxModel",
      "_view_count": null,
      "_view_module": "@jupyter-widgets/controls",
      "_view_module_version": "1.5.0",
      "_view_name": "HBoxView",
      "box_style": "",
      "children": [
       "IPY_MODEL_c86409cefe2d4d0581a05b2b9c28e07d",
       "IPY_MODEL_11603e69e4cb486f9922e03ae8e64069"
      ],
      "layout": "IPY_MODEL_40f74e2629ff42f4a5c1dc1cd5aada01"
     }
    },
    "0a20d3d038bb4a6d928bd562aab3960d": {
     "model_module": "@jupyter-widgets/controls",
     "model_name": "HTMLModel",
     "state": {
      "_dom_classes": [],
      "_model_module": "@jupyter-widgets/controls",
      "_model_module_version": "1.5.0",
      "_model_name": "HTMLModel",
      "_view_count": null,
      "_view_module": "@jupyter-widgets/controls",
      "_view_module_version": "1.5.0",
      "_view_name": "HTMLView",
      "description": "",
      "description_tooltip": null,
      "layout": "IPY_MODEL_a37e39dc60ba4ef0a9b4f36e8ac38521",
      "placeholder": "​",
      "style": "IPY_MODEL_830916d289da47e3aaaf8342c2c2f160",
      "value": " 12000/0 [00:11&lt;00:00, 1016.56 examples/s]"
     }
    },
    "0efc6c296ac340cb87cb329a5f3dafdc": {
     "model_module": "@jupyter-widgets/base",
     "model_name": "LayoutModel",
     "state": {
      "_model_module": "@jupyter-widgets/base",
      "_model_module_version": "1.2.0",
      "_model_name": "LayoutModel",
      "_view_count": null,
      "_view_module": "@jupyter-widgets/base",
      "_view_module_version": "1.2.0",
      "_view_name": "LayoutView",
      "align_content": null,
      "align_items": null,
      "align_self": null,
      "border": null,
      "bottom": null,
      "display": null,
      "flex": null,
      "flex_flow": null,
      "grid_area": null,
      "grid_auto_columns": null,
      "grid_auto_flow": null,
      "grid_auto_rows": null,
      "grid_column": null,
      "grid_gap": null,
      "grid_row": null,
      "grid_template_areas": null,
      "grid_template_columns": null,
      "grid_template_rows": null,
      "height": null,
      "justify_content": null,
      "justify_items": null,
      "left": null,
      "margin": null,
      "max_height": null,
      "max_width": null,
      "min_height": null,
      "min_width": null,
      "object_fit": null,
      "object_position": null,
      "order": null,
      "overflow": null,
      "overflow_x": null,
      "overflow_y": null,
      "padding": null,
      "right": null,
      "top": null,
      "visibility": null,
      "width": null
     }
    },
    "0f408063b6164c05a30b94f3b7719a5f": {
     "model_module": "@jupyter-widgets/controls",
     "model_name": "HBoxModel",
     "state": {
      "_dom_classes": [],
      "_model_module": "@jupyter-widgets/controls",
      "_model_module_version": "1.5.0",
      "_model_name": "HBoxModel",
      "_view_count": null,
      "_view_module": "@jupyter-widgets/controls",
      "_view_module_version": "1.5.0",
      "_view_name": "HBoxView",
      "box_style": "",
      "children": [
       "IPY_MODEL_62f9d5f8185e468287f91a91dc089ad4",
       "IPY_MODEL_92858f135d1648cfb786acd3c0d5aea3"
      ],
      "layout": "IPY_MODEL_807e2019d11346a4a856302f129af7ae"
     }
    },
    "11603e69e4cb486f9922e03ae8e64069": {
     "model_module": "@jupyter-widgets/controls",
     "model_name": "HTMLModel",
     "state": {
      "_dom_classes": [],
      "_model_module": "@jupyter-widgets/controls",
      "_model_module_version": "1.5.0",
      "_model_name": "HTMLModel",
      "_view_count": null,
      "_view_module": "@jupyter-widgets/controls",
      "_view_module_version": "1.5.0",
      "_view_name": "HTMLView",
      "description": "",
      "description_tooltip": null,
      "layout": "IPY_MODEL_5791f457184d4532a94b1d143a48d9b6",
      "placeholder": "​",
      "style": "IPY_MODEL_90b4781b29b2476db25289a4d3908209",
      "value": " 6830/8580 [00:05&lt;00:00, 15603.78 examples/s]"
     }
    },
    "133a6da9578b43da9dcbb5063d20ca9f": {
     "model_module": "@jupyter-widgets/controls",
     "model_name": "FloatProgressModel",
     "state": {
      "_dom_classes": [],
      "_model_module": "@jupyter-widgets/controls",
      "_model_module_version": "1.5.0",
      "_model_name": "FloatProgressModel",
      "_view_count": null,
      "_view_module": "@jupyter-widgets/controls",
      "_view_module_version": "1.5.0",
      "_view_name": "ProgressView",
      "bar_style": "danger",
      "description": " 99%",
      "description_tooltip": null,
      "layout": "IPY_MODEL_f0d7957802984253ba5fbdb4238ba01b",
      "max": 12000,
      "min": 0,
      "orientation": "horizontal",
      "style": "IPY_MODEL_9276db0afef3444e9040773c7ce0e1c5",
      "value": 11920
     }
    },
    "15d08781a6104c138d6f8415649469b9": {
     "model_module": "@jupyter-widgets/base",
     "model_name": "LayoutModel",
     "state": {
      "_model_module": "@jupyter-widgets/base",
      "_model_module_version": "1.2.0",
      "_model_name": "LayoutModel",
      "_view_count": null,
      "_view_module": "@jupyter-widgets/base",
      "_view_module_version": "1.2.0",
      "_view_name": "LayoutView",
      "align_content": null,
      "align_items": null,
      "align_self": null,
      "border": null,
      "bottom": null,
      "display": null,
      "flex": null,
      "flex_flow": null,
      "grid_area": null,
      "grid_auto_columns": null,
      "grid_auto_flow": null,
      "grid_auto_rows": null,
      "grid_column": null,
      "grid_gap": null,
      "grid_row": null,
      "grid_template_areas": null,
      "grid_template_columns": null,
      "grid_template_rows": null,
      "height": null,
      "justify_content": null,
      "justify_items": null,
      "left": null,
      "margin": null,
      "max_height": null,
      "max_width": null,
      "min_height": null,
      "min_width": null,
      "object_fit": null,
      "object_position": null,
      "order": null,
      "overflow": null,
      "overflow_x": null,
      "overflow_y": null,
      "padding": null,
      "right": null,
      "top": null,
      "visibility": null,
      "width": null
     }
    },
    "168b26a37ffe4af6aaf3c654cbfc3cda": {
     "model_module": "@jupyter-widgets/base",
     "model_name": "LayoutModel",
     "state": {
      "_model_module": "@jupyter-widgets/base",
      "_model_module_version": "1.2.0",
      "_model_name": "LayoutModel",
      "_view_count": null,
      "_view_module": "@jupyter-widgets/base",
      "_view_module_version": "1.2.0",
      "_view_name": "LayoutView",
      "align_content": null,
      "align_items": null,
      "align_self": null,
      "border": null,
      "bottom": null,
      "display": null,
      "flex": null,
      "flex_flow": null,
      "grid_area": null,
      "grid_auto_columns": null,
      "grid_auto_flow": null,
      "grid_auto_rows": null,
      "grid_column": null,
      "grid_gap": null,
      "grid_row": null,
      "grid_template_areas": null,
      "grid_template_columns": null,
      "grid_template_rows": null,
      "height": null,
      "justify_content": null,
      "justify_items": null,
      "left": null,
      "margin": null,
      "max_height": null,
      "max_width": null,
      "min_height": null,
      "min_width": null,
      "object_fit": null,
      "object_position": null,
      "order": null,
      "overflow": null,
      "overflow_x": null,
      "overflow_y": null,
      "padding": null,
      "right": null,
      "top": null,
      "visibility": null,
      "width": null
     }
    },
    "1fbb7d716f124e97bd27030a89bcb32f": {
     "model_module": "@jupyter-widgets/controls",
     "model_name": "HTMLModel",
     "state": {
      "_dom_classes": [],
      "_model_module": "@jupyter-widgets/controls",
      "_model_module_version": "1.5.0",
      "_model_name": "HTMLModel",
      "_view_count": null,
      "_view_module": "@jupyter-widgets/controls",
      "_view_module_version": "1.5.0",
      "_view_name": "HTMLView",
      "description": "",
      "description_tooltip": null,
      "layout": "IPY_MODEL_8fde1818528c4e269cd1368d17fb80f3",
      "placeholder": "​",
      "style": "IPY_MODEL_398fc1d200854b3085e579a4741eef3e",
      "value": " 20/20 [00:05&lt;00:00,  3.40 MiB/s]"
     }
    },
    "2006b28a9a66455bbb710bddcff416fa": {
     "model_module": "@jupyter-widgets/controls",
     "model_name": "FloatProgressModel",
     "state": {
      "_dom_classes": [],
      "_model_module": "@jupyter-widgets/controls",
      "_model_module_version": "1.5.0",
      "_model_name": "FloatProgressModel",
      "_view_count": null,
      "_view_module": "@jupyter-widgets/controls",
      "_view_module_version": "1.5.0",
      "_view_name": "ProgressView",
      "bar_style": "success",
      "description": "Dl Completed...: 100%",
      "description_tooltip": null,
      "layout": "IPY_MODEL_c0d5c183410b46e38fb1f1842dd5909f",
      "max": 1,
      "min": 0,
      "orientation": "horizontal",
      "style": "IPY_MODEL_daf4376b518c436296ab4c66a13c66c6",
      "value": 1
     }
    },
    "2132ecaa7f6f4e66ac5dc7c8fd043256": {
     "model_module": "@jupyter-widgets/controls",
     "model_name": "ProgressStyleModel",
     "state": {
      "_model_module": "@jupyter-widgets/controls",
      "_model_module_version": "1.5.0",
      "_model_name": "ProgressStyleModel",
      "_view_count": null,
      "_view_module": "@jupyter-widgets/base",
      "_view_module_version": "1.2.0",
      "_view_name": "StyleView",
      "bar_color": null,
      "description_width": "initial"
     }
    },
    "2137f70d63e4496fa9c742b039054d5a": {
     "model_module": "@jupyter-widgets/controls",
     "model_name": "DescriptionStyleModel",
     "state": {
      "_model_module": "@jupyter-widgets/controls",
      "_model_module_version": "1.5.0",
      "_model_name": "DescriptionStyleModel",
      "_view_count": null,
      "_view_module": "@jupyter-widgets/base",
      "_view_module_version": "1.2.0",
      "_view_name": "StyleView",
      "description_width": ""
     }
    },
    "2210d23822d2446394f3f356679c37c5": {
     "model_module": "@jupyter-widgets/base",
     "model_name": "LayoutModel",
     "state": {
      "_model_module": "@jupyter-widgets/base",
      "_model_module_version": "1.2.0",
      "_model_name": "LayoutModel",
      "_view_count": null,
      "_view_module": "@jupyter-widgets/base",
      "_view_module_version": "1.2.0",
      "_view_name": "LayoutView",
      "align_content": null,
      "align_items": null,
      "align_self": null,
      "border": null,
      "bottom": null,
      "display": null,
      "flex": null,
      "flex_flow": null,
      "grid_area": null,
      "grid_auto_columns": null,
      "grid_auto_flow": null,
      "grid_auto_rows": null,
      "grid_column": null,
      "grid_gap": null,
      "grid_row": null,
      "grid_template_areas": null,
      "grid_template_columns": null,
      "grid_template_rows": null,
      "height": null,
      "justify_content": null,
      "justify_items": null,
      "left": null,
      "margin": null,
      "max_height": null,
      "max_width": null,
      "min_height": null,
      "min_width": null,
      "object_fit": null,
      "object_position": null,
      "order": null,
      "overflow": null,
      "overflow_x": null,
      "overflow_y": null,
      "padding": null,
      "right": null,
      "top": null,
      "visibility": null,
      "width": null
     }
    },
    "22f9faa1123c4795be5d390fd9cb3bd2": {
     "model_module": "@jupyter-widgets/controls",
     "model_name": "FloatProgressModel",
     "state": {
      "_dom_classes": [],
      "_model_module": "@jupyter-widgets/controls",
      "_model_module_version": "1.5.0",
      "_model_name": "FloatProgressModel",
      "_view_count": null,
      "_view_module": "@jupyter-widgets/controls",
      "_view_module_version": "1.5.0",
      "_view_name": "ProgressView",
      "bar_style": "success",
      "description": "Dl Completed...: 100%",
      "description_tooltip": null,
      "layout": "IPY_MODEL_fe6dd1b6a8ab420bace79cf21d4a5cd9",
      "max": 1,
      "min": 0,
      "orientation": "horizontal",
      "style": "IPY_MODEL_4a520f4fa4b049c999e34119223e6882",
      "value": 1
     }
    },
    "2b15d31b6a414dbf8d45b4620a161219": {
     "model_module": "@jupyter-widgets/controls",
     "model_name": "DescriptionStyleModel",
     "state": {
      "_model_module": "@jupyter-widgets/controls",
      "_model_module_version": "1.5.0",
      "_model_name": "DescriptionStyleModel",
      "_view_count": null,
      "_view_module": "@jupyter-widgets/base",
      "_view_module_version": "1.2.0",
      "_view_name": "StyleView",
      "description_width": ""
     }
    },
    "2cf3d337c58a4d619279518fbf082d1c": {
     "model_module": "@jupyter-widgets/base",
     "model_name": "LayoutModel",
     "state": {
      "_model_module": "@jupyter-widgets/base",
      "_model_module_version": "1.2.0",
      "_model_name": "LayoutModel",
      "_view_count": null,
      "_view_module": "@jupyter-widgets/base",
      "_view_module_version": "1.2.0",
      "_view_name": "LayoutView",
      "align_content": null,
      "align_items": null,
      "align_self": null,
      "border": null,
      "bottom": null,
      "display": null,
      "flex": null,
      "flex_flow": null,
      "grid_area": null,
      "grid_auto_columns": null,
      "grid_auto_flow": null,
      "grid_auto_rows": null,
      "grid_column": null,
      "grid_gap": null,
      "grid_row": null,
      "grid_template_areas": null,
      "grid_template_columns": null,
      "grid_template_rows": null,
      "height": null,
      "justify_content": null,
      "justify_items": null,
      "left": null,
      "margin": null,
      "max_height": null,
      "max_width": null,
      "min_height": null,
      "min_width": null,
      "object_fit": null,
      "object_position": null,
      "order": null,
      "overflow": null,
      "overflow_x": null,
      "overflow_y": null,
      "padding": null,
      "right": null,
      "top": null,
      "visibility": null,
      "width": null
     }
    },
    "304c0a2894cd4cf3a5173336daebab17": {
     "model_module": "@jupyter-widgets/base",
     "model_name": "LayoutModel",
     "state": {
      "_model_module": "@jupyter-widgets/base",
      "_model_module_version": "1.2.0",
      "_model_name": "LayoutModel",
      "_view_count": null,
      "_view_module": "@jupyter-widgets/base",
      "_view_module_version": "1.2.0",
      "_view_name": "LayoutView",
      "align_content": null,
      "align_items": null,
      "align_self": null,
      "border": null,
      "bottom": null,
      "display": null,
      "flex": null,
      "flex_flow": null,
      "grid_area": null,
      "grid_auto_columns": null,
      "grid_auto_flow": null,
      "grid_auto_rows": null,
      "grid_column": null,
      "grid_gap": null,
      "grid_row": null,
      "grid_template_areas": null,
      "grid_template_columns": null,
      "grid_template_rows": null,
      "height": null,
      "justify_content": null,
      "justify_items": null,
      "left": null,
      "margin": null,
      "max_height": null,
      "max_width": null,
      "min_height": null,
      "min_width": null,
      "object_fit": null,
      "object_position": null,
      "order": null,
      "overflow": null,
      "overflow_x": null,
      "overflow_y": null,
      "padding": null,
      "right": null,
      "top": null,
      "visibility": null,
      "width": null
     }
    },
    "398fc1d200854b3085e579a4741eef3e": {
     "model_module": "@jupyter-widgets/controls",
     "model_name": "DescriptionStyleModel",
     "state": {
      "_model_module": "@jupyter-widgets/controls",
      "_model_module_version": "1.5.0",
      "_model_name": "DescriptionStyleModel",
      "_view_count": null,
      "_view_module": "@jupyter-widgets/base",
      "_view_module_version": "1.2.0",
      "_view_name": "StyleView",
      "description_width": ""
     }
    },
    "405a9a63a5c34dd7b7c3b5041fe43641": {
     "model_module": "@jupyter-widgets/base",
     "model_name": "LayoutModel",
     "state": {
      "_model_module": "@jupyter-widgets/base",
      "_model_module_version": "1.2.0",
      "_model_name": "LayoutModel",
      "_view_count": null,
      "_view_module": "@jupyter-widgets/base",
      "_view_module_version": "1.2.0",
      "_view_name": "LayoutView",
      "align_content": null,
      "align_items": null,
      "align_self": null,
      "border": null,
      "bottom": null,
      "display": null,
      "flex": null,
      "flex_flow": null,
      "grid_area": null,
      "grid_auto_columns": null,
      "grid_auto_flow": null,
      "grid_auto_rows": null,
      "grid_column": null,
      "grid_gap": null,
      "grid_row": null,
      "grid_template_areas": null,
      "grid_template_columns": null,
      "grid_template_rows": null,
      "height": null,
      "justify_content": null,
      "justify_items": null,
      "left": null,
      "margin": null,
      "max_height": null,
      "max_width": null,
      "min_height": null,
      "min_width": null,
      "object_fit": null,
      "object_position": null,
      "order": null,
      "overflow": null,
      "overflow_x": null,
      "overflow_y": null,
      "padding": null,
      "right": null,
      "top": null,
      "visibility": null,
      "width": null
     }
    },
    "40f74e2629ff42f4a5c1dc1cd5aada01": {
     "model_module": "@jupyter-widgets/base",
     "model_name": "LayoutModel",
     "state": {
      "_model_module": "@jupyter-widgets/base",
      "_model_module_version": "1.2.0",
      "_model_name": "LayoutModel",
      "_view_count": null,
      "_view_module": "@jupyter-widgets/base",
      "_view_module_version": "1.2.0",
      "_view_name": "LayoutView",
      "align_content": null,
      "align_items": null,
      "align_self": null,
      "border": null,
      "bottom": null,
      "display": null,
      "flex": null,
      "flex_flow": null,
      "grid_area": null,
      "grid_auto_columns": null,
      "grid_auto_flow": null,
      "grid_auto_rows": null,
      "grid_column": null,
      "grid_gap": null,
      "grid_row": null,
      "grid_template_areas": null,
      "grid_template_columns": null,
      "grid_template_rows": null,
      "height": null,
      "justify_content": null,
      "justify_items": null,
      "left": null,
      "margin": null,
      "max_height": null,
      "max_width": null,
      "min_height": null,
      "min_width": null,
      "object_fit": null,
      "object_position": null,
      "order": null,
      "overflow": null,
      "overflow_x": null,
      "overflow_y": null,
      "padding": null,
      "right": null,
      "top": null,
      "visibility": null,
      "width": null
     }
    },
    "42a8bafde6e5497fb36d9416f5b3157e": {
     "model_module": "@jupyter-widgets/controls",
     "model_name": "HTMLModel",
     "state": {
      "_dom_classes": [],
      "_model_module": "@jupyter-widgets/controls",
      "_model_module_version": "1.5.0",
      "_model_name": "HTMLModel",
      "_view_count": null,
      "_view_module": "@jupyter-widgets/controls",
      "_view_module_version": "1.5.0",
      "_view_name": "HTMLView",
      "description": "",
      "description_tooltip": null,
      "layout": "IPY_MODEL_6b962b67bf134898a82f5e8d61870f6b",
      "placeholder": "​",
      "style": "IPY_MODEL_8c045f9e952e4995932db3ddfcb4c993",
      "value": " 756/756 [00:25&lt;00:00, 29.13 MiB/s]"
     }
    },
    "45fb080a3ea34333ad6ad5cb7363b9d2": {
     "model_module": "@jupyter-widgets/controls",
     "model_name": "HBoxModel",
     "state": {
      "_dom_classes": [],
      "_model_module": "@jupyter-widgets/controls",
      "_model_module_version": "1.5.0",
      "_model_name": "HBoxModel",
      "_view_count": null,
      "_view_module": "@jupyter-widgets/controls",
      "_view_module_version": "1.5.0",
      "_view_name": "HBoxView",
      "box_style": "",
      "children": [
       "IPY_MODEL_f67969dd030b4c95bdc350fad6c2a994",
       "IPY_MODEL_e85906ff63e94a1b8ee7df9ee70f03a8"
      ],
      "layout": "IPY_MODEL_15d08781a6104c138d6f8415649469b9"
     }
    },
    "477ff395b9d34f389acc053987eaf7fc": {
     "model_module": "@jupyter-widgets/controls",
     "model_name": "FloatProgressModel",
     "state": {
      "_dom_classes": [],
      "_model_module": "@jupyter-widgets/controls",
      "_model_module_version": "1.5.0",
      "_model_name": "FloatProgressModel",
      "_view_count": null,
      "_view_module": "@jupyter-widgets/controls",
      "_view_module_version": "1.5.0",
      "_view_name": "ProgressView",
      "bar_style": "info",
      "description": "",
      "description_tooltip": null,
      "layout": "IPY_MODEL_e2a8063cb0ea4dd294c837599c103476",
      "max": 1,
      "min": 0,
      "orientation": "horizontal",
      "style": "IPY_MODEL_6b608244cd574bb695e770a2371298ab",
      "value": 1
     }
    },
    "4a520f4fa4b049c999e34119223e6882": {
     "model_module": "@jupyter-widgets/controls",
     "model_name": "ProgressStyleModel",
     "state": {
      "_model_module": "@jupyter-widgets/controls",
      "_model_module_version": "1.5.0",
      "_model_name": "ProgressStyleModel",
      "_view_count": null,
      "_view_module": "@jupyter-widgets/base",
      "_view_module_version": "1.2.0",
      "_view_name": "StyleView",
      "bar_color": null,
      "description_width": "initial"
     }
    },
    "4ba27cee8bbf411290ae2b386cf581c7": {
     "model_module": "@jupyter-widgets/controls",
     "model_name": "ProgressStyleModel",
     "state": {
      "_model_module": "@jupyter-widgets/controls",
      "_model_module_version": "1.5.0",
      "_model_name": "ProgressStyleModel",
      "_view_count": null,
      "_view_module": "@jupyter-widgets/base",
      "_view_module_version": "1.2.0",
      "_view_name": "StyleView",
      "bar_color": null,
      "description_width": "initial"
     }
    },
    "4f0d8d65f1564eda91479d6690e6cb9c": {
     "model_module": "@jupyter-widgets/controls",
     "model_name": "ProgressStyleModel",
     "state": {
      "_model_module": "@jupyter-widgets/controls",
      "_model_module_version": "1.5.0",
      "_model_name": "ProgressStyleModel",
      "_view_count": null,
      "_view_module": "@jupyter-widgets/base",
      "_view_module_version": "1.2.0",
      "_view_name": "StyleView",
      "bar_color": null,
      "description_width": "initial"
     }
    },
    "507ed9821bee4906997dbbf9b2a76a92": {
     "model_module": "@jupyter-widgets/controls",
     "model_name": "HTMLModel",
     "state": {
      "_dom_classes": [],
      "_model_module": "@jupyter-widgets/controls",
      "_model_module_version": "1.5.0",
      "_model_name": "HTMLModel",
      "_view_count": null,
      "_view_module": "@jupyter-widgets/controls",
      "_view_module_version": "1.5.0",
      "_view_name": "HTMLView",
      "description": "",
      "description_tooltip": null,
      "layout": "IPY_MODEL_87e4a4dfd8ec48bea92d055eabf1c674",
      "placeholder": "​",
      "style": "IPY_MODEL_f2b9f4ac63a54284ba8df1749b920c6c",
      "value": " 1/1 [00:25&lt;00:00, 25.99s/ url]"
     }
    },
    "5791f457184d4532a94b1d143a48d9b6": {
     "model_module": "@jupyter-widgets/base",
     "model_name": "LayoutModel",
     "state": {
      "_model_module": "@jupyter-widgets/base",
      "_model_module_version": "1.2.0",
      "_model_name": "LayoutModel",
      "_view_count": null,
      "_view_module": "@jupyter-widgets/base",
      "_view_module_version": "1.2.0",
      "_view_name": "LayoutView",
      "align_content": null,
      "align_items": null,
      "align_self": null,
      "border": null,
      "bottom": null,
      "display": null,
      "flex": null,
      "flex_flow": null,
      "grid_area": null,
      "grid_auto_columns": null,
      "grid_auto_flow": null,
      "grid_auto_rows": null,
      "grid_column": null,
      "grid_gap": null,
      "grid_row": null,
      "grid_template_areas": null,
      "grid_template_columns": null,
      "grid_template_rows": null,
      "height": null,
      "justify_content": null,
      "justify_items": null,
      "left": null,
      "margin": null,
      "max_height": null,
      "max_width": null,
      "min_height": null,
      "min_width": null,
      "object_fit": null,
      "object_position": null,
      "order": null,
      "overflow": null,
      "overflow_x": null,
      "overflow_y": null,
      "padding": null,
      "right": null,
      "top": null,
      "visibility": null,
      "width": null
     }
    },
    "62f9d5f8185e468287f91a91dc089ad4": {
     "model_module": "@jupyter-widgets/controls",
     "model_name": "FloatProgressModel",
     "state": {
      "_dom_classes": [],
      "_model_module": "@jupyter-widgets/controls",
      "_model_module_version": "1.5.0",
      "_model_name": "FloatProgressModel",
      "_view_count": null,
      "_view_module": "@jupyter-widgets/controls",
      "_view_module_version": "1.5.0",
      "_view_name": "ProgressView",
      "bar_style": "success",
      "description": "Extraction completed...: 100%",
      "description_tooltip": null,
      "layout": "IPY_MODEL_85b6cf23e77d45e08ae5b0d38335be26",
      "max": 1,
      "min": 0,
      "orientation": "horizontal",
      "style": "IPY_MODEL_4ba27cee8bbf411290ae2b386cf581c7",
      "value": 1
     }
    },
    "69b24586049f4b35ad61e1cff114fa5d": {
     "model_module": "@jupyter-widgets/base",
     "model_name": "LayoutModel",
     "state": {
      "_model_module": "@jupyter-widgets/base",
      "_model_module_version": "1.2.0",
      "_model_name": "LayoutModel",
      "_view_count": null,
      "_view_module": "@jupyter-widgets/base",
      "_view_module_version": "1.2.0",
      "_view_name": "LayoutView",
      "align_content": null,
      "align_items": null,
      "align_self": null,
      "border": null,
      "bottom": null,
      "display": null,
      "flex": null,
      "flex_flow": null,
      "grid_area": null,
      "grid_auto_columns": null,
      "grid_auto_flow": null,
      "grid_auto_rows": null,
      "grid_column": null,
      "grid_gap": null,
      "grid_row": null,
      "grid_template_areas": null,
      "grid_template_columns": null,
      "grid_template_rows": null,
      "height": null,
      "justify_content": null,
      "justify_items": null,
      "left": null,
      "margin": null,
      "max_height": null,
      "max_width": null,
      "min_height": null,
      "min_width": null,
      "object_fit": null,
      "object_position": null,
      "order": null,
      "overflow": null,
      "overflow_x": null,
      "overflow_y": null,
      "padding": null,
      "right": null,
      "top": null,
      "visibility": null,
      "width": null
     }
    },
    "69e72e52df0f468f9351b0e53260ae88": {
     "model_module": "@jupyter-widgets/controls",
     "model_name": "FloatProgressModel",
     "state": {
      "_dom_classes": [],
      "_model_module": "@jupyter-widgets/controls",
      "_model_module_version": "1.5.0",
      "_model_name": "FloatProgressModel",
      "_view_count": null,
      "_view_module": "@jupyter-widgets/controls",
      "_view_module_version": "1.5.0",
      "_view_name": "ProgressView",
      "bar_style": "success",
      "description": "Dl Size...: 100%",
      "description_tooltip": null,
      "layout": "IPY_MODEL_d03fb41be5244db4ae532613eed5cb7a",
      "max": 1,
      "min": 0,
      "orientation": "horizontal",
      "style": "IPY_MODEL_ed1abb67237a4f06bd76f1f5afd2e470",
      "value": 1
     }
    },
    "6b608244cd574bb695e770a2371298ab": {
     "model_module": "@jupyter-widgets/controls",
     "model_name": "ProgressStyleModel",
     "state": {
      "_model_module": "@jupyter-widgets/controls",
      "_model_module_version": "1.5.0",
      "_model_name": "ProgressStyleModel",
      "_view_count": null,
      "_view_module": "@jupyter-widgets/base",
      "_view_module_version": "1.2.0",
      "_view_name": "StyleView",
      "bar_color": null,
      "description_width": "initial"
     }
    },
    "6b962b67bf134898a82f5e8d61870f6b": {
     "model_module": "@jupyter-widgets/base",
     "model_name": "LayoutModel",
     "state": {
      "_model_module": "@jupyter-widgets/base",
      "_model_module_version": "1.2.0",
      "_model_name": "LayoutModel",
      "_view_count": null,
      "_view_module": "@jupyter-widgets/base",
      "_view_module_version": "1.2.0",
      "_view_name": "LayoutView",
      "align_content": null,
      "align_items": null,
      "align_self": null,
      "border": null,
      "bottom": null,
      "display": null,
      "flex": null,
      "flex_flow": null,
      "grid_area": null,
      "grid_auto_columns": null,
      "grid_auto_flow": null,
      "grid_auto_rows": null,
      "grid_column": null,
      "grid_gap": null,
      "grid_row": null,
      "grid_template_areas": null,
      "grid_template_columns": null,
      "grid_template_rows": null,
      "height": null,
      "justify_content": null,
      "justify_items": null,
      "left": null,
      "margin": null,
      "max_height": null,
      "max_width": null,
      "min_height": null,
      "min_width": null,
      "object_fit": null,
      "object_position": null,
      "order": null,
      "overflow": null,
      "overflow_x": null,
      "overflow_y": null,
      "padding": null,
      "right": null,
      "top": null,
      "visibility": null,
      "width": null
     }
    },
    "807e2019d11346a4a856302f129af7ae": {
     "model_module": "@jupyter-widgets/base",
     "model_name": "LayoutModel",
     "state": {
      "_model_module": "@jupyter-widgets/base",
      "_model_module_version": "1.2.0",
      "_model_name": "LayoutModel",
      "_view_count": null,
      "_view_module": "@jupyter-widgets/base",
      "_view_module_version": "1.2.0",
      "_view_name": "LayoutView",
      "align_content": null,
      "align_items": null,
      "align_self": null,
      "border": null,
      "bottom": null,
      "display": null,
      "flex": null,
      "flex_flow": null,
      "grid_area": null,
      "grid_auto_columns": null,
      "grid_auto_flow": null,
      "grid_auto_rows": null,
      "grid_column": null,
      "grid_gap": null,
      "grid_row": null,
      "grid_template_areas": null,
      "grid_template_columns": null,
      "grid_template_rows": null,
      "height": null,
      "justify_content": null,
      "justify_items": null,
      "left": null,
      "margin": null,
      "max_height": null,
      "max_width": null,
      "min_height": null,
      "min_width": null,
      "object_fit": null,
      "object_position": null,
      "order": null,
      "overflow": null,
      "overflow_x": null,
      "overflow_y": null,
      "padding": null,
      "right": null,
      "top": null,
      "visibility": null,
      "width": null
     }
    },
    "830916d289da47e3aaaf8342c2c2f160": {
     "model_module": "@jupyter-widgets/controls",
     "model_name": "DescriptionStyleModel",
     "state": {
      "_model_module": "@jupyter-widgets/controls",
      "_model_module_version": "1.5.0",
      "_model_name": "DescriptionStyleModel",
      "_view_count": null,
      "_view_module": "@jupyter-widgets/base",
      "_view_module_version": "1.2.0",
      "_view_name": "StyleView",
      "description_width": ""
     }
    },
    "849d0eec6b5540e582a74e0a6209f339": {
     "model_module": "@jupyter-widgets/controls",
     "model_name": "FloatProgressModel",
     "state": {
      "_dom_classes": [],
      "_model_module": "@jupyter-widgets/controls",
      "_model_module_version": "1.5.0",
      "_model_name": "FloatProgressModel",
      "_view_count": null,
      "_view_module": "@jupyter-widgets/controls",
      "_view_module_version": "1.5.0",
      "_view_name": "ProgressView",
      "bar_style": "success",
      "description": "Dl Size...: 100%",
      "description_tooltip": null,
      "layout": "IPY_MODEL_2210d23822d2446394f3f356679c37c5",
      "max": 1,
      "min": 0,
      "orientation": "horizontal",
      "style": "IPY_MODEL_2132ecaa7f6f4e66ac5dc7c8fd043256",
      "value": 1
     }
    },
    "852c3314dee444399c59470e67d90759": {
     "model_module": "@jupyter-widgets/base",
     "model_name": "LayoutModel",
     "state": {
      "_model_module": "@jupyter-widgets/base",
      "_model_module_version": "1.2.0",
      "_model_name": "LayoutModel",
      "_view_count": null,
      "_view_module": "@jupyter-widgets/base",
      "_view_module_version": "1.2.0",
      "_view_name": "LayoutView",
      "align_content": null,
      "align_items": null,
      "align_self": null,
      "border": null,
      "bottom": null,
      "display": null,
      "flex": null,
      "flex_flow": null,
      "grid_area": null,
      "grid_auto_columns": null,
      "grid_auto_flow": null,
      "grid_auto_rows": null,
      "grid_column": null,
      "grid_gap": null,
      "grid_row": null,
      "grid_template_areas": null,
      "grid_template_columns": null,
      "grid_template_rows": null,
      "height": null,
      "justify_content": null,
      "justify_items": null,
      "left": null,
      "margin": null,
      "max_height": null,
      "max_width": null,
      "min_height": null,
      "min_width": null,
      "object_fit": null,
      "object_position": null,
      "order": null,
      "overflow": null,
      "overflow_x": null,
      "overflow_y": null,
      "padding": null,
      "right": null,
      "top": null,
      "visibility": null,
      "width": null
     }
    },
    "85b6cf23e77d45e08ae5b0d38335be26": {
     "model_module": "@jupyter-widgets/base",
     "model_name": "LayoutModel",
     "state": {
      "_model_module": "@jupyter-widgets/base",
      "_model_module_version": "1.2.0",
      "_model_name": "LayoutModel",
      "_view_count": null,
      "_view_module": "@jupyter-widgets/base",
      "_view_module_version": "1.2.0",
      "_view_name": "LayoutView",
      "align_content": null,
      "align_items": null,
      "align_self": null,
      "border": null,
      "bottom": null,
      "display": null,
      "flex": null,
      "flex_flow": null,
      "grid_area": null,
      "grid_auto_columns": null,
      "grid_auto_flow": null,
      "grid_auto_rows": null,
      "grid_column": null,
      "grid_gap": null,
      "grid_row": null,
      "grid_template_areas": null,
      "grid_template_columns": null,
      "grid_template_rows": null,
      "height": null,
      "justify_content": null,
      "justify_items": null,
      "left": null,
      "margin": null,
      "max_height": null,
      "max_width": null,
      "min_height": null,
      "min_width": null,
      "object_fit": null,
      "object_position": null,
      "order": null,
      "overflow": null,
      "overflow_x": null,
      "overflow_y": null,
      "padding": null,
      "right": null,
      "top": null,
      "visibility": null,
      "width": null
     }
    },
    "87e4a4dfd8ec48bea92d055eabf1c674": {
     "model_module": "@jupyter-widgets/base",
     "model_name": "LayoutModel",
     "state": {
      "_model_module": "@jupyter-widgets/base",
      "_model_module_version": "1.2.0",
      "_model_name": "LayoutModel",
      "_view_count": null,
      "_view_module": "@jupyter-widgets/base",
      "_view_module_version": "1.2.0",
      "_view_name": "LayoutView",
      "align_content": null,
      "align_items": null,
      "align_self": null,
      "border": null,
      "bottom": null,
      "display": null,
      "flex": null,
      "flex_flow": null,
      "grid_area": null,
      "grid_auto_columns": null,
      "grid_auto_flow": null,
      "grid_auto_rows": null,
      "grid_column": null,
      "grid_gap": null,
      "grid_row": null,
      "grid_template_areas": null,
      "grid_template_columns": null,
      "grid_template_rows": null,
      "height": null,
      "justify_content": null,
      "justify_items": null,
      "left": null,
      "margin": null,
      "max_height": null,
      "max_width": null,
      "min_height": null,
      "min_width": null,
      "object_fit": null,
      "object_position": null,
      "order": null,
      "overflow": null,
      "overflow_x": null,
      "overflow_y": null,
      "padding": null,
      "right": null,
      "top": null,
      "visibility": null,
      "width": null
     }
    },
    "8c045f9e952e4995932db3ddfcb4c993": {
     "model_module": "@jupyter-widgets/controls",
     "model_name": "DescriptionStyleModel",
     "state": {
      "_model_module": "@jupyter-widgets/controls",
      "_model_module_version": "1.5.0",
      "_model_name": "DescriptionStyleModel",
      "_view_count": null,
      "_view_module": "@jupyter-widgets/base",
      "_view_module_version": "1.2.0",
      "_view_name": "StyleView",
      "description_width": ""
     }
    },
    "8fde1818528c4e269cd1368d17fb80f3": {
     "model_module": "@jupyter-widgets/base",
     "model_name": "LayoutModel",
     "state": {
      "_model_module": "@jupyter-widgets/base",
      "_model_module_version": "1.2.0",
      "_model_name": "LayoutModel",
      "_view_count": null,
      "_view_module": "@jupyter-widgets/base",
      "_view_module_version": "1.2.0",
      "_view_name": "LayoutView",
      "align_content": null,
      "align_items": null,
      "align_self": null,
      "border": null,
      "bottom": null,
      "display": null,
      "flex": null,
      "flex_flow": null,
      "grid_area": null,
      "grid_auto_columns": null,
      "grid_auto_flow": null,
      "grid_auto_rows": null,
      "grid_column": null,
      "grid_gap": null,
      "grid_row": null,
      "grid_template_areas": null,
      "grid_template_columns": null,
      "grid_template_rows": null,
      "height": null,
      "justify_content": null,
      "justify_items": null,
      "left": null,
      "margin": null,
      "max_height": null,
      "max_width": null,
      "min_height": null,
      "min_width": null,
      "object_fit": null,
      "object_position": null,
      "order": null,
      "overflow": null,
      "overflow_x": null,
      "overflow_y": null,
      "padding": null,
      "right": null,
      "top": null,
      "visibility": null,
      "width": null
     }
    },
    "90b4781b29b2476db25289a4d3908209": {
     "model_module": "@jupyter-widgets/controls",
     "model_name": "DescriptionStyleModel",
     "state": {
      "_model_module": "@jupyter-widgets/controls",
      "_model_module_version": "1.5.0",
      "_model_name": "DescriptionStyleModel",
      "_view_count": null,
      "_view_module": "@jupyter-widgets/base",
      "_view_module_version": "1.2.0",
      "_view_name": "StyleView",
      "description_width": ""
     }
    },
    "9276db0afef3444e9040773c7ce0e1c5": {
     "model_module": "@jupyter-widgets/controls",
     "model_name": "ProgressStyleModel",
     "state": {
      "_model_module": "@jupyter-widgets/controls",
      "_model_module_version": "1.5.0",
      "_model_name": "ProgressStyleModel",
      "_view_count": null,
      "_view_module": "@jupyter-widgets/base",
      "_view_module_version": "1.2.0",
      "_view_name": "StyleView",
      "bar_color": null,
      "description_width": "initial"
     }
    },
    "92858f135d1648cfb786acd3c0d5aea3": {
     "model_module": "@jupyter-widgets/controls",
     "model_name": "HTMLModel",
     "state": {
      "_dom_classes": [],
      "_model_module": "@jupyter-widgets/controls",
      "_model_module_version": "1.5.0",
      "_model_name": "HTMLModel",
      "_view_count": null,
      "_view_module": "@jupyter-widgets/controls",
      "_view_module_version": "1.5.0",
      "_view_name": "HTMLView",
      "description": "",
      "description_tooltip": null,
      "layout": "IPY_MODEL_9921cd4834294330b7163209b8d939c3",
      "placeholder": "​",
      "style": "IPY_MODEL_2137f70d63e4496fa9c742b039054d5a",
      "value": " 2/2 [00:05&lt;00:00,  2.92s/ file]"
     }
    },
    "94e75a44c311413097fcfa95e826f36f": {
     "model_module": "@jupyter-widgets/controls",
     "model_name": "HBoxModel",
     "state": {
      "_dom_classes": [],
      "_model_module": "@jupyter-widgets/controls",
      "_model_module_version": "1.5.0",
      "_model_name": "HBoxModel",
      "_view_count": null,
      "_view_module": "@jupyter-widgets/controls",
      "_view_module_version": "1.5.0",
      "_view_name": "HBoxView",
      "box_style": "",
      "children": [
       "IPY_MODEL_2006b28a9a66455bbb710bddcff416fa",
       "IPY_MODEL_507ed9821bee4906997dbbf9b2a76a92"
      ],
      "layout": "IPY_MODEL_a4ef8c3b7a50451b8d73b7611b1cb93b"
     }
    },
    "9525ca8facb94dacbddd641c125f7bd9": {
     "model_module": "@jupyter-widgets/base",
     "model_name": "LayoutModel",
     "state": {
      "_model_module": "@jupyter-widgets/base",
      "_model_module_version": "1.2.0",
      "_model_name": "LayoutModel",
      "_view_count": null,
      "_view_module": "@jupyter-widgets/base",
      "_view_module_version": "1.2.0",
      "_view_name": "LayoutView",
      "align_content": null,
      "align_items": null,
      "align_self": null,
      "border": null,
      "bottom": null,
      "display": null,
      "flex": null,
      "flex_flow": null,
      "grid_area": null,
      "grid_auto_columns": null,
      "grid_auto_flow": null,
      "grid_auto_rows": null,
      "grid_column": null,
      "grid_gap": null,
      "grid_row": null,
      "grid_template_areas": null,
      "grid_template_columns": null,
      "grid_template_rows": null,
      "height": null,
      "justify_content": null,
      "justify_items": null,
      "left": null,
      "margin": null,
      "max_height": null,
      "max_width": null,
      "min_height": null,
      "min_width": null,
      "object_fit": null,
      "object_position": null,
      "order": null,
      "overflow": null,
      "overflow_x": null,
      "overflow_y": null,
      "padding": null,
      "right": null,
      "top": null,
      "visibility": null,
      "width": null
     }
    },
    "989162998b82464c90e085857a17523e": {
     "model_module": "@jupyter-widgets/controls",
     "model_name": "HTMLModel",
     "state": {
      "_dom_classes": [],
      "_model_module": "@jupyter-widgets/controls",
      "_model_module_version": "1.5.0",
      "_model_name": "HTMLModel",
      "_view_count": null,
      "_view_module": "@jupyter-widgets/controls",
      "_view_module_version": "1.5.0",
      "_view_name": "HTMLView",
      "description": "",
      "description_tooltip": null,
      "layout": "IPY_MODEL_0efc6c296ac340cb87cb329a5f3dafdc",
      "placeholder": "​",
      "style": "IPY_MODEL_ba060f8d115641fbaab8a4dcb045df9d",
      "value": " 2/2 [00:05&lt;00:00,  2.96s/ url]"
     }
    },
    "9921cd4834294330b7163209b8d939c3": {
     "model_module": "@jupyter-widgets/base",
     "model_name": "LayoutModel",
     "state": {
      "_model_module": "@jupyter-widgets/base",
      "_model_module_version": "1.2.0",
      "_model_name": "LayoutModel",
      "_view_count": null,
      "_view_module": "@jupyter-widgets/base",
      "_view_module_version": "1.2.0",
      "_view_name": "LayoutView",
      "align_content": null,
      "align_items": null,
      "align_self": null,
      "border": null,
      "bottom": null,
      "display": null,
      "flex": null,
      "flex_flow": null,
      "grid_area": null,
      "grid_auto_columns": null,
      "grid_auto_flow": null,
      "grid_auto_rows": null,
      "grid_column": null,
      "grid_gap": null,
      "grid_row": null,
      "grid_template_areas": null,
      "grid_template_columns": null,
      "grid_template_rows": null,
      "height": null,
      "justify_content": null,
      "justify_items": null,
      "left": null,
      "margin": null,
      "max_height": null,
      "max_width": null,
      "min_height": null,
      "min_width": null,
      "object_fit": null,
      "object_position": null,
      "order": null,
      "overflow": null,
      "overflow_x": null,
      "overflow_y": null,
      "padding": null,
      "right": null,
      "top": null,
      "visibility": null,
      "width": null
     }
    },
    "a37e39dc60ba4ef0a9b4f36e8ac38521": {
     "model_module": "@jupyter-widgets/base",
     "model_name": "LayoutModel",
     "state": {
      "_model_module": "@jupyter-widgets/base",
      "_model_module_version": "1.2.0",
      "_model_name": "LayoutModel",
      "_view_count": null,
      "_view_module": "@jupyter-widgets/base",
      "_view_module_version": "1.2.0",
      "_view_name": "LayoutView",
      "align_content": null,
      "align_items": null,
      "align_self": null,
      "border": null,
      "bottom": null,
      "display": null,
      "flex": null,
      "flex_flow": null,
      "grid_area": null,
      "grid_auto_columns": null,
      "grid_auto_flow": null,
      "grid_auto_rows": null,
      "grid_column": null,
      "grid_gap": null,
      "grid_row": null,
      "grid_template_areas": null,
      "grid_template_columns": null,
      "grid_template_rows": null,
      "height": null,
      "justify_content": null,
      "justify_items": null,
      "left": null,
      "margin": null,
      "max_height": null,
      "max_width": null,
      "min_height": null,
      "min_width": null,
      "object_fit": null,
      "object_position": null,
      "order": null,
      "overflow": null,
      "overflow_x": null,
      "overflow_y": null,
      "padding": null,
      "right": null,
      "top": null,
      "visibility": null,
      "width": null
     }
    },
    "a4ef8c3b7a50451b8d73b7611b1cb93b": {
     "model_module": "@jupyter-widgets/base",
     "model_name": "LayoutModel",
     "state": {
      "_model_module": "@jupyter-widgets/base",
      "_model_module_version": "1.2.0",
      "_model_name": "LayoutModel",
      "_view_count": null,
      "_view_module": "@jupyter-widgets/base",
      "_view_module_version": "1.2.0",
      "_view_name": "LayoutView",
      "align_content": null,
      "align_items": null,
      "align_self": null,
      "border": null,
      "bottom": null,
      "display": null,
      "flex": null,
      "flex_flow": null,
      "grid_area": null,
      "grid_auto_columns": null,
      "grid_auto_flow": null,
      "grid_auto_rows": null,
      "grid_column": null,
      "grid_gap": null,
      "grid_row": null,
      "grid_template_areas": null,
      "grid_template_columns": null,
      "grid_template_rows": null,
      "height": null,
      "justify_content": null,
      "justify_items": null,
      "left": null,
      "margin": null,
      "max_height": null,
      "max_width": null,
      "min_height": null,
      "min_width": null,
      "object_fit": null,
      "object_position": null,
      "order": null,
      "overflow": null,
      "overflow_x": null,
      "overflow_y": null,
      "padding": null,
      "right": null,
      "top": null,
      "visibility": null,
      "width": null
     }
    },
    "a5503078fbc54bae8d2a82b210322288": {
     "model_module": "@jupyter-widgets/controls",
     "model_name": "HTMLModel",
     "state": {
      "_dom_classes": [],
      "_model_module": "@jupyter-widgets/controls",
      "_model_module_version": "1.5.0",
      "_model_name": "HTMLModel",
      "_view_count": null,
      "_view_module": "@jupyter-widgets/controls",
      "_view_module_version": "1.5.0",
      "_view_name": "HTMLView",
      "description": "",
      "description_tooltip": null,
      "layout": "IPY_MODEL_9525ca8facb94dacbddd641c125f7bd9",
      "placeholder": "​",
      "style": "IPY_MODEL_2b15d31b6a414dbf8d45b4620a161219",
      "value": " 11920/12000 [00:01&lt;00:00, 8732.77 examples/s]"
     }
    },
    "a688db5ba81543c3876d839bcb2118b5": {
     "model_module": "@jupyter-widgets/controls",
     "model_name": "ProgressStyleModel",
     "state": {
      "_model_module": "@jupyter-widgets/controls",
      "_model_module_version": "1.5.0",
      "_model_name": "ProgressStyleModel",
      "_view_count": null,
      "_view_module": "@jupyter-widgets/base",
      "_view_module_version": "1.2.0",
      "_view_name": "StyleView",
      "bar_color": null,
      "description_width": "initial"
     }
    },
    "adff3205c33744e4b0b7755c67bed757": {
     "model_module": "@jupyter-widgets/controls",
     "model_name": "HBoxModel",
     "state": {
      "_dom_classes": [],
      "_model_module": "@jupyter-widgets/controls",
      "_model_module_version": "1.5.0",
      "_model_name": "HBoxModel",
      "_view_count": null,
      "_view_module": "@jupyter-widgets/controls",
      "_view_module_version": "1.5.0",
      "_view_name": "HBoxView",
      "box_style": "",
      "children": [
       "IPY_MODEL_133a6da9578b43da9dcbb5063d20ca9f",
       "IPY_MODEL_a5503078fbc54bae8d2a82b210322288"
      ],
      "layout": "IPY_MODEL_eb3896aba9a446edb2ec55c3fef9b9bf"
     }
    },
    "ba060f8d115641fbaab8a4dcb045df9d": {
     "model_module": "@jupyter-widgets/controls",
     "model_name": "DescriptionStyleModel",
     "state": {
      "_model_module": "@jupyter-widgets/controls",
      "_model_module_version": "1.5.0",
      "_model_name": "DescriptionStyleModel",
      "_view_count": null,
      "_view_module": "@jupyter-widgets/base",
      "_view_module_version": "1.2.0",
      "_view_name": "StyleView",
      "description_width": ""
     }
    },
    "c0d5c183410b46e38fb1f1842dd5909f": {
     "model_module": "@jupyter-widgets/base",
     "model_name": "LayoutModel",
     "state": {
      "_model_module": "@jupyter-widgets/base",
      "_model_module_version": "1.2.0",
      "_model_name": "LayoutModel",
      "_view_count": null,
      "_view_module": "@jupyter-widgets/base",
      "_view_module_version": "1.2.0",
      "_view_name": "LayoutView",
      "align_content": null,
      "align_items": null,
      "align_self": null,
      "border": null,
      "bottom": null,
      "display": null,
      "flex": null,
      "flex_flow": null,
      "grid_area": null,
      "grid_auto_columns": null,
      "grid_auto_flow": null,
      "grid_auto_rows": null,
      "grid_column": null,
      "grid_gap": null,
      "grid_row": null,
      "grid_template_areas": null,
      "grid_template_columns": null,
      "grid_template_rows": null,
      "height": null,
      "justify_content": null,
      "justify_items": null,
      "left": null,
      "margin": null,
      "max_height": null,
      "max_width": null,
      "min_height": null,
      "min_width": null,
      "object_fit": null,
      "object_position": null,
      "order": null,
      "overflow": null,
      "overflow_x": null,
      "overflow_y": null,
      "padding": null,
      "right": null,
      "top": null,
      "visibility": null,
      "width": null
     }
    },
    "c69e365267174e0dba7073152f23c1a6": {
     "model_module": "@jupyter-widgets/controls",
     "model_name": "HBoxModel",
     "state": {
      "_dom_classes": [],
      "_model_module": "@jupyter-widgets/controls",
      "_model_module_version": "1.5.0",
      "_model_name": "HBoxModel",
      "_view_count": null,
      "_view_module": "@jupyter-widgets/controls",
      "_view_module_version": "1.5.0",
      "_view_name": "HBoxView",
      "box_style": "",
      "children": [
       "IPY_MODEL_69e72e52df0f468f9351b0e53260ae88",
       "IPY_MODEL_42a8bafde6e5497fb36d9416f5b3157e"
      ],
      "layout": "IPY_MODEL_405a9a63a5c34dd7b7c3b5041fe43641"
     }
    },
    "c86409cefe2d4d0581a05b2b9c28e07d": {
     "model_module": "@jupyter-widgets/controls",
     "model_name": "FloatProgressModel",
     "state": {
      "_dom_classes": [],
      "_model_module": "@jupyter-widgets/controls",
      "_model_module_version": "1.5.0",
      "_model_name": "FloatProgressModel",
      "_view_count": null,
      "_view_module": "@jupyter-widgets/controls",
      "_view_module_version": "1.5.0",
      "_view_name": "ProgressView",
      "bar_style": "danger",
      "description": " 80%",
      "description_tooltip": null,
      "layout": "IPY_MODEL_852c3314dee444399c59470e67d90759",
      "max": 8580,
      "min": 0,
      "orientation": "horizontal",
      "style": "IPY_MODEL_4f0d8d65f1564eda91479d6690e6cb9c",
      "value": 6830
     }
    },
    "cada6f42d08e44d6ad591f9152d0efd2": {
     "model_module": "@jupyter-widgets/base",
     "model_name": "LayoutModel",
     "state": {
      "_model_module": "@jupyter-widgets/base",
      "_model_module_version": "1.2.0",
      "_model_name": "LayoutModel",
      "_view_count": null,
      "_view_module": "@jupyter-widgets/base",
      "_view_module_version": "1.2.0",
      "_view_name": "LayoutView",
      "align_content": null,
      "align_items": null,
      "align_self": null,
      "border": null,
      "bottom": null,
      "display": null,
      "flex": null,
      "flex_flow": null,
      "grid_area": null,
      "grid_auto_columns": null,
      "grid_auto_flow": null,
      "grid_auto_rows": null,
      "grid_column": null,
      "grid_gap": null,
      "grid_row": null,
      "grid_template_areas": null,
      "grid_template_columns": null,
      "grid_template_rows": null,
      "height": null,
      "justify_content": null,
      "justify_items": null,
      "left": null,
      "margin": null,
      "max_height": null,
      "max_width": null,
      "min_height": null,
      "min_width": null,
      "object_fit": null,
      "object_position": null,
      "order": null,
      "overflow": null,
      "overflow_x": null,
      "overflow_y": null,
      "padding": null,
      "right": null,
      "top": null,
      "visibility": null,
      "width": null
     }
    },
    "d03fb41be5244db4ae532613eed5cb7a": {
     "model_module": "@jupyter-widgets/base",
     "model_name": "LayoutModel",
     "state": {
      "_model_module": "@jupyter-widgets/base",
      "_model_module_version": "1.2.0",
      "_model_name": "LayoutModel",
      "_view_count": null,
      "_view_module": "@jupyter-widgets/base",
      "_view_module_version": "1.2.0",
      "_view_name": "LayoutView",
      "align_content": null,
      "align_items": null,
      "align_self": null,
      "border": null,
      "bottom": null,
      "display": null,
      "flex": null,
      "flex_flow": null,
      "grid_area": null,
      "grid_auto_columns": null,
      "grid_auto_flow": null,
      "grid_auto_rows": null,
      "grid_column": null,
      "grid_gap": null,
      "grid_row": null,
      "grid_template_areas": null,
      "grid_template_columns": null,
      "grid_template_rows": null,
      "height": null,
      "justify_content": null,
      "justify_items": null,
      "left": null,
      "margin": null,
      "max_height": null,
      "max_width": null,
      "min_height": null,
      "min_width": null,
      "object_fit": null,
      "object_position": null,
      "order": null,
      "overflow": null,
      "overflow_x": null,
      "overflow_y": null,
      "padding": null,
      "right": null,
      "top": null,
      "visibility": null,
      "width": null
     }
    },
    "daf4376b518c436296ab4c66a13c66c6": {
     "model_module": "@jupyter-widgets/controls",
     "model_name": "ProgressStyleModel",
     "state": {
      "_model_module": "@jupyter-widgets/controls",
      "_model_module_version": "1.5.0",
      "_model_name": "ProgressStyleModel",
      "_view_count": null,
      "_view_module": "@jupyter-widgets/base",
      "_view_module_version": "1.2.0",
      "_view_name": "StyleView",
      "bar_color": null,
      "description_width": "initial"
     }
    },
    "e2a8063cb0ea4dd294c837599c103476": {
     "model_module": "@jupyter-widgets/base",
     "model_name": "LayoutModel",
     "state": {
      "_model_module": "@jupyter-widgets/base",
      "_model_module_version": "1.2.0",
      "_model_name": "LayoutModel",
      "_view_count": null,
      "_view_module": "@jupyter-widgets/base",
      "_view_module_version": "1.2.0",
      "_view_name": "LayoutView",
      "align_content": null,
      "align_items": null,
      "align_self": null,
      "border": null,
      "bottom": null,
      "display": null,
      "flex": null,
      "flex_flow": null,
      "grid_area": null,
      "grid_auto_columns": null,
      "grid_auto_flow": null,
      "grid_auto_rows": null,
      "grid_column": null,
      "grid_gap": null,
      "grid_row": null,
      "grid_template_areas": null,
      "grid_template_columns": null,
      "grid_template_rows": null,
      "height": null,
      "justify_content": null,
      "justify_items": null,
      "left": null,
      "margin": null,
      "max_height": null,
      "max_width": null,
      "min_height": null,
      "min_width": null,
      "object_fit": null,
      "object_position": null,
      "order": null,
      "overflow": null,
      "overflow_x": null,
      "overflow_y": null,
      "padding": null,
      "right": null,
      "top": null,
      "visibility": null,
      "width": null
     }
    },
    "e85906ff63e94a1b8ee7df9ee70f03a8": {
     "model_module": "@jupyter-widgets/controls",
     "model_name": "HTMLModel",
     "state": {
      "_dom_classes": [],
      "_model_module": "@jupyter-widgets/controls",
      "_model_module_version": "1.5.0",
      "_model_name": "HTMLModel",
      "_view_count": null,
      "_view_module": "@jupyter-widgets/controls",
      "_view_module_version": "1.5.0",
      "_view_name": "HTMLView",
      "description": "",
      "description_tooltip": null,
      "layout": "IPY_MODEL_168b26a37ffe4af6aaf3c654cbfc3cda",
      "placeholder": "​",
      "style": "IPY_MODEL_fa0a7ec30725448cbe91b34f5d7338a3",
      "value": " 8580/0 [00:08&lt;00:00, 858.50 examples/s]"
     }
    },
    "eb3896aba9a446edb2ec55c3fef9b9bf": {
     "model_module": "@jupyter-widgets/base",
     "model_name": "LayoutModel",
     "state": {
      "_model_module": "@jupyter-widgets/base",
      "_model_module_version": "1.2.0",
      "_model_name": "LayoutModel",
      "_view_count": null,
      "_view_module": "@jupyter-widgets/base",
      "_view_module_version": "1.2.0",
      "_view_name": "LayoutView",
      "align_content": null,
      "align_items": null,
      "align_self": null,
      "border": null,
      "bottom": null,
      "display": null,
      "flex": null,
      "flex_flow": null,
      "grid_area": null,
      "grid_auto_columns": null,
      "grid_auto_flow": null,
      "grid_auto_rows": null,
      "grid_column": null,
      "grid_gap": null,
      "grid_row": null,
      "grid_template_areas": null,
      "grid_template_columns": null,
      "grid_template_rows": null,
      "height": null,
      "justify_content": null,
      "justify_items": null,
      "left": null,
      "margin": null,
      "max_height": null,
      "max_width": null,
      "min_height": null,
      "min_width": null,
      "object_fit": null,
      "object_position": null,
      "order": null,
      "overflow": null,
      "overflow_x": null,
      "overflow_y": null,
      "padding": null,
      "right": null,
      "top": null,
      "visibility": null,
      "width": null
     }
    },
    "ed1abb67237a4f06bd76f1f5afd2e470": {
     "model_module": "@jupyter-widgets/controls",
     "model_name": "ProgressStyleModel",
     "state": {
      "_model_module": "@jupyter-widgets/controls",
      "_model_module_version": "1.5.0",
      "_model_name": "ProgressStyleModel",
      "_view_count": null,
      "_view_module": "@jupyter-widgets/base",
      "_view_module_version": "1.2.0",
      "_view_name": "StyleView",
      "bar_color": null,
      "description_width": "initial"
     }
    },
    "ee05c591ca154cb58857285844245ed3": {
     "model_module": "@jupyter-widgets/controls",
     "model_name": "HBoxModel",
     "state": {
      "_dom_classes": [],
      "_model_module": "@jupyter-widgets/controls",
      "_model_module_version": "1.5.0",
      "_model_name": "HBoxModel",
      "_view_count": null,
      "_view_module": "@jupyter-widgets/controls",
      "_view_module_version": "1.5.0",
      "_view_name": "HBoxView",
      "box_style": "",
      "children": [
       "IPY_MODEL_849d0eec6b5540e582a74e0a6209f339",
       "IPY_MODEL_1fbb7d716f124e97bd27030a89bcb32f"
      ],
      "layout": "IPY_MODEL_69b24586049f4b35ad61e1cff114fa5d"
     }
    },
    "f0d7957802984253ba5fbdb4238ba01b": {
     "model_module": "@jupyter-widgets/base",
     "model_name": "LayoutModel",
     "state": {
      "_model_module": "@jupyter-widgets/base",
      "_model_module_version": "1.2.0",
      "_model_name": "LayoutModel",
      "_view_count": null,
      "_view_module": "@jupyter-widgets/base",
      "_view_module_version": "1.2.0",
      "_view_name": "LayoutView",
      "align_content": null,
      "align_items": null,
      "align_self": null,
      "border": null,
      "bottom": null,
      "display": null,
      "flex": null,
      "flex_flow": null,
      "grid_area": null,
      "grid_auto_columns": null,
      "grid_auto_flow": null,
      "grid_auto_rows": null,
      "grid_column": null,
      "grid_gap": null,
      "grid_row": null,
      "grid_template_areas": null,
      "grid_template_columns": null,
      "grid_template_rows": null,
      "height": null,
      "justify_content": null,
      "justify_items": null,
      "left": null,
      "margin": null,
      "max_height": null,
      "max_width": null,
      "min_height": null,
      "min_width": null,
      "object_fit": null,
      "object_position": null,
      "order": null,
      "overflow": null,
      "overflow_x": null,
      "overflow_y": null,
      "padding": null,
      "right": null,
      "top": null,
      "visibility": null,
      "width": null
     }
    },
    "f2b9f4ac63a54284ba8df1749b920c6c": {
     "model_module": "@jupyter-widgets/controls",
     "model_name": "DescriptionStyleModel",
     "state": {
      "_model_module": "@jupyter-widgets/controls",
      "_model_module_version": "1.5.0",
      "_model_name": "DescriptionStyleModel",
      "_view_count": null,
      "_view_module": "@jupyter-widgets/base",
      "_view_module_version": "1.2.0",
      "_view_name": "StyleView",
      "description_width": ""
     }
    },
    "f67969dd030b4c95bdc350fad6c2a994": {
     "model_module": "@jupyter-widgets/controls",
     "model_name": "FloatProgressModel",
     "state": {
      "_dom_classes": [],
      "_model_module": "@jupyter-widgets/controls",
      "_model_module_version": "1.5.0",
      "_model_name": "FloatProgressModel",
      "_view_count": null,
      "_view_module": "@jupyter-widgets/controls",
      "_view_module_version": "1.5.0",
      "_view_name": "ProgressView",
      "bar_style": "info",
      "description": "",
      "description_tooltip": null,
      "layout": "IPY_MODEL_304c0a2894cd4cf3a5173336daebab17",
      "max": 1,
      "min": 0,
      "orientation": "horizontal",
      "style": "IPY_MODEL_a688db5ba81543c3876d839bcb2118b5",
      "value": 1
     }
    },
    "f79ada732a964089a42b411ac9483b9a": {
     "model_module": "@jupyter-widgets/controls",
     "model_name": "HBoxModel",
     "state": {
      "_dom_classes": [],
      "_model_module": "@jupyter-widgets/controls",
      "_model_module_version": "1.5.0",
      "_model_name": "HBoxModel",
      "_view_count": null,
      "_view_module": "@jupyter-widgets/controls",
      "_view_module_version": "1.5.0",
      "_view_name": "HBoxView",
      "box_style": "",
      "children": [
       "IPY_MODEL_477ff395b9d34f389acc053987eaf7fc",
       "IPY_MODEL_0a20d3d038bb4a6d928bd562aab3960d"
      ],
      "layout": "IPY_MODEL_cada6f42d08e44d6ad591f9152d0efd2"
     }
    },
    "fa0a7ec30725448cbe91b34f5d7338a3": {
     "model_module": "@jupyter-widgets/controls",
     "model_name": "DescriptionStyleModel",
     "state": {
      "_model_module": "@jupyter-widgets/controls",
      "_model_module_version": "1.5.0",
      "_model_name": "DescriptionStyleModel",
      "_view_count": null,
      "_view_module": "@jupyter-widgets/base",
      "_view_module_version": "1.2.0",
      "_view_name": "StyleView",
      "description_width": ""
     }
    },
    "fbd0aefa4df244279db8708d75ea88d6": {
     "model_module": "@jupyter-widgets/controls",
     "model_name": "HBoxModel",
     "state": {
      "_dom_classes": [],
      "_model_module": "@jupyter-widgets/controls",
      "_model_module_version": "1.5.0",
      "_model_name": "HBoxModel",
      "_view_count": null,
      "_view_module": "@jupyter-widgets/controls",
      "_view_module_version": "1.5.0",
      "_view_name": "HBoxView",
      "box_style": "",
      "children": [
       "IPY_MODEL_22f9faa1123c4795be5d390fd9cb3bd2",
       "IPY_MODEL_989162998b82464c90e085857a17523e"
      ],
      "layout": "IPY_MODEL_2cf3d337c58a4d619279518fbf082d1c"
     }
    },
    "fe6dd1b6a8ab420bace79cf21d4a5cd9": {
     "model_module": "@jupyter-widgets/base",
     "model_name": "LayoutModel",
     "state": {
      "_model_module": "@jupyter-widgets/base",
      "_model_module_version": "1.2.0",
      "_model_name": "LayoutModel",
      "_view_count": null,
      "_view_module": "@jupyter-widgets/base",
      "_view_module_version": "1.2.0",
      "_view_name": "LayoutView",
      "align_content": null,
      "align_items": null,
      "align_self": null,
      "border": null,
      "bottom": null,
      "display": null,
      "flex": null,
      "flex_flow": null,
      "grid_area": null,
      "grid_auto_columns": null,
      "grid_auto_flow": null,
      "grid_auto_rows": null,
      "grid_column": null,
      "grid_gap": null,
      "grid_row": null,
      "grid_template_areas": null,
      "grid_template_columns": null,
      "grid_template_rows": null,
      "height": null,
      "justify_content": null,
      "justify_items": null,
      "left": null,
      "margin": null,
      "max_height": null,
      "max_width": null,
      "min_height": null,
      "min_width": null,
      "object_fit": null,
      "object_position": null,
      "order": null,
      "overflow": null,
      "overflow_x": null,
      "overflow_y": null,
      "padding": null,
      "right": null,
      "top": null,
      "visibility": null,
      "width": null
     }
    }
   }
  }
 },
 "nbformat": 4,
 "nbformat_minor": 1
}
