{
 "cells": [
  {
   "cell_type": "markdown",
   "id": "d5dbf39a",
   "metadata": {},
   "source": [
    "import numpy as np\n",
    "import matplotlib.pyplot as plt\n",
    "import cv2"
   ]
  },
  {
   "cell_type": "markdown",
   "id": "1b3224e2",
   "metadata": {},
   "source": [
    "#### Codes for adding and subtracting images \n",
    "\n",
    "### Add Images\n",
    "  #### add_img = cv2.add(image1, image2, image3)\n",
    "  ####  weightedaddimg = cv2.addWeighted(image1, 0.5, image2, 0.4, 0)"
   ]
  },
  {
   "cell_type": "markdown",
   "id": "b28e0c9a",
   "metadata": {},
   "source": [
    "Natural image of combined images will be generated if we choose both the weights as 1"
   ]
  },
  {
   "cell_type": "markdown",
   "id": "cc05c3c3",
   "metadata": {},
   "source": [
    "Background color changes in the combined image\n",
    "####  weightedaddimg = cv2.addWeighted(image1, 0.5, image2, 0.4, 10)\n",
    "  ####  weightedaddimg = cv2.addWeighted(image1, 0.5, image2, 0.4,100)"
   ]
  },
  {
   "cell_type": "markdown",
   "id": "7341ba6a",
   "metadata": {},
   "source": [
    "### Subtraction Codes \n",
    "###### subimg = cv2.subtract(image1, image2)"
   ]
  },
  {
   "cell_type": "markdown",
   "id": "48a227b0",
   "metadata": {},
   "source": [
    "### Bitwise Operators - And, OR, NOT, XOR on images"
   ]
  },
  {
   "cell_type": "markdown",
   "id": "6cbd9714",
   "metadata": {},
   "source": [
    "### AND\n",
    "#### andimg = cv2.bitwise_and(image1, image2)\n",
    "plt.imshow(andimg)\n",
    "\n",
    "##### Only common white space will be displayed in And\n"
   ]
  },
  {
   "cell_type": "markdown",
   "id": "cf71adc3",
   "metadata": {},
   "source": [
    "### OR\n",
    "#### orimg = cv2.bitwise_or(image1, image2)\n",
    "##### All white space will be displayed, wherever both are black will not displayed."
   ]
  },
  {
   "cell_type": "markdown",
   "id": "0506367b",
   "metadata": {},
   "source": [
    "### NOT\n",
    "\n",
    "#### notimg = cv2.bitwise_not(image1)\n",
    "All white space will be black and black will become white space."
   ]
  },
  {
   "cell_type": "markdown",
   "id": "9bd91d4a",
   "metadata": {},
   "source": [
    "### XOR\n",
    "xorimg = cv2.bitwise_xor(image1, image4)\n",
    "\n",
    "Common portion will be white "
   ]
  },
  {
   "cell_type": "markdown",
   "id": "001637f4",
   "metadata": {},
   "source": [
    "And Gate\n",
    "only 1 and 1 is 1\n",
    "\n",
    "OR Gate\n",
    "Only 0 and 0 is 0\n",
    "\n",
    "NOT Gate\n",
    "Opposite\n",
    "\n",
    "XOR Gate\n",
    "#### Same input is 0 and different input is 1\n",
    "0 and 0 & 1 and 1 is 0\n",
    "#### 1 and 0 & 0 and 1 is 1\n"
   ]
  }
 ],
 "metadata": {
  "kernelspec": {
   "display_name": "Python 3 (ipykernel)",
   "language": "python",
   "name": "python3"
  },
  "language_info": {
   "codemirror_mode": {
    "name": "ipython",
    "version": 3
   },
   "file_extension": ".py",
   "mimetype": "text/x-python",
   "name": "python",
   "nbconvert_exporter": "python",
   "pygments_lexer": "ipython3",
   "version": "3.11.5"
  }
 },
 "nbformat": 4,
 "nbformat_minor": 5
}
