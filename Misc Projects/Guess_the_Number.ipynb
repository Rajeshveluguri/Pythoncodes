{
  "nbformat": 4,
  "nbformat_minor": 0,
  "metadata": {
    "colab": {
      "provenance": []
    },
    "kernelspec": {
      "name": "python3",
      "display_name": "Python 3"
    },
    "language_info": {
      "name": "python"
    }
  },
  "cells": [
    {
      "cell_type": "code",
      "execution_count": 8,
      "metadata": {
        "colab": {
          "base_uri": "https://localhost:8080/"
        },
        "id": "yVk2fi4nQ1Yf",
        "outputId": "f5e751da-312d-40a3-814e-d38150300826"
      },
      "outputs": [
        {
          "output_type": "stream",
          "name": "stdout",
          "text": [
            "Guess the number(1-10): 6\n",
            "Wrong Guess. Try again!\n",
            "Sorry, you have used all the attempts. The number was 3.  \n",
            "Guess the number(1-10): 3\n",
            "Hurray! you guessed the number 3\n"
          ]
        }
      ],
      "source": [
        "import random\n",
        "\n",
        "number = random.randint(1,10)\n",
        "\n",
        "for i in range(2):\n",
        "  user = int(input(\"Guess the number(1-10): \"))\n",
        "\n",
        "  if user==number:\n",
        "    print(f\"Hurray! you guessed the number {number}\")\n",
        "    break\n",
        "  else:\n",
        "    print(\"Wrong Guess. Try again!\")\n",
        "\n",
        "  if user!= number :\n",
        "    print(f\"Sorry, you have used all the attempts. The number was {number}.  \")"
      ]
    }
  ]
}