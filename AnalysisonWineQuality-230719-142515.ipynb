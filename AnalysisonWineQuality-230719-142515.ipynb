{
 "cells": [
  {
   "cell_type": "markdown",
   "metadata": {
    "colab_type": "text",
    "id": "9ku0h8OsoHJz"
   },
   "source": [
    
   ]
  },
  {
   "cell_type": "markdown",
   "metadata": {
    "colab_type": "text",
    "id": "NWvRwRdGoK5Y"
   },
   "source": [
    "---\n",
    "# <h1 style="Color:blue;" >** Analysis on Wine Quality ** </h1> \n",
    "# **Table of Contents**\n",
    "---\n",
    "\n",
    "1. [**Introduction**](#Section1)<br>\n",
    "2. [**Problem Statement**](#Section2)<br>\n",
    "3. [**Installing & Importing Libraries**](#Section3)<br>\n",
    "  3.1 [**Installing Libraries**](#Section31)<br>\n",
    "  3.2 [**Upgrading Libraries**](#Section32)<br>\n",
    "  3.3 [**Importing Libraries**](#Section33)<br>\n",
    "4. [**Data Acquisition & Description**](#Section4)<br>\n",
    "5. [**Data Pre-Profiling**](#Section5)<br>\n",
    "6. [**Data Pre-Processing**](#Section6)<br>\n",
    "7. [**Data Post-Profiling**](#Section7)<br>\n",
    "8. [**Exploratory Data Analysis**](#Section8)<br>\n",
    "9. [**Summarization**](#Section9)</br>\n",
    "  9.1 [**Conclusion**](#Section91)</br>\n",
    "  9.2 [**Actionable Insights**](#Section91)</br>\n",
    "\n",
    "---"
   ]
  },
  {
   "cell_type": "markdown",
   "metadata": {
    "colab_type": "text",
    "id": "iACv_4iIoaLi"
   },
   "source": [
    "---\n",
    "<a name = Section1></a>\n",
    "# **1. Introduction**\n",
    "---\n",
    "\n",
    "- Write down some interesting introduction related to the topic.\n",
    "\n",
    "- Surf out over the internet and do some research about what is happening in real life.\n",
    "\n",
    "- Try out and make some concrete points about your point of view."
   ]
  },
  {
   "cell_type": "markdown",
   "metadata": {
    "colab_type": "text",
    "id": "sOGJAM3AoePy"
   },
   "source": [
    "---\n",
    "<a name = Section2></a>\n",
    "# **2. Problem Statement**\n",
    "---\n",
    "\n",
    "- This section is emphasised on providing some generic introduction to the problem that most companies confronts.\n",
    "- **Example Problem Statement:**\n",
    "\n",
    "  - Wine industry shows a recent growth spurt as social drinking is on the rise.\n",
    "\n",
    "  - The price of wine depends on a rather abstract concept of wine appreciation by wine tasters.\n",
    "\n",
    "  - Pricing of wine depends on such a volatile factor to some extent.\n",
    "\n",
    "  - Another key factor in wine certification and quality assessment is physicochemical tests which are laboratory-based.\n",
    "\n",
    "  - For the wine market, it would be of interest if human quality of tasting can be related to the chemical properties of wine.\n",
    "\n",
    "  - Doing so that certification and quality assessment and assurance process is more controlled.\n",
    "\n",
    "  \n",
    "<p align=\"center\"><img src=\"https://raw.githubusercontent.com/insaid2018/Term-2/master/wine%20gif%20term%201%20%26%20Term%202.gif\"></p>\n",
    "\n",
    "- Derive a scenario related to the problem statement and heads on to the journey of exploration.\n",
    "\n",
    "- **Example Scenario:**\n",
    "  - Vintnest, an American Wine Company is pretty famous for it quality of wine.\n",
    "\n",
    "  - Every three years they try to launch a new wine with additional ingredients.\n",
    "\n",
    "  - They have all the necessary information accumulated over the past few years.\n",
    "\n",
    "  - But they are looking for an advanced and effective solution to find out best ingredient is best possible time.\n",
    "\n",
    "  - To tackle this problem they hired a genius team of data scientists. Consider you are one of them..."
   ]
  },
  {
   "cell_type": "markdown",
   "metadata": {
    "colab_type": "text",
    "id": "yzSAH3m9pLWi"
   },
   "source": [
    "---\n",
    "<a id = Section3></a>\n",
    "# **3. Installing & Importing Libraries**\n",
    "---\n",
    "\n",
    "- This section is emphasised on installing and importing the necessary libraries that will be required."
   ]
  },
  {
   "cell_type": "markdown",
   "metadata": {
    "colab_type": "text",
    "id": "M0y7joFPpOuQ"
   },
   "source": [
    "### **Installing Libraries**"
   ]
  },
  {
   "cell_type": "code",
   "execution_count": null,
   "metadata": {
    "colab": {},
    "colab_type": "code",
    "id": "S3pqantTnmxX"
   },
   "outputs": [],
   "source": [
    "!pip install -q datascience                                         # Package that is required by pandas profiling\n",
    "!pip install -q pandas-profiling                                    # Library to generate basic statistics about data\n",
    "# To install more libraries insert your code here.."
   ]
  },
  {
   "cell_type": "markdown",
   "metadata": {
    "colab_type": "text",
    "id": "pYQrkcl4pe8J"
   },
   "source": [
    "### **Upgrading Libraries**\n",
    "\n",
    "- **After upgrading** the libraries, you need to **restart the runtime** to make the libraries in sync.\n",
    "\n",
    "- Make sure not to execute the cell under Installing Libraries and Upgrading Libraries again after restarting the runtime."
   ]
  },
  {
   "cell_type": "code",
   "execution_count": null,
   "metadata": {
    "colab": {},
    "colab_type": "code",
    "id": "dmiiVvd-phhY"
   },
   "outputs": [],
   "source": [
    "!pip install -q --upgrade pandas-profiling                          # Upgrading pandas profiling to the latest version"
   ]
  },
  {
   "cell_type": "markdown",
   "metadata": {
    "colab_type": "text",
    "id": "PbyRyjDhpoJj"
   },
   "source": [
    "### **Importing Libraries**\n",
    "\n",
    "- You can headstart with the basic libraries as imported inside the cell below.\n",
    "\n",
    "- If you want to import some additional libraries, feel free to do so.\n"
   ]
  },
  {
   "cell_type": "code",
   "execution_count": null,
   "metadata": {
    "colab": {},
    "colab_type": "code",
    "id": "5RapekFlpptb"
   },
   "outputs": [],
   "source": [
    "#-------------------------------------------------------------------------------------------------------------------------------\n",
    "import pandas as pd                                                 # Importing package pandas (For Panel Data Analysis)\n",
    "from pandas_profiling import ProfileReport                          # Import Pandas Profiling (To generate Univariate Analysis)\n",
    "#-------------------------------------------------------------------------------------------------------------------------------\n",
    "import numpy as np                                                  # Importing package numpys (For Numerical Python)\n",
    "#-------------------------------------------------------------------------------------------------------------------------------\n",
    "import matplotlib.pyplot as plt                                     # Importing pyplot interface to use matplotlib\n",
    "import seaborn as sns                                               # Importing seaborn library for interactive visualization\n",
    "%matplotlib inline\n",
    "#-------------------------------------------------------------------------------------------------------------------------------\n",
    "import scipy as sp                                                  # Importing library for scientific calculations\n",
    "#-------------------------------------------------------------------------------------------------------------------------------"
   ]
  },
  {
   "cell_type": "markdown",
   "metadata": {
    "colab_type": "text",
    "id": "ys9Qb4OlpzvZ"
   },
   "source": [
    "---\n",
    "<a name = Section4></a>\n",
    "# **4. Data Acquisition & Description**\n",
    "---\n",
    "\n",
    "- This section is emphasised on the accquiring the data and obtain some descriptive information out of it.\n",
    "\n",
    "- You could either scrap the data and then continue, or use a direct source of link (generally preferred in most cases).\n",
    "\n",
    "- You will be working with a direct source of link to head start your work without worrying about anything.\n",
    "\n",
    "- Before going further you must have a good idea about the features of the data set:\n",
    "\n",
    "|Id|Feature|Description|\n",
    "|:--|:--|:--|\n",
    "|01||fixed acidity| most acids involved with wine or fixed or nonvolatile (do not evaporate readily).| \n",
    "|02|volatile acidity|the amount of acetic acid in wine, which at too high of levels can lead to an unpleasant, vinegar taste.| \n",
    "|03|citric acid|found in small quantities, citric acid can add ‘freshness’ and flavor to wines.| \n",
    "|04|residual sugar | the amount of sugar remaining after fermentation stops, it’s rare to find wines with less than 1 gram/liter |\n",
    "|||and wines with greater than 45 grams/liter are considered sweet.|\n",
    "|05| chlorides| the amount of salt in the wine.|\n",
    "|06| free sulfur dioxide  | free form of SO2 exists in equilibrium between molecular SO2 (as a dissolved gas) and bisulfite ion;|\n",
    "|||it prevents microbial growth and the oxidation of wine.|\n",
    "|07|  total sulfur dioxide | amount of free and bound forms of S02; in low concentrations, SO2 is mostly undetectable in wine,|\n",
    "|||but at free SO2 concentrations over 50 ppm, SO2 becomes evident in the nose and taste of wine|\n",
    "|08| density| the density of water is close to that of water depending on the percent alcohol and sugar content|\n",
    "|09| pH | describes how acidic or basic a wine is on a scale from 0 (very acidic) to 14 (very basic);|\n",
    "||| most wines are between 3-4 on the pH scale.|\n",
    "|10| sulphates| a wine additive which can contribute to sulfur dioxide gas (S02) levels, wich acts as an antimicrobial and antioxidant.|\n",
    "|11| alcohol| the percent alcohol content of the wine.|\n",
    "|12| quality| score between 0 to 10.| \n"
   ]
  },
  {
   "cell_type": "code",
   "execution_count": 2,
   "metadata": {
    "colab": {
     "base_uri": "https://localhost:8080/",
     "height": 221
    },
    "colab_type": "code",
    "executionInfo": {
     "elapsed": 1802,
     "status": "ok",
     "timestamp": 1600335494917,
     "user": {
      "displayName": "Mukesh Kumar",
      "photoUrl": "",
      "userId": "01238672520445611335"
     },
     "user_tz": -330
    },
    "id": "aXPrewndpw1T",
    "outputId": "5a580dc5-8379-45a4-81b0-4c4904c1bee4"
   },
   "outputs": [
    {
     "name": "stdout",
     "output_type": "stream",
     "text": [
      "Data Shape: (6497, 12)\n"
     ]
    },
    {
     "data": {
      "text/html": [
       "<div>\n",
       "<style scoped>\n",
       "    .dataframe tbody tr th:only-of-type {\n",
       "        vertical-align: middle;\n",
       "    }\n",
       "\n",
       "    .dataframe tbody tr th {\n",
       "        vertical-align: top;\n",
       "    }\n",
       "\n",
       "    .dataframe thead th {\n",
       "        text-align: right;\n",
       "    }\n",
       "</style>\n",
       "<table border=\"1\" class=\"dataframe\">\n",
       "  <thead>\n",
       "    <tr style=\"text-align: right;\">\n",
       "      <th></th>\n",
       "      <th>fixed acidity</th>\n",
       "      <th>volatile acidity</th>\n",
       "      <th>citric acid</th>\n",
       "      <th>residual sugar</th>\n",
       "      <th>chlorides</th>\n",
       "      <th>free sulfur dioxide</th>\n",
       "      <th>total sulfur dioxide</th>\n",
       "      <th>density</th>\n",
       "      <th>pH</th>\n",
       "      <th>sulphates</th>\n",
       "      <th>alcohol</th>\n",
       "      <th>quality</th>\n",
       "    </tr>\n",
       "  </thead>\n",
       "  <tbody>\n",
       "    <tr>\n",
       "      <th>0</th>\n",
       "      <td>7.4</td>\n",
       "      <td>0.70</td>\n",
       "      <td>0.00</td>\n",
       "      <td>1.9</td>\n",
       "      <td>0.076</td>\n",
       "      <td>11.0</td>\n",
       "      <td>34.0</td>\n",
       "      <td>0.9978</td>\n",
       "      <td>3.51</td>\n",
       "      <td>0.56</td>\n",
       "      <td>9.4</td>\n",
       "      <td>5</td>\n",
       "    </tr>\n",
       "    <tr>\n",
       "      <th>1</th>\n",
       "      <td>7.8</td>\n",
       "      <td>0.88</td>\n",
       "      <td>0.00</td>\n",
       "      <td>2.6</td>\n",
       "      <td>0.098</td>\n",
       "      <td>25.0</td>\n",
       "      <td>67.0</td>\n",
       "      <td>0.9968</td>\n",
       "      <td>3.20</td>\n",
       "      <td>0.68</td>\n",
       "      <td>9.8</td>\n",
       "      <td>5</td>\n",
       "    </tr>\n",
       "    <tr>\n",
       "      <th>2</th>\n",
       "      <td>7.8</td>\n",
       "      <td>0.76</td>\n",
       "      <td>0.04</td>\n",
       "      <td>2.3</td>\n",
       "      <td>0.092</td>\n",
       "      <td>15.0</td>\n",
       "      <td>54.0</td>\n",
       "      <td>0.9970</td>\n",
       "      <td>3.26</td>\n",
       "      <td>0.65</td>\n",
       "      <td>9.8</td>\n",
       "      <td>5</td>\n",
       "    </tr>\n",
       "    <tr>\n",
       "      <th>3</th>\n",
       "      <td>11.2</td>\n",
       "      <td>0.28</td>\n",
       "      <td>0.56</td>\n",
       "      <td>1.9</td>\n",
       "      <td>0.075</td>\n",
       "      <td>17.0</td>\n",
       "      <td>60.0</td>\n",
       "      <td>0.9980</td>\n",
       "      <td>3.16</td>\n",
       "      <td>0.58</td>\n",
       "      <td>9.8</td>\n",
       "      <td>6</td>\n",
       "    </tr>\n",
       "    <tr>\n",
       "      <th>4</th>\n",
       "      <td>7.4</td>\n",
       "      <td>0.70</td>\n",
       "      <td>0.00</td>\n",
       "      <td>1.9</td>\n",
       "      <td>0.076</td>\n",
       "      <td>11.0</td>\n",
       "      <td>34.0</td>\n",
       "      <td>0.9978</td>\n",
       "      <td>3.51</td>\n",
       "      <td>0.56</td>\n",
       "      <td>9.4</td>\n",
       "      <td>5</td>\n",
       "    </tr>\n",
       "  </tbody>\n",
       "</table>\n",
       "</div>"
      ],
      "text/plain": [
       "   fixed acidity  volatile acidity  citric acid  ...  sulphates  alcohol  quality\n",
       "0            7.4              0.70         0.00  ...       0.56      9.4        5\n",
       "1            7.8              0.88         0.00  ...       0.68      9.8        5\n",
       "2            7.8              0.76         0.04  ...       0.65      9.8        5\n",
       "3           11.2              0.28         0.56  ...       0.58      9.8        6\n",
       "4            7.4              0.70         0.00  ...       0.56      9.4        5\n",
       "\n",
       "[5 rows x 12 columns]"
      ]
     },
     "execution_count": 2,
     "metadata": {
      "tags": []
     },
     "output_type": "execute_result"
    }
   ],
   "source": [
    "data = pd.read_csv(filepath_or_buffer = 'https://raw.githubusercontent.com/insaid2018/Term-1/master/Data/Projects/winequality.csv')\n",
    "print('Data Shape:', data.shape)\n",
    "data.head()"
   ]
  },
  {
   "cell_type": "markdown",
   "metadata": {
    "colab_type": "text",
    "id": "FfkdFrL_qMPn"
   },
   "source": [
    "### **Data Description**\n",
    "\n",
    "- To get some quick description out of the data you can use describe method defined in pandas library."
   ]
  },
  {
   "cell_type": "code",
   "execution_count": null,
   "metadata": {
    "colab": {},
    "colab_type": "code",
    "id": "cLs4jsSuqJjC"
   },
   "outputs": [],
   "source": [
    "# Insert your code here..."
   ]
  },
  {
   "cell_type": "markdown",
   "metadata": {
    "colab_type": "text",
    "id": "lM-hljKpqXsp"
   },
   "source": [
    "### **Data Information**"
   ]
  },
  {
   "cell_type": "code",
   "execution_count": null,
   "metadata": {
    "colab": {},
    "colab_type": "code",
    "id": "aPYZy6voqXc4"
   },
   "outputs": [],
   "source": [
    "# Insert your code here..."
   ]
  },
  {
   "cell_type": "markdown",
   "metadata": {
    "colab_type": "text",
    "id": "efZ8svauqc55"
   },
   "source": [
    "---\n",
    "<a name = Section5></a>\n",
    "# **5. Data Pre-Profiling**\n",
    "---\n",
    "\n",
    "- This section is emphasised on getting a report about the data.\n",
    "\n",
    "- You need to perform pandas profiling and get some observations out of it..."
   ]
  },
  {
   "cell_type": "code",
   "execution_count": null,
   "metadata": {
    "colab": {},
    "colab_type": "code",
    "id": "VEHxAq8Zqcgo"
   },
   "outputs": [],
   "source": [
    "# Insert your code here..."
   ]
  },
  {
   "cell_type": "markdown",
   "metadata": {
    "colab_type": "text",
    "id": "YMvtK0X-qoe6"
   },
   "source": [
    "---\n",
    "<a name = Section6></a>\n",
    "# **6. Data Pre-Processing**\n",
    "---\n",
    "\n",
    "- This section is emphasised on performing data manipulation over unstructured data for further processing and analysis.\n",
    "\n",
    "- To modify unstructured data to strucuted data you need to verify and manipulate the integrity of the data by:\n",
    "  - Handling missing data,\n",
    "\n",
    "  - Handling redundant data,\n",
    "\n",
    "  - Handling inconsistent data,\n",
    "\n",
    "  - Handling outliers,\n",
    "\n",
    "  - Handling typos"
   ]
  },
  {
   "cell_type": "code",
   "execution_count": null,
   "metadata": {
    "colab": {},
    "colab_type": "code",
    "id": "FxzbSzWDqytZ"
   },
   "outputs": [],
   "source": [
    "# Insert your code here..."
   ]
  },
  {
   "cell_type": "markdown",
   "metadata": {
    "colab_type": "text",
    "id": "amsQwri2q1_J"
   },
   "source": [
    "---\n",
    "<a name = Section7></a>\n",
    "# **7. Data Post-Profiling**\n",
    "---\n",
    "\n",
    "- This section is emphasised on getting a report about the data after the data manipulation.\n",
    "\n",
    "- You may end up observing some new changes, so keep it under check and make right observations."
   ]
  },
  {
   "cell_type": "code",
   "execution_count": null,
   "metadata": {
    "colab": {},
    "colab_type": "code",
    "id": "87U7K8sWq1y5"
   },
   "outputs": [],
   "source": [
    "# Insert your code here..."
   ]
  },
  {
   "cell_type": "markdown",
   "metadata": {
    "colab_type": "text",
    "id": "taDvvLa9q-5p"
   },
   "source": [
    "---\n",
    "<a name = Section8></a>\n",
    "# **8. Exploratory Data Analysis**\n",
    "---\n",
    "\n",
    "- This section is emphasised on asking the right questions and perform analysis using the data.\n",
    "\n",
    "- Note that there is no limit how deep you can go, but make sure not to get distracted from right track."
   ]
  },
  {
   "cell_type": "code",
   "execution_count": null,
   "metadata": {
    "colab": {},
    "colab_type": "code",
    "id": "fwWa_FPerGCB"
   },
   "outputs": [],
   "source": [
    "# Insert your code here..."
   ]
  },
  {
   "cell_type": "markdown",
   "metadata": {
    "colab_type": "text",
    "id": "Pqk4cV2wrIIZ"
   },
   "source": [
    "---\n",
    "<a name = Section9></a>\n",
    "# **9. Summarization**\n",
    "---"
   ]
  },
  {
   "cell_type": "markdown",
   "metadata": {
    "colab_type": "text",
    "id": "wducAS9QrPfZ"
   },
   "source": [
    "<a name = Section91></a>\n",
    "### **9.1 Conclusion**\n",
    "\n",
    "- In this part you need to provide a conclusion about your overall analysis.\n",
    "\n",
    "- Write down some short points that you have observed so far."
   ]
  },
  {
   "cell_type": "markdown",
   "metadata": {
    "colab_type": "text",
    "id": "z3MtiiACrVJq"
   },
   "source": [
    "<a name = Section92></a>\n",
    "### **9.2 Actionable Insights**\n",
    "\n",
    "- This is a very crucial part where you will present your actionable insights.\n",
    "- You need to give suggestions about what could be applied and what not.\n",
    "- Make sure that these suggestions are short and to the point, ultimately it's a catalyst to your business."
   ]
  }
 ],
 "metadata": {
  "colab": {
   "authorship_tag": "ABX9TyMesZyh/+utXAgtYLRse33c",
   "collapsed_sections": [],
   "name": "Analysis on Wine Quality.ipynb",
   "provenance": []
  },
  "kernelspec": {
   "display_name": "Python 3 (ipykernel)",
   "language": "python",
   "name": "python3"
  },
  "language_info": {
   "codemirror_mode": {
    "name": "ipython",
    "version": 3
   },
   "file_extension": ".py",
   "mimetype": "text/x-python",
   "name": "python",
   "nbconvert_exporter": "python",
   "pygments_lexer": "ipython3",
   "version": "3.11.1"
  }
 },
 "nbformat": 4,
 "nbformat_minor": 1
}
